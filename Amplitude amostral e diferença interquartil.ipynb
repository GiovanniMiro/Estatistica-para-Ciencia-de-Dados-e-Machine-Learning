{
 "cells": [
  {
   "cell_type": "code",
   "execution_count": 19,
   "id": "ac568e50",
   "metadata": {},
   "outputs": [],
   "source": [
    "import numpy as np\n",
    "import pandas as pd\n",
    "import math\n",
    "import statistics"
   ]
  },
  {
   "cell_type": "code",
   "execution_count": 20,
   "id": "7dd2108e",
   "metadata": {},
   "outputs": [
    {
     "data": {
      "text/plain": [
       "array([160, 165, 167, 164, 160, 166, 160, 161, 150, 152, 173, 160, 155,\n",
       "       164, 168, 162, 161, 168, 163, 156, 155, 169, 151, 170, 164, 155,\n",
       "       152, 163, 160, 155, 157, 156, 158, 158, 161, 154, 161, 156, 172,\n",
       "       153])"
      ]
     },
     "execution_count": 20,
     "metadata": {},
     "output_type": "execute_result"
    }
   ],
   "source": [
    "dados = np.array([160, 165, 167, 164, 160, 166, 160, 161, 150, 152, 173, 160, 155,\n",
    "                  164, 168, 162, 161, 168, 163, 156, 155, 169, 151, 170, 164,\n",
    "                  155, 152, 163, 160, 155, 157, 156, 158, 158, 161, 154, 161, 156, 172, 153])\n",
    "dados"
   ]
  },
  {
   "cell_type": "code",
   "execution_count": 21,
   "id": "e5bc8109",
   "metadata": {},
   "outputs": [
    {
     "data": {
      "text/plain": [
       "23"
      ]
     },
     "execution_count": 21,
     "metadata": {},
     "output_type": "execute_result"
    }
   ],
   "source": [
    "total_amplitude = dados.max() - dados.min()\n",
    "total_amplitude"
   ]
  },
  {
   "cell_type": "code",
   "execution_count": 22,
   "id": "7c1650f3",
   "metadata": {},
   "outputs": [
    {
     "data": {
      "text/plain": [
       "(155.75, 160.0, 164.0)"
      ]
     },
     "execution_count": 22,
     "metadata": {},
     "output_type": "execute_result"
    }
   ],
   "source": [
    "q1 = np.quantile(dados, 0.25)\n",
    "q2 = np.median(dados)\n",
    "q3 = np.quantile(dados, 0.75)\n",
    "q1, q2, q3"
   ]
  },
  {
   "cell_type": "code",
   "execution_count": 23,
   "id": "5897edf4",
   "metadata": {},
   "outputs": [
    {
     "data": {
      "text/plain": [
       "8.25"
      ]
     },
     "execution_count": 23,
     "metadata": {},
     "output_type": "execute_result"
    }
   ],
   "source": [
    "interq_difference = q3 - q1\n",
    "interq_difference"
   ]
  },
  {
   "cell_type": "code",
   "execution_count": 24,
   "id": "3dbf4d4a",
   "metadata": {},
   "outputs": [
    {
     "data": {
      "text/plain": [
       "(143.375, 176.375)"
      ]
     },
     "execution_count": 24,
     "metadata": {},
     "output_type": "execute_result"
    }
   ],
   "source": [
    "inferior = q1 - (1.5 * interq_difference)\n",
    "superior = q3 + (1.5 * interq_difference)\n",
    "inferior, superior"
   ]
  },
  {
   "cell_type": "markdown",
   "id": "f3127956",
   "metadata": {},
   "source": [
    "ESTUDO"
   ]
  },
  {
   "cell_type": "code",
   "execution_count": 66,
   "id": "baa23f22",
   "metadata": {},
   "outputs": [
    {
     "data": {
      "text/plain": [
       "array([120,  80, 130, 143, 132,  98, 124, 120, 512, 155, 875])"
      ]
     },
     "execution_count": 66,
     "metadata": {},
     "output_type": "execute_result"
    }
   ],
   "source": [
    "data = np.array([120, 80, 130, 143, 132, 98, 124, 120, 512, 155, 875])\n",
    "data"
   ]
  },
  {
   "cell_type": "code",
   "execution_count": 67,
   "id": "655d2d41",
   "metadata": {},
   "outputs": [
    {
     "data": {
      "text/plain": [
       "array([ 80,  98, 120, 120, 124, 130, 132, 143, 155, 512, 875])"
      ]
     },
     "execution_count": 67,
     "metadata": {},
     "output_type": "execute_result"
    }
   ],
   "source": [
    "data = np.sort(data)\n",
    "data"
   ]
  },
  {
   "cell_type": "code",
   "execution_count": 68,
   "id": "a5257844",
   "metadata": {},
   "outputs": [
    {
     "data": {
      "text/plain": [
       "(120.0, 149.0)"
      ]
     },
     "execution_count": 68,
     "metadata": {},
     "output_type": "execute_result"
    }
   ],
   "source": [
    "q1 = np.quantile(data, 0.25)\n",
    "q3 = np.quantile(data, 0.75)\n",
    "q1, q3"
   ]
  },
  {
   "cell_type": "code",
   "execution_count": 69,
   "id": "38e155ff",
   "metadata": {},
   "outputs": [
    {
     "data": {
      "text/plain": [
       "29.0"
      ]
     },
     "execution_count": 69,
     "metadata": {},
     "output_type": "execute_result"
    }
   ],
   "source": [
    "di = q3 - q1\n",
    "di"
   ]
  },
  {
   "cell_type": "code",
   "execution_count": 70,
   "id": "02344734",
   "metadata": {},
   "outputs": [
    {
     "data": {
      "text/plain": [
       "(76.5, 192.5)"
      ]
     },
     "execution_count": 70,
     "metadata": {},
     "output_type": "execute_result"
    }
   ],
   "source": [
    "outlier_inf = q1 - (1.5 * di)\n",
    "outlier_sup = q3 + (1.5 * di)\n",
    "outlier_inf, outlier_sup"
   ]
  },
  {
   "cell_type": "code",
   "execution_count": 81,
   "id": "9b6ac92c",
   "metadata": {},
   "outputs": [
    {
     "data": {
      "text/plain": [
       "[80, 98, 120, 120, 124, 130, 132, 143, 155]"
      ]
     },
     "execution_count": 81,
     "metadata": {},
     "output_type": "execute_result"
    }
   ],
   "source": [
    "outliers = []\n",
    "for registro in data:\n",
    "    if registro < outlier_inf or registro > outlier_sup:\n",
    "        outliers.append(registro)\n",
    "\n",
    "data_clear = [valor for valor in data if valor not in outliers]\n",
    "data_clear"
   ]
  },
  {
   "cell_type": "code",
   "execution_count": null,
   "id": "b6a65e21",
   "metadata": {},
   "outputs": [],
   "source": []
  }
 ],
 "metadata": {
  "kernelspec": {
   "display_name": "Python 3 (ipykernel)",
   "language": "python",
   "name": "python3"
  },
  "language_info": {
   "codemirror_mode": {
    "name": "ipython",
    "version": 3
   },
   "file_extension": ".py",
   "mimetype": "text/x-python",
   "name": "python",
   "nbconvert_exporter": "python",
   "pygments_lexer": "ipython3",
   "version": "3.11.5"
  }
 },
 "nbformat": 4,
 "nbformat_minor": 5
}
