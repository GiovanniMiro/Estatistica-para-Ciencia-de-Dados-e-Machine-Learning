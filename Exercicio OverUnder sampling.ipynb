{
 "cells": [
  {
   "cell_type": "code",
   "execution_count": 7,
   "id": "7431b9f8",
   "metadata": {},
   "outputs": [],
   "source": [
    "import numpy as np\n",
    "import pandas as pd\n",
    "import seaborn as sns\n",
    "from sklearn.model_selection import train_test_split\n",
    "from sklearn.metrics import accuracy_score\n",
    "from sklearn.metrics import confusion_matrix\n",
    "from sklearn.ensemble import RandomForestClassifier\n",
    "from imblearn.over_sampling import SMOTE\n",
    "from imblearn.under_sampling import TomekLinks"
   ]
  },
  {
   "cell_type": "code",
   "execution_count": 8,
   "id": "dccd0233",
   "metadata": {},
   "outputs": [
    {
     "data": {
      "text/plain": [
       "(5806, 75)"
      ]
     },
     "execution_count": 8,
     "metadata": {},
     "output_type": "execute_result"
    }
   ],
   "source": [
    "dataset = pd.read_csv('csv_result-ebay_confianca_completo.csv')\n",
    "dataset.dropna(inplace=True)\n",
    "dataset.shape"
   ]
  },
  {
   "cell_type": "code",
   "execution_count": 9,
   "id": "47ee5439",
   "metadata": {},
   "outputs": [
    {
     "data": {
      "text/html": [
       "<div>\n",
       "<style scoped>\n",
       "    .dataframe tbody tr th:only-of-type {\n",
       "        vertical-align: middle;\n",
       "    }\n",
       "\n",
       "    .dataframe tbody tr th {\n",
       "        vertical-align: top;\n",
       "    }\n",
       "\n",
       "    .dataframe thead th {\n",
       "        text-align: right;\n",
       "    }\n",
       "</style>\n",
       "<table border=\"1\" class=\"dataframe\">\n",
       "  <thead>\n",
       "    <tr style=\"text-align: right;\">\n",
       "      <th></th>\n",
       "      <th>feedbacks</th>\n",
       "      <th>reviews</th>\n",
       "      <th>blacklist</th>\n",
       "      <th>mextraversion</th>\n",
       "      <th>cextraversion</th>\n",
       "      <th>sextraversion</th>\n",
       "      <th>mneuroticism</th>\n",
       "      <th>cneuroticism</th>\n",
       "      <th>sneuroticism</th>\n",
       "      <th>mconscientiousness</th>\n",
       "      <th>...</th>\n",
       "      <th>need_practicaly</th>\n",
       "      <th>need_selfexpression</th>\n",
       "      <th>need_stability</th>\n",
       "      <th>need_structure</th>\n",
       "      <th>value_conservation</th>\n",
       "      <th>value_openess</th>\n",
       "      <th>value_hedonism</th>\n",
       "      <th>value_selfenhancement</th>\n",
       "      <th>value_selftranscendence</th>\n",
       "      <th>reputation</th>\n",
       "    </tr>\n",
       "  </thead>\n",
       "  <tbody>\n",
       "    <tr>\n",
       "      <th>2</th>\n",
       "      <td>0</td>\n",
       "      <td>49</td>\n",
       "      <td>N</td>\n",
       "      <td>4.181642</td>\n",
       "      <td>0.6</td>\n",
       "      <td>1</td>\n",
       "      <td>2.777591</td>\n",
       "      <td>0.6</td>\n",
       "      <td>0</td>\n",
       "      <td>4.085460</td>\n",
       "      <td>...</td>\n",
       "      <td>0.696359</td>\n",
       "      <td>0.698786</td>\n",
       "      <td>0.756963</td>\n",
       "      <td>0.660119</td>\n",
       "      <td>0.619416</td>\n",
       "      <td>0.746372</td>\n",
       "      <td>0.640073</td>\n",
       "      <td>0.598037</td>\n",
       "      <td>0.828716</td>\n",
       "      <td>Bom</td>\n",
       "    </tr>\n",
       "    <tr>\n",
       "      <th>3</th>\n",
       "      <td>0</td>\n",
       "      <td>56</td>\n",
       "      <td>N</td>\n",
       "      <td>4.007042</td>\n",
       "      <td>0.6</td>\n",
       "      <td>0</td>\n",
       "      <td>2.698650</td>\n",
       "      <td>0.6</td>\n",
       "      <td>0</td>\n",
       "      <td>4.187338</td>\n",
       "      <td>...</td>\n",
       "      <td>0.715300</td>\n",
       "      <td>0.664572</td>\n",
       "      <td>0.728806</td>\n",
       "      <td>0.660740</td>\n",
       "      <td>0.588969</td>\n",
       "      <td>0.735915</td>\n",
       "      <td>0.644465</td>\n",
       "      <td>0.603042</td>\n",
       "      <td>0.809379</td>\n",
       "      <td>Bom</td>\n",
       "    </tr>\n",
       "    <tr>\n",
       "      <th>4</th>\n",
       "      <td>0</td>\n",
       "      <td>50</td>\n",
       "      <td>N</td>\n",
       "      <td>4.538230</td>\n",
       "      <td>0.7</td>\n",
       "      <td>1</td>\n",
       "      <td>2.298492</td>\n",
       "      <td>0.5</td>\n",
       "      <td>1</td>\n",
       "      <td>5.085833</td>\n",
       "      <td>...</td>\n",
       "      <td>0.720150</td>\n",
       "      <td>0.694678</td>\n",
       "      <td>0.669652</td>\n",
       "      <td>0.627962</td>\n",
       "      <td>0.553523</td>\n",
       "      <td>0.766618</td>\n",
       "      <td>0.655470</td>\n",
       "      <td>0.645042</td>\n",
       "      <td>0.826039</td>\n",
       "      <td>Bom</td>\n",
       "    </tr>\n",
       "    <tr>\n",
       "      <th>5</th>\n",
       "      <td>72</td>\n",
       "      <td>0</td>\n",
       "      <td>N</td>\n",
       "      <td>4.692854</td>\n",
       "      <td>0.3</td>\n",
       "      <td>0</td>\n",
       "      <td>2.987231</td>\n",
       "      <td>0.5</td>\n",
       "      <td>0</td>\n",
       "      <td>4.831320</td>\n",
       "      <td>...</td>\n",
       "      <td>0.739793</td>\n",
       "      <td>0.637027</td>\n",
       "      <td>0.697221</td>\n",
       "      <td>0.638587</td>\n",
       "      <td>0.675289</td>\n",
       "      <td>0.752234</td>\n",
       "      <td>0.679661</td>\n",
       "      <td>0.674438</td>\n",
       "      <td>0.813391</td>\n",
       "      <td>Bom</td>\n",
       "    </tr>\n",
       "    <tr>\n",
       "      <th>6</th>\n",
       "      <td>76</td>\n",
       "      <td>0</td>\n",
       "      <td>N</td>\n",
       "      <td>4.966753</td>\n",
       "      <td>0.3</td>\n",
       "      <td>0</td>\n",
       "      <td>3.048730</td>\n",
       "      <td>0.5</td>\n",
       "      <td>0</td>\n",
       "      <td>4.725294</td>\n",
       "      <td>...</td>\n",
       "      <td>0.718530</td>\n",
       "      <td>0.616852</td>\n",
       "      <td>0.692761</td>\n",
       "      <td>0.646695</td>\n",
       "      <td>0.677245</td>\n",
       "      <td>0.699785</td>\n",
       "      <td>0.648607</td>\n",
       "      <td>0.616075</td>\n",
       "      <td>0.816841</td>\n",
       "      <td>Bom</td>\n",
       "    </tr>\n",
       "  </tbody>\n",
       "</table>\n",
       "<p>5 rows × 75 columns</p>\n",
       "</div>"
      ],
      "text/plain": [
       "   feedbacks  reviews blacklist  mextraversion  cextraversion  sextraversion  \\\n",
       "2          0       49         N       4.181642            0.6              1   \n",
       "3          0       56         N       4.007042            0.6              0   \n",
       "4          0       50         N       4.538230            0.7              1   \n",
       "5         72        0         N       4.692854            0.3              0   \n",
       "6         76        0         N       4.966753            0.3              0   \n",
       "\n",
       "   mneuroticism  cneuroticism  sneuroticism  mconscientiousness  ...  \\\n",
       "2      2.777591           0.6             0            4.085460  ...   \n",
       "3      2.698650           0.6             0            4.187338  ...   \n",
       "4      2.298492           0.5             1            5.085833  ...   \n",
       "5      2.987231           0.5             0            4.831320  ...   \n",
       "6      3.048730           0.5             0            4.725294  ...   \n",
       "\n",
       "   need_practicaly  need_selfexpression  need_stability  need_structure  \\\n",
       "2         0.696359             0.698786        0.756963        0.660119   \n",
       "3         0.715300             0.664572        0.728806        0.660740   \n",
       "4         0.720150             0.694678        0.669652        0.627962   \n",
       "5         0.739793             0.637027        0.697221        0.638587   \n",
       "6         0.718530             0.616852        0.692761        0.646695   \n",
       "\n",
       "   value_conservation  value_openess  value_hedonism  value_selfenhancement  \\\n",
       "2            0.619416       0.746372        0.640073               0.598037   \n",
       "3            0.588969       0.735915        0.644465               0.603042   \n",
       "4            0.553523       0.766618        0.655470               0.645042   \n",
       "5            0.675289       0.752234        0.679661               0.674438   \n",
       "6            0.677245       0.699785        0.648607               0.616075   \n",
       "\n",
       "   value_selftranscendence  reputation  \n",
       "2                 0.828716         Bom  \n",
       "3                 0.809379         Bom  \n",
       "4                 0.826039         Bom  \n",
       "5                 0.813391         Bom  \n",
       "6                 0.816841         Bom  \n",
       "\n",
       "[5 rows x 75 columns]"
      ]
     },
     "execution_count": 9,
     "metadata": {},
     "output_type": "execute_result"
    }
   ],
   "source": [
    "dataset.head()"
   ]
  },
  {
   "cell_type": "code",
   "execution_count": 10,
   "id": "85a85a3f",
   "metadata": {},
   "outputs": [
    {
     "data": {
      "image/png": "[encoded data removed]",
      "text/plain": [
       "<Figure size 640x480 with 1 Axes>"
      ]
     },
     "metadata": {},
     "output_type": "display_data"
    }
   ],
   "source": [
    "sns.countplot(x=dataset['reputation']);"
   ]
  },
  {
   "cell_type": "code",
   "execution_count": 11,
   "id": "e11c8ebe",
   "metadata": {},
   "outputs": [],
   "source": [
    "dataset['blacklist'] = dataset['blacklist'] == 'S' #Passar de N e S para falso e verdadeiro."
   ]
  },
  {
   "cell_type": "code",
   "execution_count": 12,
   "id": "244494b8",
   "metadata": {},
   "outputs": [],
   "source": [
    "X = dataset.iloc[:,0:74].values\n",
    "y = dataset.iloc[:,74].values"
   ]
  },
  {
   "cell_type": "code",
   "execution_count": 13,
   "id": "50a161ab",
   "metadata": {},
   "outputs": [
    {
     "data": {
      "text/plain": [
       "((5806, 74),\n",
       " (5806,),\n",
       " (array(['Bom', 'Ruim'], dtype=object), array([4299, 1507], dtype=int64)))"
      ]
     },
     "execution_count": 13,
     "metadata": {},
     "output_type": "execute_result"
    }
   ],
   "source": [
    "X.shape, y.shape, np.unique(y, return_counts=True)"
   ]
  },
  {
   "cell_type": "markdown",
   "id": "05741bb7",
   "metadata": {},
   "source": [
    "Padrão"
   ]
  },
  {
   "cell_type": "code",
   "execution_count": 14,
   "id": "ba2dc8f6",
   "metadata": {},
   "outputs": [],
   "source": [
    "X_train, X_test, y_train, y_test = train_test_split(X, y, test_size = 0.2, stratify = y)"
   ]
  },
  {
   "cell_type": "code",
   "execution_count": 15,
   "id": "e0f15c2e",
   "metadata": {},
   "outputs": [
    {
     "data": {
      "text/plain": [
       "((4644, 74), (1162, 74))"
      ]
     },
     "execution_count": 15,
     "metadata": {},
     "output_type": "execute_result"
    }
   ],
   "source": [
    "X_train.shape, X_test.shape"
   ]
  },
  {
   "cell_type": "code",
   "execution_count": 16,
   "id": "902253a9",
   "metadata": {},
   "outputs": [
    {
     "data": {
      "text/plain": [
       "((4644,), (1162,))"
      ]
     },
     "execution_count": 16,
     "metadata": {},
     "output_type": "execute_result"
    }
   ],
   "source": [
    "y_train.shape, y_test.shape"
   ]
  },
  {
   "cell_type": "markdown",
   "id": "b794be64",
   "metadata": {},
   "source": [
    "TomekLinks"
   ]
  },
  {
   "cell_type": "code",
   "execution_count": 17,
   "id": "a68bf4c2",
   "metadata": {},
   "outputs": [],
   "source": [
    "tl = TomekLinks(sampling_strategy='majority')\n",
    "X_under, y_under = tl.fit_resample(X, y)"
   ]
  },
  {
   "cell_type": "code",
   "execution_count": 18,
   "id": "2c0c7772",
   "metadata": {},
   "outputs": [
    {
     "data": {
      "text/plain": [
       "((5417, 74),\n",
       " (5417,),\n",
       " (array(['Bom', 'Ruim'], dtype=object), array([3910, 1507], dtype=int64)))"
      ]
     },
     "execution_count": 18,
     "metadata": {},
     "output_type": "execute_result"
    }
   ],
   "source": [
    "X_under.shape, y_under.shape, np.unique(y_under, return_counts= True)"
   ]
  },
  {
   "cell_type": "code",
   "execution_count": 26,
   "id": "441bc299",
   "metadata": {},
   "outputs": [],
   "source": [
    "X_train_u, X_test_u, y_train_u, y_test_u = train_test_split(X_under, y_under, test_size=0.2, stratify= y_under)"
   ]
  },
  {
   "cell_type": "markdown",
   "id": "2ca06ef1",
   "metadata": {},
   "source": [
    "SMOTE"
   ]
  },
  {
   "cell_type": "code",
   "execution_count": 27,
   "id": "8adf8d73",
   "metadata": {},
   "outputs": [],
   "source": [
    "smote = SMOTE(sampling_strategy='minority')\n",
    "X_over, y_over = smote.fit_resample(X, y)"
   ]
  },
  {
   "cell_type": "code",
   "execution_count": 28,
   "id": "7176274b",
   "metadata": {},
   "outputs": [
    {
     "data": {
      "text/plain": [
       "((8598, 74),\n",
       " (8598,),\n",
       " (array(['Bom', 'Ruim'], dtype=object), array([4299, 4299], dtype=int64)))"
      ]
     },
     "execution_count": 28,
     "metadata": {},
     "output_type": "execute_result"
    }
   ],
   "source": [
    "X_over.shape, y_over.shape, np.unique(y_over, return_counts= True)"
   ]
  },
  {
   "cell_type": "code",
   "execution_count": 37,
   "id": "de56bcd7",
   "metadata": {},
   "outputs": [],
   "source": [
    "X_train_o, X_test_o, y_train_o, y_test_o = train_test_split(X_over, y_over, test_size=0.2, stratify= y_over)"
   ]
  },
  {
   "cell_type": "markdown",
   "id": "46ea713d",
   "metadata": {},
   "source": [
    "Função RandomForestClassifier (Ao invés do Naive-Bayes, por ser mais complexa)\n"
   ]
  },
  {
   "cell_type": "code",
   "execution_count": 51,
   "id": "76622ac2",
   "metadata": {},
   "outputs": [],
   "source": [
    "model = RandomForestClassifier()\n",
    "model_under = RandomForestClassifier()\n",
    "model_over = RandomForestClassifier()"
   ]
  },
  {
   "cell_type": "code",
   "execution_count": 52,
   "id": "a7e03499",
   "metadata": {},
   "outputs": [
    {
     "data": {
      "text/html": [
       "<style>#sk-container-id-2 {color: black;}#sk-container-id-2 pre{padding: 0;}#sk-container-id-2 div.sk-toggleable {background-color: white;}#sk-container-id-2 label.sk-toggleable__label {cursor: pointer;display: block;width: 100%;margin-bottom: 0;padding: 0.3em;box-sizing: border-box;text-align: center;}#sk-container-id-2 label.sk-toggleable__label-arrow:before {content: \"▸\";float: left;margin-right: 0.25em;color: #696969;}#sk-container-id-2 label.sk-toggleable__label-arrow:hover:before {color: black;}#sk-container-id-2 div.sk-estimator:hover label.sk-toggleable__label-arrow:before {color: black;}#sk-container-id-2 div.sk-toggleable__content {max-height: 0;max-width: 0;overflow: hidden;text-align: left;background-color: #f0f8ff;}#sk-container-id-2 div.sk-toggleable__content pre {margin: 0.2em;color: black;border-radius: 0.25em;background-color: #f0f8ff;}#sk-container-id-2 input.sk-toggleable__control:checked~div.sk-toggleable__content {max-height: 200px;max-width: 100%;overflow: auto;}#sk-container-id-2 input.sk-toggleable__control:checked~label.sk-toggleable__label-arrow:before {content: \"▾\";}#sk-container-id-2 div.sk-estimator input.sk-toggleable__control:checked~label.sk-toggleable__label {background-color: #d4ebff;}#sk-container-id-2 div.sk-label input.sk-toggleable__control:checked~label.sk-toggleable__label {background-color: #d4ebff;}#sk-container-id-2 input.sk-hidden--visually {border: 0;clip: rect(1px 1px 1px 1px);clip: rect(1px, 1px, 1px, 1px);height: 1px;margin: -1px;overflow: hidden;padding: 0;position: absolute;width: 1px;}#sk-container-id-2 div.sk-estimator {font-family: monospace;background-color: #f0f8ff;border: 1px dotted black;border-radius: 0.25em;box-sizing: border-box;margin-bottom: 0.5em;}#sk-container-id-2 div.sk-estimator:hover {background-color: #d4ebff;}#sk-container-id-2 div.sk-parallel-item::after {content: \"\";width: 100%;border-bottom: 1px solid gray;flex-grow: 1;}#sk-container-id-2 div.sk-label:hover label.sk-toggleable__label {background-color: #d4ebff;}#sk-container-id-2 div.sk-serial::before {content: \"\";position: absolute;border-left: 1px solid gray;box-sizing: border-box;top: 0;bottom: 0;left: 50%;z-index: 0;}#sk-container-id-2 div.sk-serial {display: flex;flex-direction: column;align-items: center;background-color: white;padding-right: 0.2em;padding-left: 0.2em;position: relative;}#sk-container-id-2 div.sk-item {position: relative;z-index: 1;}#sk-container-id-2 div.sk-parallel {display: flex;align-items: stretch;justify-content: center;background-color: white;position: relative;}#sk-container-id-2 div.sk-item::before, #sk-container-id-2 div.sk-parallel-item::before {content: \"\";position: absolute;border-left: 1px solid gray;box-sizing: border-box;top: 0;bottom: 0;left: 50%;z-index: -1;}#sk-container-id-2 div.sk-parallel-item {display: flex;flex-direction: column;z-index: 1;position: relative;background-color: white;}#sk-container-id-2 div.sk-parallel-item:first-child::after {align-self: flex-end;width: 50%;}#sk-container-id-2 div.sk-parallel-item:last-child::after {align-self: flex-start;width: 50%;}#sk-container-id-2 div.sk-parallel-item:only-child::after {width: 0;}#sk-container-id-2 div.sk-dashed-wrapped {border: 1px dashed gray;margin: 0 0.4em 0.5em 0.4em;box-sizing: border-box;padding-bottom: 0.4em;background-color: white;}#sk-container-id-2 div.sk-label label {font-family: monospace;font-weight: bold;display: inline-block;line-height: 1.2em;}#sk-container-id-2 div.sk-label-container {text-align: center;}#sk-container-id-2 div.sk-container {/* jupyter's `normalize.less` sets `[hidden] { display: none; }` but bootstrap.min.css set `[hidden] { display: none !important; }` so we also need the `!important` here to be able to override the default hidden behavior on the sphinx rendered scikit-learn.org. See: https://github.com/scikit-learn/scikit-learn/issues/21755 */display: inline-block !important;position: relative;}#sk-container-id-2 div.sk-text-repr-fallback {display: none;}</style><div id=\"sk-container-id-2\" class=\"sk-top-container\"><div class=\"sk-text-repr-fallback\"><pre>RandomForestClassifier()</pre><b>In a Jupyter environment, please rerun this cell to show the HTML representation or trust the notebook. <br />On GitHub, the HTML representation is unable to render, please try loading this page with nbviewer.org.</b></div><div class=\"sk-container\" hidden><div class=\"sk-item\"><div class=\"sk-estimator sk-toggleable\"><input class=\"sk-toggleable__control sk-hidden--visually\" id=\"sk-estimator-id-2\" type=\"checkbox\" checked><label for=\"sk-estimator-id-2\" class=\"sk-toggleable__label sk-toggleable__label-arrow\">RandomForestClassifier</label><div class=\"sk-toggleable__content\"><pre>RandomForestClassifier()</pre></div></div></div></div></div>"
      ],
      "text/plain": [
       "RandomForestClassifier()"
      ]
     },
     "execution_count": 52,
     "metadata": {},
     "output_type": "execute_result"
    }
   ],
   "source": [
    "model.fit(X_train, y_train)\n",
    "model_under.fit(X_train_u, y_train_u)\n",
    "model_over.fit(X_train_o, y_train_o)"
   ]
  },
  {
   "cell_type": "code",
   "execution_count": 53,
   "id": "73ae6e4a",
   "metadata": {},
   "outputs": [],
   "source": [
    "predict = model.predict(X_test)\n",
    "predict_under = model_under.predict(X_test_u)\n",
    "predict_over = model_over.predict(X_test_o)"
   ]
  },
  {
   "cell_type": "code",
   "execution_count": 54,
   "id": "bb3664a8",
   "metadata": {},
   "outputs": [
    {
     "data": {
      "text/plain": [
       "(array(['Bom', 'Bom', 'Bom', ..., 'Bom', 'Bom', 'Bom'], dtype=object),\n",
       " array(['Bom', 'Bom', 'Bom', ..., 'Bom', 'Bom', 'Bom'], dtype=object),\n",
       " array(['Ruim', 'Bom', 'Bom', ..., 'Ruim', 'Bom', 'Ruim'], dtype=object))"
      ]
     },
     "execution_count": 54,
     "metadata": {},
     "output_type": "execute_result"
    }
   ],
   "source": [
    "predict, predict_under, predict_over"
   ]
  },
  {
   "cell_type": "code",
   "execution_count": 55,
   "id": "e163ac46",
   "metadata": {},
   "outputs": [
    {
     "data": {
      "text/plain": [
       "(0.7452667814113597, 0.7269372693726938, 0.8156976744186046)"
      ]
     },
     "execution_count": 55,
     "metadata": {},
     "output_type": "execute_result"
    }
   ],
   "source": [
    "accuracy_score(predict, y_test), accuracy_score(predict_under, y_test_u), accuracy_score(predict_over, y_test_o)"
   ]
  },
  {
   "cell_type": "code",
   "execution_count": null,
   "id": "b5d30aab",
   "metadata": {},
   "outputs": [],
   "source": []
  }
 ],
 "metadata": {
  "kernelspec": {
   "display_name": "Python 3 (ipykernel)",
   "language": "python",
   "name": "python3"
  },
  "language_info": {
   "codemirror_mode": {
    "name": "ipython",
    "version": 3
   },
   "file_extension": ".py",
   "mimetype": "text/x-python",
   "name": "python",
   "nbconvert_exporter": "python",
   "pygments_lexer": "ipython3",
   "version": "3.11.5"
  }
 },
 "nbformat": 4,
 "nbformat_minor": 5
}
