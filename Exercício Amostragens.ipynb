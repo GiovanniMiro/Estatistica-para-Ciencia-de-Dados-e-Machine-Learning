{
 "cells": [
  {
   "cell_type": "markdown",
   "id": "4a259698",
   "metadata": {},
   "source": [
    "Importação das bibliotecas"
   ]
  },
  {
   "cell_type": "code",
   "execution_count": 2,
   "id": "fde41311",
   "metadata": {},
   "outputs": [],
   "source": [
    "import pandas as pd\n",
    "import numpy as np\n",
    "import random\n",
    "from sklearn.model_selection import StratifiedShuffleSplit"
   ]
  },
  {
   "cell_type": "markdown",
   "id": "e8d7ba7d",
   "metadata": {},
   "source": [
    "Amostragem Simples"
   ]
  },
  {
   "cell_type": "code",
   "execution_count": 4,
   "id": "9235df73",
   "metadata": {},
   "outputs": [],
   "source": [
    "def amostragemSimples(dataset, numero_amostras):\n",
    "    df_amostra_simples = dataset.sample(n=numero_amostras,random_state=1)\n",
    "    return df_amostra_simples"
   ]
  },
  {
   "cell_type": "markdown",
   "id": "4ce86fae",
   "metadata": {},
   "source": [
    "Amostragem Sistemática"
   ]
  },
  {
   "cell_type": "code",
   "execution_count": 8,
   "id": "aa29c722",
   "metadata": {},
   "outputs": [],
   "source": [
    "def amostragemSistematica(dataset, numero_amostras):\n",
    "    intervalo = len(dataset)//numero_amostras\n",
    "    random.seed(1)\n",
    "    inicio = random.randint(0,intervalo)\n",
    "    indices = np.arange(inicio,len(dataset),intervalo)\n",
    "    df_amostra_sistematica = dataset.iloc[indices]\n",
    "    return df_amostra_sistematica"
   ]
  },
  {
   "cell_type": "markdown",
   "id": "2883a11c",
   "metadata": {},
   "source": [
    "Amostragem por grupos"
   ]
  },
  {
   "cell_type": "code",
   "execution_count": 25,
   "id": "47cc3fb1",
   "metadata": {},
   "outputs": [],
   "source": [
    "def amostragemAgrupamento(dataset, numero_amostras):\n",
    "    grupos = []\n",
    "    id_grupo = 0\n",
    "    contagem = 0\n",
    "    for _ in dataset.iterrows():\n",
    "        grupos.append(id_grupo)\n",
    "        contagem += 1\n",
    "        if contagem > numero_amostras:\n",
    "            contagem = 0\n",
    "            id_grupo += 1\n",
    "    random.seed(1)\n",
    "    grupo_selecionado = random.randint(0,id_grupo)\n",
    "    dataset['grupo'] = grupos\n",
    "    df_amostra_agrupamento = dataset[dataset['grupo']==grupo_selecionado]\n",
    "    return df_amostra_agrupamento"
   ]
  },
  {
   "cell_type": "markdown",
   "id": "73d3587a",
   "metadata": {},
   "source": [
    "Amostragem Estratificada"
   ]
  },
  {
   "cell_type": "code",
   "execution_count": 28,
   "id": "43735e6e",
   "metadata": {},
   "outputs": [],
   "source": [
    "def amostragemEstratificada(dataset, numero_amostras):\n",
    "    porcentagem = numero_amostras/len(dataset)\n",
    "    split = StratifiedShuffleSplit(test_size=porcentagem, random_state=1)\n",
    "    for _,amostra_separada in split.split(dataset,dataset['c#default']):\n",
    "        df_amostra_estratificada = dataset.iloc[amostra_separada]\n",
    "    return df_amostra_estratificada"
   ]
  },
  {
   "cell_type": "markdown",
   "id": "f316a769",
   "metadata": {},
   "source": [
    "Amostragem de Reservatório"
   ]
  },
  {
   "cell_type": "code",
   "execution_count": 34,
   "id": "e3850ed3",
   "metadata": {},
   "outputs": [],
   "source": [
    "def amostragemReservatorio(dataset, numero_amostras):\n",
    "    stream = []\n",
    "    tamanho = len(dataset)\n",
    "    for i in range(tamanho):\n",
    "        stream.append(i)\n",
    "    i = 0\n",
    "    reservatorio = [0] * numero_amostras\n",
    "    for i in range(numero_amostras):\n",
    "        reservatorio[i] = stream[i]\n",
    "    \n",
    "    while i < tamanho:\n",
    "        j = random.randrange(i+1)\n",
    "        if j < numero_amostras:\n",
    "            reservatorio[j]=stream[i]\n",
    "        i += 1\n",
    "    return dataset.iloc[reservatorio]"
   ]
  },
  {
   "cell_type": "markdown",
   "id": "7e2a5454",
   "metadata": {},
   "source": [
    "Entrada de dados"
   ]
  },
  {
   "cell_type": "code",
   "execution_count": 18,
   "id": "e715bacd",
   "metadata": {},
   "outputs": [
    {
     "data": {
      "text/plain": [
       "(2000, 5)"
      ]
     },
     "execution_count": 18,
     "metadata": {},
     "output_type": "execute_result"
    }
   ],
   "source": [
    "dataset = pd.read_csv('credit_data.csv')\n",
    "dataset.shape"
   ]
  },
  {
   "cell_type": "code",
   "execution_count": 19,
   "id": "d03dcf5c",
   "metadata": {},
   "outputs": [
    {
     "data": {
      "text/html": [
       "<div>\n",
       "<style scoped>\n",
       "    .dataframe tbody tr th:only-of-type {\n",
       "        vertical-align: middle;\n",
       "    }\n",
       "\n",
       "    .dataframe tbody tr th {\n",
       "        vertical-align: top;\n",
       "    }\n",
       "\n",
       "    .dataframe thead th {\n",
       "        text-align: right;\n",
       "    }\n",
       "</style>\n",
       "<table border=\"1\" class=\"dataframe\">\n",
       "  <thead>\n",
       "    <tr style=\"text-align: right;\">\n",
       "      <th></th>\n",
       "      <th>i#clientid</th>\n",
       "      <th>income</th>\n",
       "      <th>age</th>\n",
       "      <th>loan</th>\n",
       "      <th>c#default</th>\n",
       "    </tr>\n",
       "  </thead>\n",
       "  <tbody>\n",
       "    <tr>\n",
       "      <th>0</th>\n",
       "      <td>1</td>\n",
       "      <td>66155.925095</td>\n",
       "      <td>59.017015</td>\n",
       "      <td>8106.532131</td>\n",
       "      <td>0</td>\n",
       "    </tr>\n",
       "    <tr>\n",
       "      <th>1</th>\n",
       "      <td>2</td>\n",
       "      <td>34415.153966</td>\n",
       "      <td>48.117153</td>\n",
       "      <td>6564.745018</td>\n",
       "      <td>0</td>\n",
       "    </tr>\n",
       "    <tr>\n",
       "      <th>2</th>\n",
       "      <td>3</td>\n",
       "      <td>57317.170063</td>\n",
       "      <td>63.108049</td>\n",
       "      <td>8020.953296</td>\n",
       "      <td>0</td>\n",
       "    </tr>\n",
       "    <tr>\n",
       "      <th>3</th>\n",
       "      <td>4</td>\n",
       "      <td>42709.534201</td>\n",
       "      <td>45.751972</td>\n",
       "      <td>6103.642260</td>\n",
       "      <td>0</td>\n",
       "    </tr>\n",
       "    <tr>\n",
       "      <th>4</th>\n",
       "      <td>5</td>\n",
       "      <td>66952.688845</td>\n",
       "      <td>18.584336</td>\n",
       "      <td>8770.099235</td>\n",
       "      <td>1</td>\n",
       "    </tr>\n",
       "  </tbody>\n",
       "</table>\n",
       "</div>"
      ],
      "text/plain": [
       "   i#clientid        income        age         loan  c#default\n",
       "0           1  66155.925095  59.017015  8106.532131          0\n",
       "1           2  34415.153966  48.117153  6564.745018          0\n",
       "2           3  57317.170063  63.108049  8020.953296          0\n",
       "3           4  42709.534201  45.751972  6103.642260          0\n",
       "4           5  66952.688845  18.584336  8770.099235          1"
      ]
     },
     "execution_count": 19,
     "metadata": {},
     "output_type": "execute_result"
    }
   ],
   "source": [
    "dataset.head()"
   ]
  },
  {
   "cell_type": "markdown",
   "id": "185d3746",
   "metadata": {},
   "source": [
    "Chamada das funções"
   ]
  },
  {
   "cell_type": "code",
   "execution_count": 36,
   "id": "635869a8",
   "metadata": {},
   "outputs": [],
   "source": [
    "numero_amostras = 1000\n",
    "df_amostra_simples = amostragemSimples(dataset,numero_amostras)\n",
    "df_amostra_sistematica = amostragemSistematica(dataset,numero_amostras)\n",
    "df_amostra_agrupamento = amostragemAgrupamento(dataset,numero_amostras)\n",
    "df_amostra_estratificada = amostragemEstratificada(dataset,numero_amostras)\n",
    "df_amostra_reservatorio = amostragemReservatorio(dataset,numero_amostras)"
   ]
  },
  {
   "cell_type": "markdown",
   "id": "c9fa6c0a",
   "metadata": {},
   "source": [
    "Verificação se as amostras foram coletadas igualmente."
   ]
  },
  {
   "cell_type": "code",
   "execution_count": 43,
   "id": "8c7e0de8",
   "metadata": {},
   "outputs": [
    {
     "data": {
      "text/plain": [
       "((1000, 6), (1000, 6), (1001, 6), (1000, 6), (1000, 6))"
      ]
     },
     "execution_count": 43,
     "metadata": {},
     "output_type": "execute_result"
    }
   ],
   "source": [
    "df_amostra_simples.shape, df_amostra_sistematica.shape, df_amostra_agrupamento.shape, df_amostra_estratificada.shape,df_amostra_reservatorio.shape"
   ]
  },
  {
   "cell_type": "markdown",
   "id": "2d7b53cc",
   "metadata": {},
   "source": [
    "Cálculo da média dos atributos AGE, INCOME e LOAN da base de dados."
   ]
  },
  {
   "cell_type": "code",
   "execution_count": 47,
   "id": "11d9f8d0",
   "metadata": {},
   "outputs": [
    {
     "data": {
      "text/plain": [
       "(40.80755937840458, 45331.600017793244, 4444.369694688258)"
      ]
     },
     "execution_count": 47,
     "metadata": {},
     "output_type": "execute_result"
    }
   ],
   "source": [
    "dataset['age'].mean(), dataset['income'].mean(), dataset['loan'].mean()"
   ]
  },
  {
   "cell_type": "markdown",
   "id": "f455d7fb",
   "metadata": {},
   "source": [
    "Agora para as amostras obtidas pelos métodos de amostragem."
   ]
  },
  {
   "cell_type": "code",
   "execution_count": 63,
   "id": "da1d00e9",
   "metadata": {},
   "outputs": [
    {
     "data": {
      "text/plain": [
       "(40.57203708208336, 45111.194297345355, 4429.634971370369)"
      ]
     },
     "execution_count": 63,
     "metadata": {},
     "output_type": "execute_result"
    }
   ],
   "source": [
    "df_amostra_simples['age'].mean(),df_amostra_simples['income'].mean(),df_amostra_simples['loan'].mean()"
   ]
  },
  {
   "cell_type": "code",
   "execution_count": 64,
   "id": "b30f93c9",
   "metadata": {},
   "outputs": [
    {
     "data": {
      "text/plain": [
       "(40.91117381141754, 45691.49875066942, 4506.78797642633)"
      ]
     },
     "execution_count": 64,
     "metadata": {},
     "output_type": "execute_result"
    }
   ],
   "source": [
    "df_amostra_sistematica['age'].mean(),df_amostra_sistematica['income'].mean(),df_amostra_sistematica['loan'].mean()"
   ]
  },
  {
   "cell_type": "code",
   "execution_count": 65,
   "id": "8c4c73a8",
   "metadata": {},
   "outputs": [
    {
     "data": {
      "text/plain": [
       "(41.0432231120503, 44846.74925986141, 4390.161493744205)"
      ]
     },
     "execution_count": 65,
     "metadata": {},
     "output_type": "execute_result"
    }
   ],
   "source": [
    "df_amostra_agrupamento['age'].mean(),df_amostra_agrupamento['income'].mean(),df_amostra_agrupamento['loan'].mean()"
   ]
  },
  {
   "cell_type": "code",
   "execution_count": 67,
   "id": "18f9b9e9",
   "metadata": {},
   "outputs": [
    {
     "data": {
      "text/plain": [
       "(40.53363707173919, 45101.366750267334, 4423.7446510941945)"
      ]
     },
     "execution_count": 67,
     "metadata": {},
     "output_type": "execute_result"
    }
   ],
   "source": [
    "df_amostra_estratificada['age'].mean(),df_amostra_estratificada['income'].mean(),df_amostra_estratificada['loan'].mean()\n"
   ]
  },
  {
   "cell_type": "code",
   "execution_count": 68,
   "id": "1514f54c",
   "metadata": {},
   "outputs": [
    {
     "data": {
      "text/plain": [
       "(40.57203708208336, 45111.194297345355, 4429.634971370369)"
      ]
     },
     "execution_count": 68,
     "metadata": {},
     "output_type": "execute_result"
    }
   ],
   "source": [
    "df_amostra_reservatorio['age'].mean(),df_amostra_reservatorio['income'].mean(),df_amostra_reservatorio['loan'].mean()"
   ]
  }
 ],
 "metadata": {
  "kernelspec": {
   "display_name": "Python 3 (ipykernel)",
   "language": "python",
   "name": "python3"
  },
  "language_info": {
   "codemirror_mode": {
    "name": "ipython",
    "version": 3
   },
   "file_extension": ".py",
   "mimetype": "text/x-python",
   "name": "python",
   "nbconvert_exporter": "python",
   "pygments_lexer": "ipython3",
   "version": "3.11.5"
  }
 },
 "nbformat": 4,
 "nbformat_minor": 5
}
