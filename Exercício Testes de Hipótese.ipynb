{
 "cells": [
  {
   "cell_type": "code",
   "execution_count": 11,
   "id": "e0e90f47",
   "metadata": {},
   "outputs": [],
   "source": [
    "import numpy as np\n",
    "import math\n",
    "from scipy.stats import norm\n",
    "from scipy.stats import ttest_rel"
   ]
  },
  {
   "cell_type": "code",
   "execution_count": 13,
   "id": "1268aa19",
   "metadata": {},
   "outputs": [
    {
     "data": {
      "text/plain": [
       "array([147., 149., 152., 156., 160., 160., 168., 175., 189.])"
      ]
     },
     "execution_count": 13,
     "metadata": {},
     "output_type": "execute_result"
    }
   ],
   "source": [
    "dados_originais = np.array([149. , 160., 147., 189., 175., 168., 156., 160., 152.])\n",
    "dados_originais = np.sort(dados_originais)\n",
    "dados_originais"
   ]
  },
  {
   "cell_type": "code",
   "execution_count": 14,
   "id": "a0da36dc",
   "metadata": {},
   "outputs": [
    {
     "data": {
      "text/plain": [
       "(161.77777777777777, 12.786953227391823)"
      ]
     },
     "execution_count": 14,
     "metadata": {},
     "output_type": "execute_result"
    }
   ],
   "source": [
    "dados_originais.mean(), np.std(dados_originais)"
   ]
  },
  {
   "cell_type": "code",
   "execution_count": 15,
   "id": "2f1c63f8",
   "metadata": {},
   "outputs": [
    {
     "data": {
      "text/plain": [
       "array([146.54430982, 149.23324136, 164.81458626, 167.20458877,\n",
       "       168.41168931, 170.95308413, 182.58763663, 184.93946538,\n",
       "       189.06694787])"
      ]
     },
     "execution_count": 15,
     "metadata": {},
     "output_type": "execute_result"
    }
   ],
   "source": [
    "dados_novos = np.random.uniform(145, 190, 9)\n",
    "dados_novos = np.sort(dados_novos)\n",
    "dados_novos"
   ]
  },
  {
   "cell_type": "code",
   "execution_count": 18,
   "id": "8eba1806",
   "metadata": {},
   "outputs": [
    {
     "data": {
      "text/plain": [
       "(169.3061721694384, 13.985761630868279)"
      ]
     },
     "execution_count": 18,
     "metadata": {},
     "output_type": "execute_result"
    }
   ],
   "source": [
    "dados_novos.mean(), np.std(dados_novos)"
   ]
  },
  {
   "cell_type": "code",
   "execution_count": 22,
   "id": "6cbec8e0",
   "metadata": {},
   "outputs": [
    {
     "data": {
      "text/plain": [
       "0.005219251469526655"
      ]
     },
     "execution_count": 22,
     "metadata": {},
     "output_type": "execute_result"
    }
   ],
   "source": [
    "_, p = ttest_rel(dados_originais, dados_novos)\n",
    "p"
   ]
  },
  {
   "cell_type": "code",
   "execution_count": 23,
   "id": "88753abb",
   "metadata": {},
   "outputs": [
    {
     "name": "stdout",
     "output_type": "stream",
     "text": [
      "Hipótese nula rejeitada\n"
     ]
    }
   ],
   "source": [
    "alpha = 0.01\n",
    "if p <= alpha:\n",
    "    print('Hipótese nula rejeitada')\n",
    "else: \n",
    "    print('Hipótese alternativa rejeitada')"
   ]
  },
  {
   "cell_type": "code",
   "execution_count": null,
   "id": "3f209cee",
   "metadata": {},
   "outputs": [],
   "source": []
  }
 ],
 "metadata": {
  "kernelspec": {
   "display_name": "Python 3 (ipykernel)",
   "language": "python",
   "name": "python3"
  },
  "language_info": {
   "codemirror_mode": {
    "name": "ipython",
    "version": 3
   },
   "file_extension": ".py",
   "mimetype": "text/x-python",
   "name": "python",
   "nbconvert_exporter": "python",
   "pygments_lexer": "ipython3",
   "version": "3.11.5"
  }
 },
 "nbformat": 4,
 "nbformat_minor": 5
}
