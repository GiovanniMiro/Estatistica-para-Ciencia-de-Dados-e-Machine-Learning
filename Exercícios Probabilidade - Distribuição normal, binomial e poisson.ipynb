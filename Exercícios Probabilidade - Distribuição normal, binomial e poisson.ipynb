{
 "cells": [
  {
   "cell_type": "code",
   "execution_count": 5,
   "id": "edbad7b4",
   "metadata": {},
   "outputs": [],
   "source": [
    "import pandas as pd\n",
    "import numpy as np\n",
    "import seaborn as sns\n",
    "from scipy import stats"
   ]
  },
  {
   "cell_type": "markdown",
   "id": "a0c3aeff",
   "metadata": {},
   "source": [
    "# Exercício 1"
   ]
  },
  {
   "cell_type": "code",
   "execution_count": 2,
   "id": "88a28574",
   "metadata": {},
   "outputs": [],
   "source": [
    "n_questoes = 50\n",
    "n_acertos = 40\n",
    "media = 24\n",
    "dp = 8"
   ]
  },
  {
   "cell_type": "code",
   "execution_count": 9,
   "id": "77af2fd1",
   "metadata": {},
   "outputs": [
    {
     "data": {
      "text/plain": [
       "2.0"
      ]
     },
     "execution_count": 9,
     "metadata": {},
     "output_type": "execute_result"
    }
   ],
   "source": [
    "padronizado = (n_acertos - media)/dp\n",
    "padronizado"
   ]
  },
  {
   "cell_type": "code",
   "execution_count": 14,
   "id": "b96cebd7",
   "metadata": {},
   "outputs": [
    {
     "data": {
      "text/plain": [
       "97.72498680518208"
      ]
     },
     "execution_count": 14,
     "metadata": {},
     "output_type": "execute_result"
    }
   ],
   "source": [
    "stats.norm.cdf(padronizado) * 100"
   ]
  },
  {
   "cell_type": "code",
   "execution_count": 15,
   "id": "0964b23e",
   "metadata": {},
   "outputs": [
    {
     "data": {
      "text/plain": [
       "97.72498680518208"
      ]
     },
     "execution_count": 15,
     "metadata": {},
     "output_type": "execute_result"
    }
   ],
   "source": [
    "stats.norm.cdf(n_acertos, media, dp) * 100"
   ]
  },
  {
   "cell_type": "markdown",
   "id": "8404d1c9",
   "metadata": {},
   "source": [
    "# Exercício 2"
   ]
  },
  {
   "cell_type": "code",
   "execution_count": 19,
   "id": "e6d5abd3",
   "metadata": {},
   "outputs": [],
   "source": [
    "media = 38000\n",
    "dp = 3000\n",
    "a = 35000\n",
    "b = 44000"
   ]
  },
  {
   "cell_type": "code",
   "execution_count": 25,
   "id": "0c2c428e",
   "metadata": {},
   "outputs": [
    {
     "data": {
      "text/plain": [
       "84.1344746068543"
      ]
     },
     "execution_count": 25,
     "metadata": {},
     "output_type": "execute_result"
    }
   ],
   "source": [
    "stats.norm.sf(a, media, dp) * 100"
   ]
  },
  {
   "cell_type": "code",
   "execution_count": 26,
   "id": "e01de5bc",
   "metadata": {},
   "outputs": [
    {
     "data": {
      "text/plain": [
       "2.2750131948179195"
      ]
     },
     "execution_count": 26,
     "metadata": {},
     "output_type": "execute_result"
    }
   ],
   "source": [
    "stats.norm.sf(b, media, dp) * 100"
   ]
  },
  {
   "cell_type": "markdown",
   "id": "ed27823b",
   "metadata": {},
   "source": [
    "# Exercício 3"
   ]
  },
  {
   "cell_type": "code",
   "execution_count": 6,
   "id": "bca1835c",
   "metadata": {},
   "outputs": [],
   "source": [
    "n = 10\n",
    "x = 7\n",
    "p = 0.7"
   ]
  },
  {
   "cell_type": "code",
   "execution_count": 8,
   "id": "801085af",
   "metadata": {},
   "outputs": [
    {
     "data": {
      "text/plain": [
       "26.682793200000006"
      ]
     },
     "execution_count": 8,
     "metadata": {},
     "output_type": "execute_result"
    }
   ],
   "source": [
    "stats.binom.pmf(x, n, p) * 100"
   ]
  },
  {
   "cell_type": "markdown",
   "id": "df2f0dd7",
   "metadata": {},
   "source": [
    "# Exercício 4 "
   ]
  },
  {
   "cell_type": "code",
   "execution_count": 12,
   "id": "cc009896",
   "metadata": {},
   "outputs": [],
   "source": [
    "p = 0.05\n",
    "n = 50\n",
    "x1 = 1 #Somente um parafuso defeituoso\n",
    "x2 = 0 "
   ]
  },
  {
   "cell_type": "code",
   "execution_count": 13,
   "id": "31fdde26",
   "metadata": {},
   "outputs": [
    {
     "data": {
      "text/plain": [
       "20.24867770439825"
      ]
     },
     "execution_count": 13,
     "metadata": {},
     "output_type": "execute_result"
    }
   ],
   "source": [
    "stats.binom.pmf(x1, n, p) * 100"
   ]
  },
  {
   "cell_type": "code",
   "execution_count": 14,
   "id": "ab050bbb",
   "metadata": {},
   "outputs": [
    {
     "data": {
      "text/plain": [
       "7.694497527671336"
      ]
     },
     "execution_count": 14,
     "metadata": {},
     "output_type": "execute_result"
    }
   ],
   "source": [
    "stats.binom.pmf(x2, n, p) * 100"
   ]
  },
  {
   "cell_type": "markdown",
   "id": "63a5fc90",
   "metadata": {},
   "source": [
    "# Exercício 5 "
   ]
  },
  {
   "cell_type": "code",
   "execution_count": 17,
   "id": "a5aeac33",
   "metadata": {},
   "outputs": [],
   "source": [
    "media = 0.05\n",
    "x_1 = 1\n",
    "x_0 = 0"
   ]
  },
  {
   "cell_type": "code",
   "execution_count": 19,
   "id": "8e89e5df",
   "metadata": {},
   "outputs": [
    {
     "data": {
      "text/plain": [
       "4.756147122503571"
      ]
     },
     "execution_count": 19,
     "metadata": {},
     "output_type": "execute_result"
    }
   ],
   "source": [
    "stats.poisson.pmf(x_1, media) * 100"
   ]
  },
  {
   "cell_type": "code",
   "execution_count": 20,
   "id": "8e686518",
   "metadata": {},
   "outputs": [
    {
     "data": {
      "text/plain": [
       "95.1229424500714"
      ]
     },
     "execution_count": 20,
     "metadata": {},
     "output_type": "execute_result"
    }
   ],
   "source": [
    "stats.poisson.pmf(x_0, media) * 100"
   ]
  },
  {
   "cell_type": "markdown",
   "id": "a8100a07",
   "metadata": {},
   "source": [
    "# Exercício 6 "
   ]
  },
  {
   "cell_type": "code",
   "execution_count": 21,
   "id": "40424ef9",
   "metadata": {},
   "outputs": [],
   "source": [
    "media = 50\n",
    "x = 5"
   ]
  },
  {
   "cell_type": "code",
   "execution_count": 23,
   "id": "6ed3e408",
   "metadata": {},
   "outputs": [
    {
     "data": {
      "text/plain": [
       "5.0227860624060495e-14"
      ]
     },
     "execution_count": 23,
     "metadata": {},
     "output_type": "execute_result"
    }
   ],
   "source": [
    "stats.poisson.pmf(x, media) * 100"
   ]
  },
  {
   "cell_type": "code",
   "execution_count": null,
   "id": "26585781",
   "metadata": {},
   "outputs": [],
   "source": []
  }
 ],
 "metadata": {
  "kernelspec": {
   "display_name": "Python 3 (ipykernel)",
   "language": "python",
   "name": "python3"
  },
  "language_info": {
   "codemirror_mode": {
    "name": "ipython",
    "version": 3
   },
   "file_extension": ".py",
   "mimetype": "text/x-python",
   "name": "python",
   "nbconvert_exporter": "python",
   "pygments_lexer": "ipython3",
   "version": "3.11.5"
  }
 },
 "nbformat": 4,
 "nbformat_minor": 5
}
