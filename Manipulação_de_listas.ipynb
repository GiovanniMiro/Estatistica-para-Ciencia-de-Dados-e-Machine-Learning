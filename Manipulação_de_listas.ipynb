{
  "nbformat": 4,
  "nbformat_minor": 0,
  "metadata": {
    "colab": {
      "provenance": []
    },
    "kernelspec": {
      "name": "python3",
      "display_name": "Python 3"
    },
    "language_info": {
      "name": "python"
    }
  },
  "cells": [
    {
      "cell_type": "code",
      "execution_count": 20,
      "metadata": {
        "id": "rxgLGgFG74YJ"
      },
      "outputs": [],
      "source": [
        "frutas = ['maça','banana','uva']"
      ]
    },
    {
      "cell_type": "markdown",
      "source": [
        "Adicionar um item"
      ],
      "metadata": {
        "id": "dWEKyf7L8Gtf"
      }
    },
    {
      "cell_type": "code",
      "source": [
        "frutas.append('laranja')\n",
        "frutas"
      ],
      "metadata": {
        "colab": {
          "base_uri": "https://localhost:8080/"
        },
        "id": "kagAOGls8KjD",
        "outputId": "e68f434b-f87f-4872-dd47-a1aec10ac53c"
      },
      "execution_count": 21,
      "outputs": [
        {
          "output_type": "execute_result",
          "data": {
            "text/plain": [
              "['maça', 'banana', 'uva', 'laranja']"
            ]
          },
          "metadata": {},
          "execution_count": 21
        }
      ]
    },
    {
      "cell_type": "markdown",
      "source": [
        "Adicionar um item em uma posição específica"
      ],
      "metadata": {
        "id": "dNzqP8Z79jqW"
      }
    },
    {
      "cell_type": "code",
      "source": [
        "frutas.insert(2,'manga')\n",
        "frutas"
      ],
      "metadata": {
        "colab": {
          "base_uri": "https://localhost:8080/"
        },
        "id": "M6UPCaSc9mlx",
        "outputId": "18ed8db7-48a8-4082-c711-3675036233b8"
      },
      "execution_count": 22,
      "outputs": [
        {
          "output_type": "execute_result",
          "data": {
            "text/plain": [
              "['maça', 'banana', 'manga', 'uva', 'laranja']"
            ]
          },
          "metadata": {},
          "execution_count": 22
        }
      ]
    },
    {
      "cell_type": "markdown",
      "source": [
        "Remover um item"
      ],
      "metadata": {
        "id": "MCAwuhKJ8hVR"
      }
    },
    {
      "cell_type": "code",
      "source": [
        "frutas.remove('maça')\n",
        "frutas"
      ],
      "metadata": {
        "colab": {
          "base_uri": "https://localhost:8080/"
        },
        "id": "fCttDZUu8TPT",
        "outputId": "769298d1-d4ac-40aa-e2ee-e744d746be34"
      },
      "execution_count": 23,
      "outputs": [
        {
          "output_type": "execute_result",
          "data": {
            "text/plain": [
              "['banana', 'manga', 'uva', 'laranja']"
            ]
          },
          "metadata": {},
          "execution_count": 23
        }
      ]
    },
    {
      "cell_type": "markdown",
      "source": [
        "Modificar um item"
      ],
      "metadata": {
        "id": "xh5CefZi9GA0"
      }
    },
    {
      "cell_type": "code",
      "source": [
        "frutas[0] = 'tomate'\n",
        "frutas"
      ],
      "metadata": {
        "colab": {
          "base_uri": "https://localhost:8080/"
        },
        "id": "9Q2Xetia87wL",
        "outputId": "0964a38d-426f-45c0-af0c-29166ab3e99a"
      },
      "execution_count": 24,
      "outputs": [
        {
          "output_type": "execute_result",
          "data": {
            "text/plain": [
              "['tomate', 'manga', 'uva', 'laranja']"
            ]
          },
          "metadata": {},
          "execution_count": 24
        }
      ]
    },
    {
      "cell_type": "markdown",
      "source": [
        "Conferir o tamanho de uma lista"
      ],
      "metadata": {
        "id": "Q5EJ_8Nj9_dh"
      }
    },
    {
      "cell_type": "code",
      "source": [
        "len(frutas)"
      ],
      "metadata": {
        "colab": {
          "base_uri": "https://localhost:8080/"
        },
        "id": "TegtqDbW9NO_",
        "outputId": "7d077999-fde7-4811-8364-d8c72c81d7b8"
      },
      "execution_count": 25,
      "outputs": [
        {
          "output_type": "execute_result",
          "data": {
            "text/plain": [
              "4"
            ]
          },
          "metadata": {},
          "execution_count": 25
        }
      ]
    },
    {
      "cell_type": "code",
      "source": [],
      "metadata": {
        "id": "jqrj-iNv-Dxl"
      },
      "execution_count": null,
      "outputs": []
    }
  ]
}