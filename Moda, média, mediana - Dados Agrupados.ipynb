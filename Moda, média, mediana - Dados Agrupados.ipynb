{
 "cells": [
  {
   "cell_type": "code",
   "execution_count": 47,
   "id": "37aef63a",
   "metadata": {},
   "outputs": [],
   "source": [
    "import numpy as np\n",
    "import pandas as pd\n",
    "import math\n",
    "import statistics\n",
    "from scipy import stats"
   ]
  },
  {
   "cell_type": "code",
   "execution_count": 48,
   "id": "81ac5a03",
   "metadata": {},
   "outputs": [],
   "source": [
    "dados = np.array([160, 165, 167, 164, 160, 166, 160, 161, 150, 152, 173, 160, 155,\n",
    "                  164, 168, 162, 161, 168, 163, 156, 155, 169, 151, 170, 164,\n",
    "                  155, 152, 163, 160, 155, 157, 156, 158, 158, 161, 154, 161, 156, 172, 153])"
   ]
  },
  {
   "cell_type": "code",
   "execution_count": 49,
   "id": "4dd4c12a",
   "metadata": {},
   "outputs": [
    {
     "data": {
      "text/plain": [
       "array([150, 151, 152, 152, 153, 154, 155, 155, 155, 155, 156, 156, 156,\n",
       "       157, 158, 158, 160, 160, 160, 160, 160, 161, 161, 161, 161, 162,\n",
       "       163, 163, 164, 164, 164, 165, 166, 167, 168, 168, 169, 170, 172,\n",
       "       173])"
      ]
     },
     "execution_count": 49,
     "metadata": {},
     "output_type": "execute_result"
    }
   ],
   "source": [
    "dados = np.sort(dados)\n",
    "dados"
   ]
  },
  {
   "cell_type": "code",
   "execution_count": 50,
   "id": "6f6baa8b",
   "metadata": {},
   "outputs": [
    {
     "data": {
      "text/plain": [
       "(150, 173, array([150, 154, 158, 162, 166, 170, 174]))"
      ]
     },
     "execution_count": 50,
     "metadata": {},
     "output_type": "execute_result"
    }
   ],
   "source": [
    "minimo = dados.min()\n",
    "maximo = dados.max()\n",
    "i = 6 #Número de classes\n",
    "AA = maximo - minimo\n",
    "h = math.ceil(AA/i)\n",
    "intervalos = np.arange(minimo,maximo+2,step = h)\n",
    "minimo, maximo, intervalos"
   ]
  },
  {
   "cell_type": "code",
   "execution_count": 51,
   "id": "27b1877c",
   "metadata": {},
   "outputs": [
    {
     "data": {
      "text/plain": [
       "(array([150, 154, 158, 162, 166, 170]), array([154, 158, 162, 166, 170, 174]))"
      ]
     },
     "execution_count": 51,
     "metadata": {},
     "output_type": "execute_result"
    }
   ],
   "source": [
    "inferior = intervalos[0:len(intervalos)-1]\n",
    "superior = intervalos[1:len(intervalos)]\n",
    "inferior, superior"
   ]
  },
  {
   "cell_type": "code",
   "execution_count": 52,
   "id": "a3ef35e5",
   "metadata": {},
   "outputs": [
    {
     "data": {
      "text/plain": [
       "[5, 9, 11, 7, 5, 3]"
      ]
     },
     "execution_count": 52,
     "metadata": {},
     "output_type": "execute_result"
    }
   ],
   "source": [
    "fi = [0]*i\n",
    "for j in range(len(dados)):\n",
    "    if dados[j] >= inferior[0] and dados[j] < superior[0]:\n",
    "        fi[0] += 1\n",
    "    if dados[j] >= inferior[1] and dados[j] < superior[1]:\n",
    "        fi[1] += 1\n",
    "    if dados[j] >= inferior[2] and dados[j] < superior[2]:\n",
    "        fi[2] += 1\n",
    "    if dados[j] >= inferior[3] and dados[j] < superior[3]:\n",
    "        fi[3] += 1\n",
    "    if dados[j] >= inferior[4] and dados[j] < superior[4]:\n",
    "        fi[4] += 1\n",
    "    if dados[j] >= inferior[5] and dados[j] < superior[5]:\n",
    "        fi[5] += 1\n",
    "\n",
    "fi"
   ]
  },
  {
   "cell_type": "code",
   "execution_count": 53,
   "id": "d9cb18ed",
   "metadata": {},
   "outputs": [
    {
     "data": {
      "text/plain": [
       "['150-154', '154-158', '158-162', '162-166', '166-170', '170-174']"
      ]
     },
     "execution_count": 53,
     "metadata": {},
     "output_type": "execute_result"
    }
   ],
   "source": [
    "estatura = []\n",
    "for z in range(len(fi)):\n",
    "    estatura.append(str(inferior[z]) + '-' + str(superior[z]))\n",
    "\n",
    "estatura"
   ]
  },
  {
   "cell_type": "code",
   "execution_count": 54,
   "id": "691c98c6",
   "metadata": {},
   "outputs": [],
   "source": [
    "dataset = pd.DataFrame({'Estatura (cm)': estatura, 'fi': fi})"
   ]
  },
  {
   "cell_type": "code",
   "execution_count": 55,
   "id": "e0280c4d",
   "metadata": {},
   "outputs": [
    {
     "data": {
      "text/html": [
       "<div>\n",
       "<style scoped>\n",
       "    .dataframe tbody tr th:only-of-type {\n",
       "        vertical-align: middle;\n",
       "    }\n",
       "\n",
       "    .dataframe tbody tr th {\n",
       "        vertical-align: top;\n",
       "    }\n",
       "\n",
       "    .dataframe thead th {\n",
       "        text-align: right;\n",
       "    }\n",
       "</style>\n",
       "<table border=\"1\" class=\"dataframe\">\n",
       "  <thead>\n",
       "    <tr style=\"text-align: right;\">\n",
       "      <th></th>\n",
       "      <th>Estatura (cm)</th>\n",
       "      <th>fi</th>\n",
       "    </tr>\n",
       "  </thead>\n",
       "  <tbody>\n",
       "    <tr>\n",
       "      <th>0</th>\n",
       "      <td>150-154</td>\n",
       "      <td>5</td>\n",
       "    </tr>\n",
       "    <tr>\n",
       "      <th>1</th>\n",
       "      <td>154-158</td>\n",
       "      <td>9</td>\n",
       "    </tr>\n",
       "    <tr>\n",
       "      <th>2</th>\n",
       "      <td>158-162</td>\n",
       "      <td>11</td>\n",
       "    </tr>\n",
       "    <tr>\n",
       "      <th>3</th>\n",
       "      <td>162-166</td>\n",
       "      <td>7</td>\n",
       "    </tr>\n",
       "    <tr>\n",
       "      <th>4</th>\n",
       "      <td>166-170</td>\n",
       "      <td>5</td>\n",
       "    </tr>\n",
       "    <tr>\n",
       "      <th>5</th>\n",
       "      <td>170-174</td>\n",
       "      <td>3</td>\n",
       "    </tr>\n",
       "  </tbody>\n",
       "</table>\n",
       "</div>"
      ],
      "text/plain": [
       "  Estatura (cm)  fi\n",
       "0       150-154   5\n",
       "1       154-158   9\n",
       "2       158-162  11\n",
       "3       162-166   7\n",
       "4       166-170   5\n",
       "5       170-174   3"
      ]
     },
     "execution_count": 55,
     "metadata": {},
     "output_type": "execute_result"
    }
   ],
   "source": [
    "dataset"
   ]
  },
  {
   "cell_type": "code",
   "execution_count": 56,
   "id": "b106a81a",
   "metadata": {},
   "outputs": [
    {
     "data": {
      "text/html": [
       "<div>\n",
       "<style scoped>\n",
       "    .dataframe tbody tr th:only-of-type {\n",
       "        vertical-align: middle;\n",
       "    }\n",
       "\n",
       "    .dataframe tbody tr th {\n",
       "        vertical-align: top;\n",
       "    }\n",
       "\n",
       "    .dataframe thead th {\n",
       "        text-align: right;\n",
       "    }\n",
       "</style>\n",
       "<table border=\"1\" class=\"dataframe\">\n",
       "  <thead>\n",
       "    <tr style=\"text-align: right;\">\n",
       "      <th></th>\n",
       "      <th>Estatura (cm)</th>\n",
       "      <th>fi</th>\n",
       "      <th>xi</th>\n",
       "      <th>fi.xi</th>\n",
       "    </tr>\n",
       "  </thead>\n",
       "  <tbody>\n",
       "    <tr>\n",
       "      <th>0</th>\n",
       "      <td>150-154</td>\n",
       "      <td>5</td>\n",
       "      <td>152.0</td>\n",
       "      <td>760.0</td>\n",
       "    </tr>\n",
       "    <tr>\n",
       "      <th>1</th>\n",
       "      <td>154-158</td>\n",
       "      <td>9</td>\n",
       "      <td>156.0</td>\n",
       "      <td>1404.0</td>\n",
       "    </tr>\n",
       "    <tr>\n",
       "      <th>2</th>\n",
       "      <td>158-162</td>\n",
       "      <td>11</td>\n",
       "      <td>160.0</td>\n",
       "      <td>1760.0</td>\n",
       "    </tr>\n",
       "    <tr>\n",
       "      <th>3</th>\n",
       "      <td>162-166</td>\n",
       "      <td>7</td>\n",
       "      <td>164.0</td>\n",
       "      <td>1148.0</td>\n",
       "    </tr>\n",
       "    <tr>\n",
       "      <th>4</th>\n",
       "      <td>166-170</td>\n",
       "      <td>5</td>\n",
       "      <td>168.0</td>\n",
       "      <td>840.0</td>\n",
       "    </tr>\n",
       "    <tr>\n",
       "      <th>5</th>\n",
       "      <td>170-174</td>\n",
       "      <td>3</td>\n",
       "      <td>172.0</td>\n",
       "      <td>516.0</td>\n",
       "    </tr>\n",
       "  </tbody>\n",
       "</table>\n",
       "</div>"
      ],
      "text/plain": [
       "  Estatura (cm)  fi     xi   fi.xi\n",
       "0       150-154   5  152.0   760.0\n",
       "1       154-158   9  156.0  1404.0\n",
       "2       158-162  11  160.0  1760.0\n",
       "3       162-166   7  164.0  1148.0\n",
       "4       166-170   5  168.0   840.0\n",
       "5       170-174   3  172.0   516.0"
      ]
     },
     "execution_count": 56,
     "metadata": {},
     "output_type": "execute_result"
    }
   ],
   "source": [
    "dataset['xi'] = (superior + inferior)/2\n",
    "dataset['fi.xi'] = dataset['xi']*dataset['fi']\n",
    "dataset"
   ]
  },
  {
   "cell_type": "markdown",
   "id": "a76be49a",
   "metadata": {},
   "source": [
    "Cálculo da frequência acumulada"
   ]
  },
  {
   "cell_type": "code",
   "execution_count": 57,
   "id": "dad6e6d4",
   "metadata": {
    "scrolled": true
   },
   "outputs": [
    {
     "data": {
      "text/html": [
       "<div>\n",
       "<style scoped>\n",
       "    .dataframe tbody tr th:only-of-type {\n",
       "        vertical-align: middle;\n",
       "    }\n",
       "\n",
       "    .dataframe tbody tr th {\n",
       "        vertical-align: top;\n",
       "    }\n",
       "\n",
       "    .dataframe thead th {\n",
       "        text-align: right;\n",
       "    }\n",
       "</style>\n",
       "<table border=\"1\" class=\"dataframe\">\n",
       "  <thead>\n",
       "    <tr style=\"text-align: right;\">\n",
       "      <th></th>\n",
       "      <th>Estatura (cm)</th>\n",
       "      <th>fi</th>\n",
       "      <th>xi</th>\n",
       "      <th>fi.xi</th>\n",
       "      <th>Fi</th>\n",
       "    </tr>\n",
       "  </thead>\n",
       "  <tbody>\n",
       "    <tr>\n",
       "      <th>0</th>\n",
       "      <td>150-154</td>\n",
       "      <td>5</td>\n",
       "      <td>152.0</td>\n",
       "      <td>760.0</td>\n",
       "      <td>5</td>\n",
       "    </tr>\n",
       "    <tr>\n",
       "      <th>1</th>\n",
       "      <td>154-158</td>\n",
       "      <td>9</td>\n",
       "      <td>156.0</td>\n",
       "      <td>1404.0</td>\n",
       "      <td>14</td>\n",
       "    </tr>\n",
       "    <tr>\n",
       "      <th>2</th>\n",
       "      <td>158-162</td>\n",
       "      <td>11</td>\n",
       "      <td>160.0</td>\n",
       "      <td>1760.0</td>\n",
       "      <td>25</td>\n",
       "    </tr>\n",
       "    <tr>\n",
       "      <th>3</th>\n",
       "      <td>162-166</td>\n",
       "      <td>7</td>\n",
       "      <td>164.0</td>\n",
       "      <td>1148.0</td>\n",
       "      <td>32</td>\n",
       "    </tr>\n",
       "    <tr>\n",
       "      <th>4</th>\n",
       "      <td>166-170</td>\n",
       "      <td>5</td>\n",
       "      <td>168.0</td>\n",
       "      <td>840.0</td>\n",
       "      <td>37</td>\n",
       "    </tr>\n",
       "    <tr>\n",
       "      <th>5</th>\n",
       "      <td>170-174</td>\n",
       "      <td>3</td>\n",
       "      <td>172.0</td>\n",
       "      <td>516.0</td>\n",
       "      <td>40</td>\n",
       "    </tr>\n",
       "  </tbody>\n",
       "</table>\n",
       "</div>"
      ],
      "text/plain": [
       "  Estatura (cm)  fi     xi   fi.xi  Fi\n",
       "0       150-154   5  152.0   760.0   5\n",
       "1       154-158   9  156.0  1404.0  14\n",
       "2       158-162  11  160.0  1760.0  25\n",
       "3       162-166   7  164.0  1148.0  32\n",
       "4       166-170   5  168.0   840.0  37\n",
       "5       170-174   3  172.0   516.0  40"
      ]
     },
     "execution_count": 57,
     "metadata": {},
     "output_type": "execute_result"
    }
   ],
   "source": [
    "frequencia_acumulada = []\n",
    "for i in range(len(dataset)):\n",
    "    if i == 0:\n",
    "        frequencia_acumulada.append(fi[i])\n",
    "    else:\n",
    "        frequencia_acumulada.append(fi[i] + frequencia_acumulada[i-1])\n",
    "        \n",
    "dataset['Fi'] = frequencia_acumulada\n",
    "dataset"
   ]
  },
  {
   "cell_type": "markdown",
   "id": "04a4226e",
   "metadata": {},
   "source": [
    "# MÉDIA\n"
   ]
  },
  {
   "cell_type": "code",
   "execution_count": 58,
   "id": "766a0157",
   "metadata": {},
   "outputs": [
    {
     "data": {
      "text/plain": [
       "160.7"
      ]
     },
     "execution_count": 58,
     "metadata": {},
     "output_type": "execute_result"
    }
   ],
   "source": [
    "mean = dataset['fi.xi'].sum()/dataset['fi'].sum()\n",
    "mean"
   ]
  },
  {
   "cell_type": "markdown",
   "id": "0d17edda",
   "metadata": {},
   "source": [
    "# MODA"
   ]
  },
  {
   "cell_type": "code",
   "execution_count": 59,
   "id": "f8bb5263",
   "metadata": {},
   "outputs": [
    {
     "data": {
      "text/html": [
       "<div>\n",
       "<style scoped>\n",
       "    .dataframe tbody tr th:only-of-type {\n",
       "        vertical-align: middle;\n",
       "    }\n",
       "\n",
       "    .dataframe tbody tr th {\n",
       "        vertical-align: top;\n",
       "    }\n",
       "\n",
       "    .dataframe thead th {\n",
       "        text-align: right;\n",
       "    }\n",
       "</style>\n",
       "<table border=\"1\" class=\"dataframe\">\n",
       "  <thead>\n",
       "    <tr style=\"text-align: right;\">\n",
       "      <th></th>\n",
       "      <th>Estatura (cm)</th>\n",
       "      <th>fi</th>\n",
       "      <th>xi</th>\n",
       "      <th>fi.xi</th>\n",
       "      <th>Fi</th>\n",
       "    </tr>\n",
       "  </thead>\n",
       "  <tbody>\n",
       "    <tr>\n",
       "      <th>2</th>\n",
       "      <td>158-162</td>\n",
       "      <td>11</td>\n",
       "      <td>160.0</td>\n",
       "      <td>1760.0</td>\n",
       "      <td>25</td>\n",
       "    </tr>\n",
       "  </tbody>\n",
       "</table>\n",
       "</div>"
      ],
      "text/plain": [
       "  Estatura (cm)  fi     xi   fi.xi  Fi\n",
       "2       158-162  11  160.0  1760.0  25"
      ]
     },
     "execution_count": 59,
     "metadata": {},
     "output_type": "execute_result"
    }
   ],
   "source": [
    "dataset[dataset['fi'] == dataset['fi'].max()]"
   ]
  },
  {
   "cell_type": "code",
   "execution_count": 60,
   "id": "3b7b0668",
   "metadata": {},
   "outputs": [
    {
     "data": {
      "text/plain": [
       "160.0"
      ]
     },
     "execution_count": 60,
     "metadata": {},
     "output_type": "execute_result"
    }
   ],
   "source": [
    "mode = dataset[dataset['fi'] == dataset['fi'].max()]['xi'].values[0]\n",
    "mode"
   ]
  },
  {
   "cell_type": "markdown",
   "id": "b68fabe4",
   "metadata": {},
   "source": [
    "# MEDIANA"
   ]
  },
  {
   "cell_type": "code",
   "execution_count": 61,
   "id": "5c7e218f",
   "metadata": {},
   "outputs": [
    {
     "data": {
      "text/plain": [
       "20.0"
      ]
     },
     "execution_count": 61,
     "metadata": {},
     "output_type": "execute_result"
    }
   ],
   "source": [
    "fi_2 = dataset['fi'].sum()/2\n",
    "fi_2"
   ]
  },
  {
   "cell_type": "code",
   "execution_count": 62,
   "id": "9516d1c5",
   "metadata": {},
   "outputs": [],
   "source": [
    "limite_inferior, frequencia_classe, id_frequencia_anterior, contador = 0, 0, 0, 0\n",
    "for linha in dataset.iterrows():\n",
    "    limite_inferior = inferior[contador]\n",
    "    frequencia_classes = linha[1][1]\n",
    "    id_frequencia_anterior = linha[0]\n",
    "    if linha[1][4] >= fi_2:\n",
    "        id_frequencia_anterior -= 1\n",
    "        break\n",
    "    contador += 1"
   ]
  },
  {
   "cell_type": "code",
   "execution_count": 63,
   "id": "b207cc4f",
   "metadata": {},
   "outputs": [
    {
     "data": {
      "text/plain": [
       "(158, 11, 1, 2)"
      ]
     },
     "execution_count": 63,
     "metadata": {},
     "output_type": "execute_result"
    }
   ],
   "source": [
    "limite_inferior, frequencia_classes, id_frequencia_anterior, contador"
   ]
  },
  {
   "cell_type": "code",
   "execution_count": 64,
   "id": "0b428921",
   "metadata": {},
   "outputs": [
    {
     "data": {
      "text/plain": [
       "14"
      ]
     },
     "execution_count": 64,
     "metadata": {},
     "output_type": "execute_result"
    }
   ],
   "source": [
    "Fi_anterior = dataset.iloc[[id_frequencia_anterior]]['Fi'].values[0]\n",
    "Fi_anterior"
   ]
  },
  {
   "cell_type": "code",
   "execution_count": 65,
   "id": "83134dd3",
   "metadata": {},
   "outputs": [
    {
     "data": {
      "text/plain": [
       "160.1818181818182"
      ]
     },
     "execution_count": 65,
     "metadata": {},
     "output_type": "execute_result"
    }
   ],
   "source": [
    "mediana"
   ]
  },
  {
   "cell_type": "markdown",
   "id": "cd26d6ed",
   "metadata": {},
   "source": [
    "# FUNÇÃO COM OS 3:"
   ]
  },
  {
   "cell_type": "code",
   "execution_count": 72,
   "id": "8c0b5780",
   "metadata": {},
   "outputs": [],
   "source": [
    "def statistics(dataframe, inferior, h):\n",
    "    mean = dataframe['fi.xi'].sum()/dataframe['fi'].sum()\n",
    "    \n",
    "    mode = dataframe[dataframe['fi'] == dataframe['fi'].max()]['xi'].values[0]\n",
    "    \n",
    "    fi_2 = dataframe['fi'].sum()/2\n",
    "    limite_inferior, frequencia_classes, id_frequencia_anterior, contador = 0, 0, 0, 0\n",
    "    for linha in dataframe.iterrows():\n",
    "        limite_inferior = inferior[contador]\n",
    "        frequencia_classes = linha[1][1]\n",
    "        id_frequencia_anterior = linha[0]\n",
    "        if linha[1][4] >= fi_2:\n",
    "            id_frequencia_anterior -= 1\n",
    "            break\n",
    "        contador += 1\n",
    "    Fi_anterior = dataframe.iloc[[id_frequencia_anterior]]['Fi'].values[0]\n",
    "    mediana = limite_inferior + ((fi_2 - Fi_anterior) * h) / frequencia_classes\n",
    "    return mean, mode, mediana"
   ]
  },
  {
   "cell_type": "code",
   "execution_count": 73,
   "id": "dddb568f",
   "metadata": {},
   "outputs": [
    {
     "data": {
      "text/plain": [
       "(160.7, 160.0, 160.1818181818182)"
      ]
     },
     "execution_count": 73,
     "metadata": {},
     "output_type": "execute_result"
    }
   ],
   "source": [
    "statistics(dataset, inferior, h)"
   ]
  }
 ],
 "metadata": {
  "kernelspec": {
   "display_name": "Python 3 (ipykernel)",
   "language": "python",
   "name": "python3"
  },
  "language_info": {
   "codemirror_mode": {
    "name": "ipython",
    "version": 3
   },
   "file_extension": ".py",
   "mimetype": "text/x-python",
   "name": "python",
   "nbconvert_exporter": "python",
   "pygments_lexer": "ipython3",
   "version": "3.11.5"
  }
 },
 "nbformat": 4,
 "nbformat_minor": 5
}
