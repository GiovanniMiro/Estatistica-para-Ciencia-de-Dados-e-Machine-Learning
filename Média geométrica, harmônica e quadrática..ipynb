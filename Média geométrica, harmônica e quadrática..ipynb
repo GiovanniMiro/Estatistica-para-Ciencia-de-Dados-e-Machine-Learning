{
 "cells": [
  {
   "cell_type": "code",
   "execution_count": 5,
   "id": "8fb33b09",
   "metadata": {},
   "outputs": [],
   "source": [
    "import numpy as np\n",
    "import pandas as pd\n",
    "import math\n",
    "from scipy.stats.mstats import gmean\n",
    "from scipy.stats.mstats import hmean"
   ]
  },
  {
   "cell_type": "code",
   "execution_count": 6,
   "id": "2d38144e",
   "metadata": {},
   "outputs": [],
   "source": [
    "dados = np.array([160, 165, 167, 164, 160, 166, 160, 161, 150, 152, 173, 160, 155,\n",
    "                  164, 168, 162, 161, 168, 163, 156, 155, 169, 151, 170, 164,\n",
    "                  155, 152, 163, 160, 155, 157, 156, 158, 158, 161, 154, 161, 156, 172, 153])"
   ]
  },
  {
   "cell_type": "code",
   "execution_count": 7,
   "id": "348bc6df",
   "metadata": {},
   "outputs": [
    {
     "data": {
      "text/plain": [
       "160.26958390038902"
      ]
     },
     "execution_count": 7,
     "metadata": {},
     "output_type": "execute_result"
    }
   ],
   "source": [
    "gmean(dados)"
   ]
  },
  {
   "cell_type": "code",
   "execution_count": 8,
   "id": "796aea8e",
   "metadata": {},
   "outputs": [
    {
     "data": {
      "text/plain": [
       "160.1647194799467"
      ]
     },
     "execution_count": 8,
     "metadata": {},
     "output_type": "execute_result"
    }
   ],
   "source": [
    "hmean(dados)"
   ]
  },
  {
   "cell_type": "code",
   "execution_count": 10,
   "id": "94374e2d",
   "metadata": {},
   "outputs": [],
   "source": [
    "def quadratic_mean(dados):\n",
    "    return math.sqrt(sum(n * n for n in dados) / len(dados))"
   ]
  },
  {
   "cell_type": "code",
   "execution_count": 11,
   "id": "1e4fa77f",
   "metadata": {},
   "outputs": [
    {
     "data": {
      "text/plain": [
       "160.48091786876097"
      ]
     },
     "execution_count": 11,
     "metadata": {},
     "output_type": "execute_result"
    }
   ],
   "source": [
    "quadratic_mean(dados)"
   ]
  },
  {
   "cell_type": "code",
   "execution_count": null,
   "id": "809a2be5",
   "metadata": {},
   "outputs": [],
   "source": []
  }
 ],
 "metadata": {
  "kernelspec": {
   "display_name": "Python 3 (ipykernel)",
   "language": "python",
   "name": "python3"
  },
  "language_info": {
   "codemirror_mode": {
    "name": "ipython",
    "version": 3
   },
   "file_extension": ".py",
   "mimetype": "text/x-python",
   "name": "python",
   "nbconvert_exporter": "python",
   "pygments_lexer": "ipython3",
   "version": "3.11.5"
  }
 },
 "nbformat": 4,
 "nbformat_minor": 5
}
