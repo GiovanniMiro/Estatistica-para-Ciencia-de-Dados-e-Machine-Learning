{
 "cells": [
  {
   "cell_type": "code",
   "execution_count": 3,
   "id": "ef774faf",
   "metadata": {},
   "outputs": [],
   "source": [
    "import pandas as pd\n",
    "import numpy as np\n",
    "import seaborn as sns\n",
    "from scipy import stats\n",
    "import math\n"
   ]
  },
  {
   "cell_type": "markdown",
   "id": "58633c83",
   "metadata": {},
   "source": [
    "# Distribuição normal"
   ]
  },
  {
   "cell_type": "code",
   "execution_count": 6,
   "id": "e756cea8",
   "metadata": {},
   "outputs": [],
   "source": [
    "dados = np.array([126. , 129.5, 133. , 133. , 136.5, 136.5, 140. , 140. , 140. ,\n",
    "                  140. , 143.5, 143.5, 143.5, 143.5, 143.5, 143.5, 147. , 147. ,\n",
    "                  147. , 147. , 147. , 147. , 147. , 150.5, 150.5, 150.5, 150.5,\n",
    "                  150.5, 150.5, 150.5, 150.5, 154. , 154. , 154. , 154. , 154. ,\n",
    "                  154. , 154. , 154. , 154. , 157.5, 157.5, 157.5, 157.5, 157.5,\n",
    "                  157.5, 157.5, 157.5, 157.5, 157.5, 161. , 161. , 161. , 161. ,\n",
    "                  161. , 161. , 161. , 161. , 161. , 161. , 164.5, 164.5, 164.5,\n",
    "                  164.5, 164.5, 164.5, 164.5, 164.5, 164.5, 168. , 168. , 168. ,\n",
    "                  168. , 168. , 168. , 168. , 168. , 171.5, 171.5, 171.5, 171.5,\n",
    "                  171.5, 171.5, 171.5, 175. , 175. , 175. , 175. , 175. , 175. ,\n",
    "                  178.5, 178.5, 178.5, 178.5, 182. , 182. , 185.5, 185.5, 189., 192.5])"
   ]
  },
  {
   "cell_type": "code",
   "execution_count": 15,
   "id": "e9b582bd",
   "metadata": {},
   "outputs": [
    {
     "data": {
      "image/png": "[encoded data removed]",
      "text/plain": [
       "<Figure size 640x480 with 1 Axes>"
      ]
     },
     "metadata": {},
     "output_type": "display_data"
    }
   ],
   "source": [
    "sns.histplot(dados, kde = 'True');"
   ]
  },
  {
   "cell_type": "code",
   "execution_count": 17,
   "id": "c1c8b6d9",
   "metadata": {},
   "outputs": [
    {
     "data": {
      "text/plain": [
       "(159.25, 13.65)"
      ]
     },
     "execution_count": 17,
     "metadata": {},
     "output_type": "execute_result"
    }
   ],
   "source": [
    "media = np.mean(dados)\n",
    "desvio_padrao = np.std(dados)\n",
    "media, desvio_padrao"
   ]
  },
  {
   "cell_type": "code",
   "execution_count": 21,
   "id": "46191324",
   "metadata": {},
   "outputs": [
    {
     "data": {
      "text/plain": [
       "array([150.5 , 159.25, 168.  ])"
      ]
     },
     "execution_count": 21,
     "metadata": {},
     "output_type": "execute_result"
    }
   ],
   "source": [
    "Q = np.quantile(dados,[0.25,0.50,0.75])\n",
    "Q"
   ]
  },
  {
   "cell_type": "markdown",
   "id": "8513d6c6",
   "metadata": {},
   "source": [
    "Qual a probabilidade de selecionar alguém em Q1"
   ]
  },
  {
   "cell_type": "code",
   "execution_count": 27,
   "id": "1f90998d",
   "metadata": {},
   "outputs": [
    {
     "data": {
      "text/plain": [
       "-0.641025641025641"
      ]
     },
     "execution_count": 27,
     "metadata": {},
     "output_type": "execute_result"
    }
   ],
   "source": [
    "(Q[0] - media)/desvio_padrao"
   ]
  },
  {
   "cell_type": "code",
   "execution_count": 43,
   "id": "644c8df9",
   "metadata": {},
   "outputs": [
    {
     "data": {
      "text/plain": [
       "0.26109"
      ]
     },
     "execution_count": 43,
     "metadata": {},
     "output_type": "execute_result"
    }
   ],
   "source": [
    "0.26109"
   ]
  },
  {
   "cell_type": "code",
   "execution_count": 45,
   "id": "f1d832ff",
   "metadata": {},
   "outputs": [
    {
     "data": {
      "text/plain": [
       "0.26075301195608336"
      ]
     },
     "execution_count": 45,
     "metadata": {},
     "output_type": "execute_result"
    }
   ],
   "source": [
    "stats.norm.cdf(Q[0], media, desvio_padrao)"
   ]
  },
  {
   "cell_type": "markdown",
   "id": "637922fa",
   "metadata": {},
   "source": [
    "Qual a probabilidade de selecionar alguém em Q3"
   ]
  },
  {
   "cell_type": "code",
   "execution_count": 29,
   "id": "1197130a",
   "metadata": {},
   "outputs": [
    {
     "data": {
      "text/plain": [
       "0.641025641025641"
      ]
     },
     "execution_count": 29,
     "metadata": {},
     "output_type": "execute_result"
    }
   ],
   "source": [
    "(Q[2] - media)/desvio_padrao"
   ]
  },
  {
   "cell_type": "code",
   "execution_count": 31,
   "id": "8ef7dc46",
   "metadata": {},
   "outputs": [
    {
     "data": {
      "text/plain": [
       "0.73891"
      ]
     },
     "execution_count": 31,
     "metadata": {},
     "output_type": "execute_result"
    }
   ],
   "source": [
    "0.73891"
   ]
  },
  {
   "cell_type": "code",
   "execution_count": 50,
   "id": "982ef1f2",
   "metadata": {},
   "outputs": [
    {
     "data": {
      "text/plain": [
       "0.26109000000000004"
      ]
     },
     "execution_count": 50,
     "metadata": {},
     "output_type": "execute_result"
    }
   ],
   "source": [
    "1 - 0.73891"
   ]
  },
  {
   "cell_type": "code",
   "execution_count": 51,
   "id": "8a572d60",
   "metadata": {},
   "outputs": [
    {
     "data": {
      "text/plain": [
       "0.26075301195608336"
      ]
     },
     "execution_count": 51,
     "metadata": {},
     "output_type": "execute_result"
    }
   ],
   "source": [
    "1 - stats.norm.cdf(Q[2], media, desvio_padrao) "
   ]
  },
  {
   "cell_type": "code",
   "execution_count": 49,
   "id": "8b14ff30",
   "metadata": {},
   "outputs": [
    {
     "data": {
      "text/plain": [
       "0.26075301195608336"
      ]
     },
     "execution_count": 49,
     "metadata": {},
     "output_type": "execute_result"
    }
   ],
   "source": [
    "stats.norm.sf(Q[2], media, desvio_padrao) "
   ]
  },
  {
   "cell_type": "markdown",
   "id": "bb365143",
   "metadata": {},
   "source": [
    "Qual a probabilidade de selecionar alguém entre Q2 e Q3"
   ]
  },
  {
   "cell_type": "code",
   "execution_count": 33,
   "id": "1985c025",
   "metadata": {},
   "outputs": [
    {
     "data": {
      "text/plain": [
       "0.641025641025641"
      ]
     },
     "execution_count": 33,
     "metadata": {},
     "output_type": "execute_result"
    }
   ],
   "source": [
    "(Q[2] - media)/desvio_padrao"
   ]
  },
  {
   "cell_type": "code",
   "execution_count": 34,
   "id": "528b2dc9",
   "metadata": {},
   "outputs": [
    {
     "data": {
      "text/plain": [
       "0.73891"
      ]
     },
     "execution_count": 34,
     "metadata": {},
     "output_type": "execute_result"
    }
   ],
   "source": [
    "0.73891"
   ]
  },
  {
   "cell_type": "code",
   "execution_count": 35,
   "id": "ff5b8108",
   "metadata": {},
   "outputs": [
    {
     "data": {
      "text/plain": [
       "0.0"
      ]
     },
     "execution_count": 35,
     "metadata": {},
     "output_type": "execute_result"
    }
   ],
   "source": [
    "(Q[1] - media)/desvio_padrao"
   ]
  },
  {
   "cell_type": "code",
   "execution_count": 39,
   "id": "c43b1cac",
   "metadata": {},
   "outputs": [
    {
     "data": {
      "text/plain": [
       "0.5"
      ]
     },
     "execution_count": 39,
     "metadata": {},
     "output_type": "execute_result"
    }
   ],
   "source": [
    "0.50"
   ]
  },
  {
   "cell_type": "code",
   "execution_count": 52,
   "id": "abc76a00",
   "metadata": {},
   "outputs": [
    {
     "data": {
      "text/plain": [
       "0.23890999999999996"
      ]
     },
     "execution_count": 52,
     "metadata": {},
     "output_type": "execute_result"
    }
   ],
   "source": [
    "0.73891 - 0.50"
   ]
  },
  {
   "cell_type": "code",
   "execution_count": 56,
   "id": "1d7f1081",
   "metadata": {},
   "outputs": [
    {
     "data": {
      "text/plain": [
       "0.23924698804391664"
      ]
     },
     "execution_count": 56,
     "metadata": {},
     "output_type": "execute_result"
    }
   ],
   "source": [
    "stats.norm.cdf(Q[2], media, desvio_padrao) - stats.norm.cdf(Q[1], media, desvio_padrao)"
   ]
  },
  {
   "cell_type": "markdown",
   "id": "5615c841",
   "metadata": {},
   "source": [
    "Qual a probabilidade de selecionar alguém em Q1 ou Q3?"
   ]
  },
  {
   "cell_type": "code",
   "execution_count": 41,
   "id": "b286f95d",
   "metadata": {},
   "outputs": [
    {
     "data": {
      "text/plain": [
       "0.52218"
      ]
     },
     "execution_count": 41,
     "metadata": {},
     "output_type": "execute_result"
    }
   ],
   "source": [
    "0.26109 + 0.26109"
   ]
  },
  {
   "cell_type": "markdown",
   "id": "29a60add",
   "metadata": {},
   "source": [
    "Qual a probabilidade de NÃO selecionar alguém em Q1 ou Q3?"
   ]
  },
  {
   "cell_type": "code",
   "execution_count": 42,
   "id": "9a41e487",
   "metadata": {},
   "outputs": [
    {
     "data": {
      "text/plain": [
       "0.47782"
      ]
     },
     "execution_count": 42,
     "metadata": {},
     "output_type": "execute_result"
    }
   ],
   "source": [
    "1 - 0.52218"
   ]
  },
  {
   "cell_type": "markdown",
   "id": "c25df8dc",
   "metadata": {},
   "source": [
    "# Distribuição binomial "
   ]
  },
  {
   "cell_type": "markdown",
   "id": "f3774b9d",
   "metadata": {},
   "source": [
    "Respostas sucesso ou fracasso e experimentos independentes"
   ]
  },
  {
   "cell_type": "markdown",
   "id": "bb019879",
   "metadata": {},
   "source": [
    "Exemplo: Jogando a moeda 10x, qual a probabilidade de obeter 5 'caras'?"
   ]
  },
  {
   "cell_type": "code",
   "execution_count": 4,
   "id": "5ac741ce",
   "metadata": {},
   "outputs": [],
   "source": [
    "n = 10\n",
    "x = 5\n",
    "p = 0.5"
   ]
  },
  {
   "cell_type": "code",
   "execution_count": 5,
   "id": "231aabbe",
   "metadata": {},
   "outputs": [
    {
     "data": {
      "text/plain": [
       "0.24609375"
      ]
     },
     "execution_count": 5,
     "metadata": {},
     "output_type": "execute_result"
    }
   ],
   "source": [
    "(math.factorial(n)) / (math.factorial(n-x) * math.factorial(x)) * math.pow(p,x) * math.pow(1 - p, n - x)"
   ]
  },
  {
   "cell_type": "code",
   "execution_count": 8,
   "id": "4ba0e65f",
   "metadata": {},
   "outputs": [
    {
     "data": {
      "text/plain": [
       "0.24609375000000003"
      ]
     },
     "execution_count": 8,
     "metadata": {},
     "output_type": "execute_result"
    }
   ],
   "source": [
    "stats.binom.pmf(x, n, p)"
   ]
  },
  {
   "cell_type": "markdown",
   "id": "3c18faf2",
   "metadata": {},
   "source": [
    "# Distribuição de poisson "
   ]
  },
  {
   "cell_type": "markdown",
   "id": "db890159",
   "metadata": {},
   "source": [
    "Ocorrência de eventos no decorrer do tempo (não considera o número de experimentos)\n",
    "\n",
    "Os eventos devem ser independentes"
   ]
  },
  {
   "cell_type": "markdown",
   "id": "fb3b33cb",
   "metadata": {},
   "source": [
    "Considera o número de \"sucessos\" baseado no tempo"
   ]
  },
  {
   "cell_type": "markdown",
   "id": "e017e441",
   "metadata": {},
   "source": [
    "Parâmetros: x (nº de eventos calculados), e (número de Euler: 2.71828), media (nº médio de eventos)"
   ]
  },
  {
   "cell_type": "markdown",
   "id": "b533363b",
   "metadata": {},
   "source": [
    "Exemplo: o número médio de carros vendidos por dia é 10. Qual a probabilidade de vender 14 carros amanhã?"
   ]
  },
  {
   "cell_type": "code",
   "execution_count": 34,
   "id": "d29a1401",
   "metadata": {},
   "outputs": [
    {
     "data": {
      "text/plain": [
       "2.718281828459045"
      ]
     },
     "execution_count": 34,
     "metadata": {},
     "output_type": "execute_result"
    }
   ],
   "source": [
    "x = 14\n",
    "media = 10\n",
    "math.e"
   ]
  },
  {
   "cell_type": "code",
   "execution_count": 35,
   "id": "e899e5ef",
   "metadata": {},
   "outputs": [
    {
     "data": {
      "text/plain": [
       "5.207710444602621"
      ]
     },
     "execution_count": 35,
     "metadata": {},
     "output_type": "execute_result"
    }
   ],
   "source": [
    "math.pow(math.e, - media) * (math.pow(media, x) / math.factorial(x)) * 100"
   ]
  },
  {
   "cell_type": "code",
   "execution_count": 37,
   "id": "e588f2c9",
   "metadata": {},
   "outputs": [
    {
     "data": {
      "text/plain": [
       "5.207710444602616"
      ]
     },
     "execution_count": 37,
     "metadata": {},
     "output_type": "execute_result"
    }
   ],
   "source": [
    "stats.poisson.pmf(x, media) * 100"
   ]
  },
  {
   "cell_type": "markdown",
   "id": "a389779c",
   "metadata": {},
   "source": [
    "# Previsão de probabilidades em machine learning"
   ]
  },
  {
   "cell_type": "code",
   "execution_count": 39,
   "id": "0777480c",
   "metadata": {},
   "outputs": [
    {
     "data": {
      "text/html": [
       "<div>\n",
       "<style scoped>\n",
       "    .dataframe tbody tr th:only-of-type {\n",
       "        vertical-align: middle;\n",
       "    }\n",
       "\n",
       "    .dataframe tbody tr th {\n",
       "        vertical-align: top;\n",
       "    }\n",
       "\n",
       "    .dataframe thead th {\n",
       "        text-align: right;\n",
       "    }\n",
       "</style>\n",
       "<table border=\"1\" class=\"dataframe\">\n",
       "  <thead>\n",
       "    <tr style=\"text-align: right;\">\n",
       "      <th></th>\n",
       "      <th>i#clientid</th>\n",
       "      <th>income</th>\n",
       "      <th>age</th>\n",
       "      <th>loan</th>\n",
       "      <th>c#default</th>\n",
       "    </tr>\n",
       "  </thead>\n",
       "  <tbody>\n",
       "    <tr>\n",
       "      <th>0</th>\n",
       "      <td>1</td>\n",
       "      <td>66155.925095</td>\n",
       "      <td>59.017015</td>\n",
       "      <td>8106.532131</td>\n",
       "      <td>0</td>\n",
       "    </tr>\n",
       "    <tr>\n",
       "      <th>1</th>\n",
       "      <td>2</td>\n",
       "      <td>34415.153966</td>\n",
       "      <td>48.117153</td>\n",
       "      <td>6564.745018</td>\n",
       "      <td>0</td>\n",
       "    </tr>\n",
       "    <tr>\n",
       "      <th>2</th>\n",
       "      <td>3</td>\n",
       "      <td>57317.170063</td>\n",
       "      <td>63.108049</td>\n",
       "      <td>8020.953296</td>\n",
       "      <td>0</td>\n",
       "    </tr>\n",
       "    <tr>\n",
       "      <th>3</th>\n",
       "      <td>4</td>\n",
       "      <td>42709.534201</td>\n",
       "      <td>45.751972</td>\n",
       "      <td>6103.642260</td>\n",
       "      <td>0</td>\n",
       "    </tr>\n",
       "    <tr>\n",
       "      <th>4</th>\n",
       "      <td>5</td>\n",
       "      <td>66952.688845</td>\n",
       "      <td>18.584336</td>\n",
       "      <td>8770.099235</td>\n",
       "      <td>1</td>\n",
       "    </tr>\n",
       "  </tbody>\n",
       "</table>\n",
       "</div>"
      ],
      "text/plain": [
       "   i#clientid        income        age         loan  c#default\n",
       "0           1  66155.925095  59.017015  8106.532131          0\n",
       "1           2  34415.153966  48.117153  6564.745018          0\n",
       "2           3  57317.170063  63.108049  8020.953296          0\n",
       "3           4  42709.534201  45.751972  6103.642260          0\n",
       "4           5  66952.688845  18.584336  8770.099235          1"
      ]
     },
     "execution_count": 39,
     "metadata": {},
     "output_type": "execute_result"
    }
   ],
   "source": [
    "dataset = pd.read_csv('credit_data.csv')\n",
    "dataset.dropna(inplace = True)\n",
    "dataset.head()"
   ]
  },
  {
   "cell_type": "code",
   "execution_count": 41,
   "id": "5e6908c7",
   "metadata": {},
   "outputs": [
    {
     "data": {
      "text/plain": [
       "array([[6.61559251e+04, 5.90170151e+01, 8.10653213e+03],\n",
       "       [3.44151540e+04, 4.81171531e+01, 6.56474502e+03],\n",
       "       [5.73171701e+04, 6.31080495e+01, 8.02095330e+03],\n",
       "       ...,\n",
       "       [4.43114493e+04, 2.80171669e+01, 5.52278669e+03],\n",
       "       [4.37560566e+04, 6.39717958e+01, 1.62272260e+03],\n",
       "       [6.94365796e+04, 5.61526170e+01, 7.37883360e+03]])"
      ]
     },
     "execution_count": 41,
     "metadata": {},
     "output_type": "execute_result"
    }
   ],
   "source": [
    "X = dataset.iloc[:,1:4].values\n",
    "X"
   ]
  },
  {
   "cell_type": "code",
   "execution_count": 43,
   "id": "5c0fbb72",
   "metadata": {},
   "outputs": [
    {
     "data": {
      "text/plain": [
       "array([0, 0, 0, ..., 1, 0, 0], dtype=int64)"
      ]
     },
     "execution_count": 43,
     "metadata": {},
     "output_type": "execute_result"
    }
   ],
   "source": [
    "y = dataset.iloc[:,4].values\n",
    "y"
   ]
  },
  {
   "cell_type": "code",
   "execution_count": 44,
   "id": "ebe85e03",
   "metadata": {},
   "outputs": [
    {
     "data": {
      "text/html": [
       "<style>#sk-container-id-1 {color: black;}#sk-container-id-1 pre{padding: 0;}#sk-container-id-1 div.sk-toggleable {background-color: white;}#sk-container-id-1 label.sk-toggleable__label {cursor: pointer;display: block;width: 100%;margin-bottom: 0;padding: 0.3em;box-sizing: border-box;text-align: center;}#sk-container-id-1 label.sk-toggleable__label-arrow:before {content: \"▸\";float: left;margin-right: 0.25em;color: #696969;}#sk-container-id-1 label.sk-toggleable__label-arrow:hover:before {color: black;}#sk-container-id-1 div.sk-estimator:hover label.sk-toggleable__label-arrow:before {color: black;}#sk-container-id-1 div.sk-toggleable__content {max-height: 0;max-width: 0;overflow: hidden;text-align: left;background-color: #f0f8ff;}#sk-container-id-1 div.sk-toggleable__content pre {margin: 0.2em;color: black;border-radius: 0.25em;background-color: #f0f8ff;}#sk-container-id-1 input.sk-toggleable__control:checked~div.sk-toggleable__content {max-height: 200px;max-width: 100%;overflow: auto;}#sk-container-id-1 input.sk-toggleable__control:checked~label.sk-toggleable__label-arrow:before {content: \"▾\";}#sk-container-id-1 div.sk-estimator input.sk-toggleable__control:checked~label.sk-toggleable__label {background-color: #d4ebff;}#sk-container-id-1 div.sk-label input.sk-toggleable__control:checked~label.sk-toggleable__label {background-color: #d4ebff;}#sk-container-id-1 input.sk-hidden--visually {border: 0;clip: rect(1px 1px 1px 1px);clip: rect(1px, 1px, 1px, 1px);height: 1px;margin: -1px;overflow: hidden;padding: 0;position: absolute;width: 1px;}#sk-container-id-1 div.sk-estimator {font-family: monospace;background-color: #f0f8ff;border: 1px dotted black;border-radius: 0.25em;box-sizing: border-box;margin-bottom: 0.5em;}#sk-container-id-1 div.sk-estimator:hover {background-color: #d4ebff;}#sk-container-id-1 div.sk-parallel-item::after {content: \"\";width: 100%;border-bottom: 1px solid gray;flex-grow: 1;}#sk-container-id-1 div.sk-label:hover label.sk-toggleable__label {background-color: #d4ebff;}#sk-container-id-1 div.sk-serial::before {content: \"\";position: absolute;border-left: 1px solid gray;box-sizing: border-box;top: 0;bottom: 0;left: 50%;z-index: 0;}#sk-container-id-1 div.sk-serial {display: flex;flex-direction: column;align-items: center;background-color: white;padding-right: 0.2em;padding-left: 0.2em;position: relative;}#sk-container-id-1 div.sk-item {position: relative;z-index: 1;}#sk-container-id-1 div.sk-parallel {display: flex;align-items: stretch;justify-content: center;background-color: white;position: relative;}#sk-container-id-1 div.sk-item::before, #sk-container-id-1 div.sk-parallel-item::before {content: \"\";position: absolute;border-left: 1px solid gray;box-sizing: border-box;top: 0;bottom: 0;left: 50%;z-index: -1;}#sk-container-id-1 div.sk-parallel-item {display: flex;flex-direction: column;z-index: 1;position: relative;background-color: white;}#sk-container-id-1 div.sk-parallel-item:first-child::after {align-self: flex-end;width: 50%;}#sk-container-id-1 div.sk-parallel-item:last-child::after {align-self: flex-start;width: 50%;}#sk-container-id-1 div.sk-parallel-item:only-child::after {width: 0;}#sk-container-id-1 div.sk-dashed-wrapped {border: 1px dashed gray;margin: 0 0.4em 0.5em 0.4em;box-sizing: border-box;padding-bottom: 0.4em;background-color: white;}#sk-container-id-1 div.sk-label label {font-family: monospace;font-weight: bold;display: inline-block;line-height: 1.2em;}#sk-container-id-1 div.sk-label-container {text-align: center;}#sk-container-id-1 div.sk-container {/* jupyter's `normalize.less` sets `[hidden] { display: none; }` but bootstrap.min.css set `[hidden] { display: none !important; }` so we also need the `!important` here to be able to override the default hidden behavior on the sphinx rendered scikit-learn.org. See: https://github.com/scikit-learn/scikit-learn/issues/21755 */display: inline-block !important;position: relative;}#sk-container-id-1 div.sk-text-repr-fallback {display: none;}</style><div id=\"sk-container-id-1\" class=\"sk-top-container\"><div class=\"sk-text-repr-fallback\"><pre>GaussianNB()</pre><b>In a Jupyter environment, please rerun this cell to show the HTML representation or trust the notebook. <br />On GitHub, the HTML representation is unable to render, please try loading this page with nbviewer.org.</b></div><div class=\"sk-container\" hidden><div class=\"sk-item\"><div class=\"sk-estimator sk-toggleable\"><input class=\"sk-toggleable__control sk-hidden--visually\" id=\"sk-estimator-id-1\" type=\"checkbox\" checked><label for=\"sk-estimator-id-1\" class=\"sk-toggleable__label sk-toggleable__label-arrow\">GaussianNB</label><div class=\"sk-toggleable__content\"><pre>GaussianNB()</pre></div></div></div></div></div>"
      ],
      "text/plain": [
       "GaussianNB()"
      ]
     },
     "execution_count": 44,
     "metadata": {},
     "output_type": "execute_result"
    }
   ],
   "source": [
    "from sklearn.naive_bayes import GaussianNB\n",
    "naive_bayes = GaussianNB()\n",
    "naive_bayes.fit(X, y)"
   ]
  },
  {
   "cell_type": "code",
   "execution_count": 45,
   "id": "470a49bc",
   "metadata": {},
   "outputs": [
    {
     "data": {
      "text/plain": [
       "(array([6.61559251e+04, 5.90170151e+01, 8.10653213e+03]), (3,))"
      ]
     },
     "execution_count": 45,
     "metadata": {},
     "output_type": "execute_result"
    }
   ],
   "source": [
    "X[0], X[0].shape"
   ]
  },
  {
   "cell_type": "code",
   "execution_count": 46,
   "id": "778372f9",
   "metadata": {},
   "outputs": [
    {
     "data": {
      "text/plain": [
       "(1, 3)"
      ]
     },
     "execution_count": 46,
     "metadata": {},
     "output_type": "execute_result"
    }
   ],
   "source": [
    "novo = X[0].reshape(1, -1)\n",
    "novo.shape"
   ]
  },
  {
   "cell_type": "code",
   "execution_count": 49,
   "id": "376fdff4",
   "metadata": {},
   "outputs": [
    {
     "data": {
      "text/plain": [
       "array([[6.61559251e+04, 5.90170151e+01, 8.10653213e+03]])"
      ]
     },
     "execution_count": 49,
     "metadata": {},
     "output_type": "execute_result"
    }
   ],
   "source": [
    "novo"
   ]
  },
  {
   "cell_type": "code",
   "execution_count": 50,
   "id": "bc5769c2",
   "metadata": {},
   "outputs": [
    {
     "data": {
      "text/plain": [
       "array([0], dtype=int64)"
      ]
     },
     "execution_count": 50,
     "metadata": {},
     "output_type": "execute_result"
    }
   ],
   "source": [
    "naive_bayes.predict(novo)"
   ]
  },
  {
   "cell_type": "code",
   "execution_count": 51,
   "id": "f4bfd63a",
   "metadata": {},
   "outputs": [
    {
     "data": {
      "text/plain": [
       "array([[1.00000000e+00, 2.03924534e-10]])"
      ]
     },
     "execution_count": 51,
     "metadata": {},
     "output_type": "execute_result"
    }
   ],
   "source": [
    "previsao = naive_bayes.predict_proba(novo)\n",
    "previsao"
   ]
  },
  {
   "cell_type": "code",
   "execution_count": 52,
   "id": "f4f38291",
   "metadata": {},
   "outputs": [
    {
     "data": {
      "text/plain": [
       "0"
      ]
     },
     "execution_count": 52,
     "metadata": {},
     "output_type": "execute_result"
    }
   ],
   "source": [
    "np.argmax(previsao)"
   ]
  },
  {
   "cell_type": "code",
   "execution_count": null,
   "id": "ba081c9a",
   "metadata": {},
   "outputs": [],
   "source": []
  }
 ],
 "metadata": {
  "kernelspec": {
   "display_name": "Python 3 (ipykernel)",
   "language": "python",
   "name": "python3"
  },
  "language_info": {
   "codemirror_mode": {
    "name": "ipython",
    "version": 3
   },
   "file_extension": ".py",
   "mimetype": "text/x-python",
   "name": "python",
   "nbconvert_exporter": "python",
   "pygments_lexer": "ipython3",
   "version": "3.11.5"
  }
 },
 "nbformat": 4,
 "nbformat_minor": 5
}
