{
 "cells": [
  {
   "cell_type": "code",
   "execution_count": 1,
   "id": "d27517fc",
   "metadata": {},
   "outputs": [],
   "source": [
    "import pandas as pd\n",
    "import numpy as np"
   ]
  },
  {
   "cell_type": "code",
   "execution_count": 2,
   "id": "0d636be1",
   "metadata": {},
   "outputs": [],
   "source": [
    "dados ={'emprego': ['Administrador Banco de dados','Programador','Arquiteto de redes'], \n",
    "        'Nova Jersey': [97350,82080,112840],\n",
    "        'Florida': [77140,71540,62310]}"
   ]
  },
  {
   "cell_type": "code",
   "execution_count": 4,
   "id": "d05c43ce",
   "metadata": {},
   "outputs": [
    {
     "data": {
      "text/plain": [
       "dict"
      ]
     },
     "execution_count": 4,
     "metadata": {},
     "output_type": "execute_result"
    }
   ],
   "source": [
    "type(dados) #Retornará dicionários, pois é composto por uma sequência de chaves e valores."
   ]
  },
  {
   "cell_type": "code",
   "execution_count": 8,
   "id": "1fd6e3ea",
   "metadata": {},
   "outputs": [],
   "source": [
    "dataset = pd.DataFrame(dados)"
   ]
  },
  {
   "cell_type": "code",
   "execution_count": 9,
   "id": "8e792459",
   "metadata": {},
   "outputs": [
    {
     "data": {
      "text/html": [
       "<div>\n",
       "<style scoped>\n",
       "    .dataframe tbody tr th:only-of-type {\n",
       "        vertical-align: middle;\n",
       "    }\n",
       "\n",
       "    .dataframe tbody tr th {\n",
       "        vertical-align: top;\n",
       "    }\n",
       "\n",
       "    .dataframe thead th {\n",
       "        text-align: right;\n",
       "    }\n",
       "</style>\n",
       "<table border=\"1\" class=\"dataframe\">\n",
       "  <thead>\n",
       "    <tr style=\"text-align: right;\">\n",
       "      <th></th>\n",
       "      <th>emprego</th>\n",
       "      <th>Nova Jersey</th>\n",
       "      <th>Florida</th>\n",
       "    </tr>\n",
       "  </thead>\n",
       "  <tbody>\n",
       "    <tr>\n",
       "      <th>0</th>\n",
       "      <td>Administrador Banco de dados</td>\n",
       "      <td>97350</td>\n",
       "      <td>77140</td>\n",
       "    </tr>\n",
       "    <tr>\n",
       "      <th>1</th>\n",
       "      <td>Programador</td>\n",
       "      <td>82080</td>\n",
       "      <td>71540</td>\n",
       "    </tr>\n",
       "    <tr>\n",
       "      <th>2</th>\n",
       "      <td>Arquiteto de redes</td>\n",
       "      <td>112840</td>\n",
       "      <td>62310</td>\n",
       "    </tr>\n",
       "  </tbody>\n",
       "</table>\n",
       "</div>"
      ],
      "text/plain": [
       "                        emprego  Nova Jersey  Florida\n",
       "0  Administrador Banco de dados        97350    77140\n",
       "1                   Programador        82080    71540\n",
       "2            Arquiteto de redes       112840    62310"
      ]
     },
     "execution_count": 9,
     "metadata": {},
     "output_type": "execute_result"
    }
   ],
   "source": [
    "dataset"
   ]
  },
  {
   "cell_type": "code",
   "execution_count": 10,
   "id": "db047a7c",
   "metadata": {},
   "outputs": [
    {
     "data": {
      "text/plain": [
       "292270"
      ]
     },
     "execution_count": 10,
     "metadata": {},
     "output_type": "execute_result"
    }
   ],
   "source": [
    "dataset['Nova Jersey'].sum()"
   ]
  },
  {
   "cell_type": "code",
   "execution_count": 11,
   "id": "498ec99f",
   "metadata": {},
   "outputs": [
    {
     "data": {
      "text/plain": [
       "210990"
      ]
     },
     "execution_count": 11,
     "metadata": {},
     "output_type": "execute_result"
    }
   ],
   "source": [
    "dataset['Florida'].sum()"
   ]
  },
  {
   "cell_type": "code",
   "execution_count": 16,
   "id": "08dd64b6",
   "metadata": {},
   "outputs": [],
   "source": [
    "dataset['% Nova Jersey'] = (dataset['Nova Jersey'] / dataset['Nova Jersey'].sum()) * 100"
   ]
  },
  {
   "cell_type": "code",
   "execution_count": 17,
   "id": "ffd394c7",
   "metadata": {},
   "outputs": [],
   "source": [
    "dataset['% Florida'] = (dataset['Florida'] / dataset['Florida'].sum()) * 100"
   ]
  },
  {
   "cell_type": "code",
   "execution_count": 18,
   "id": "e9e9a41e",
   "metadata": {},
   "outputs": [
    {
     "data": {
      "text/html": [
       "<div>\n",
       "<style scoped>\n",
       "    .dataframe tbody tr th:only-of-type {\n",
       "        vertical-align: middle;\n",
       "    }\n",
       "\n",
       "    .dataframe tbody tr th {\n",
       "        vertical-align: top;\n",
       "    }\n",
       "\n",
       "    .dataframe thead th {\n",
       "        text-align: right;\n",
       "    }\n",
       "</style>\n",
       "<table border=\"1\" class=\"dataframe\">\n",
       "  <thead>\n",
       "    <tr style=\"text-align: right;\">\n",
       "      <th></th>\n",
       "      <th>emprego</th>\n",
       "      <th>Nova Jersey</th>\n",
       "      <th>Florida</th>\n",
       "      <th>% Nova Jersey</th>\n",
       "      <th>% Florida</th>\n",
       "    </tr>\n",
       "  </thead>\n",
       "  <tbody>\n",
       "    <tr>\n",
       "      <th>0</th>\n",
       "      <td>Administrador Banco de dados</td>\n",
       "      <td>97350</td>\n",
       "      <td>77140</td>\n",
       "      <td>33.308242</td>\n",
       "      <td>36.560974</td>\n",
       "    </tr>\n",
       "    <tr>\n",
       "      <th>1</th>\n",
       "      <td>Programador</td>\n",
       "      <td>82080</td>\n",
       "      <td>71540</td>\n",
       "      <td>28.083621</td>\n",
       "      <td>33.906820</td>\n",
       "    </tr>\n",
       "    <tr>\n",
       "      <th>2</th>\n",
       "      <td>Arquiteto de redes</td>\n",
       "      <td>112840</td>\n",
       "      <td>62310</td>\n",
       "      <td>38.608136</td>\n",
       "      <td>29.532205</td>\n",
       "    </tr>\n",
       "  </tbody>\n",
       "</table>\n",
       "</div>"
      ],
      "text/plain": [
       "                        emprego  Nova Jersey  Florida  % Nova Jersey  \\\n",
       "0  Administrador Banco de dados        97350    77140      33.308242   \n",
       "1                   Programador        82080    71540      28.083621   \n",
       "2            Arquiteto de redes       112840    62310      38.608136   \n",
       "\n",
       "   % Florida  \n",
       "0  36.560974  \n",
       "1  33.906820  \n",
       "2  29.532205  "
      ]
     },
     "execution_count": 18,
     "metadata": {},
     "output_type": "execute_result"
    }
   ],
   "source": [
    "dataset"
   ]
  },
  {
   "cell_type": "code",
   "execution_count": null,
   "id": "c71a42a2",
   "metadata": {},
   "outputs": [],
   "source": []
  }
 ],
 "metadata": {
  "kernelspec": {
   "display_name": "Python 3 (ipykernel)",
   "language": "python",
   "name": "python3"
  },
  "language_info": {
   "codemirror_mode": {
    "name": "ipython",
    "version": 3
   },
   "file_extension": ".py",
   "mimetype": "text/x-python",
   "name": "python",
   "nbconvert_exporter": "python",
   "pygments_lexer": "ipython3",
   "version": "3.11.5"
  }
 },
 "nbformat": 4,
 "nbformat_minor": 5
}
