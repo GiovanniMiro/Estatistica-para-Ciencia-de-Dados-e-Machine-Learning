{
 "cells": [
  {
   "cell_type": "code",
   "execution_count": 2,
   "id": "883ebb75",
   "metadata": {},
   "outputs": [],
   "source": [
    "import numpy as np\n",
    "from scipy import stats\n",
    "import seaborn as sns\n",
    "import math"
   ]
  },
  {
   "cell_type": "markdown",
   "id": "629f7ac9",
   "metadata": {},
   "source": [
    "# Permutação"
   ]
  },
  {
   "cell_type": "markdown",
   "id": "86c631db",
   "metadata": {},
   "source": [
    "Exemplo: Senha com 5 caracteres com letras e números de 0 até 9, não podendo ser repetidos."
   ]
  },
  {
   "cell_type": "code",
   "execution_count": 3,
   "id": "cfc5551f",
   "metadata": {},
   "outputs": [
    {
     "data": {
      "text/plain": [
       "45239040.0"
      ]
     },
     "execution_count": 3,
     "metadata": {},
     "output_type": "execute_result"
    }
   ],
   "source": [
    "math.factorial(36) / math.factorial(36 - 5)"
   ]
  },
  {
   "cell_type": "markdown",
   "id": "c65b6914",
   "metadata": {},
   "source": [
    "Exemplo 2: Podendo haver repetição."
   ]
  },
  {
   "cell_type": "code",
   "execution_count": 8,
   "id": "536bc69f",
   "metadata": {},
   "outputs": [
    {
     "data": {
      "text/plain": [
       "60466176.0"
      ]
     },
     "execution_count": 8,
     "metadata": {},
     "output_type": "execute_result"
    }
   ],
   "source": [
    "math.pow(36, 5)"
   ]
  },
  {
   "cell_type": "markdown",
   "id": "69930a3b",
   "metadata": {},
   "source": [
    "# Combinação"
   ]
  },
  {
   "cell_type": "markdown",
   "id": "ce451885",
   "metadata": {},
   "source": [
    "Exemplo: Combinações de 2 letras que podem ser feitas com ABCDEF, sem considerar repetições."
   ]
  },
  {
   "cell_type": "code",
   "execution_count": 9,
   "id": "becb6157",
   "metadata": {},
   "outputs": [
    {
     "data": {
      "text/plain": [
       "15.0"
      ]
     },
     "execution_count": 9,
     "metadata": {},
     "output_type": "execute_result"
    }
   ],
   "source": [
    "math.factorial(6) / (math.factorial(2) * math.factorial(6 - 2))"
   ]
  },
  {
   "cell_type": "markdown",
   "id": "c2297316",
   "metadata": {},
   "source": [
    "Exemplo 2: Considerando repetições."
   ]
  },
  {
   "cell_type": "code",
   "execution_count": 10,
   "id": "5bebd5ec",
   "metadata": {},
   "outputs": [
    {
     "data": {
      "text/plain": [
       "21.0"
      ]
     },
     "execution_count": 10,
     "metadata": {},
     "output_type": "execute_result"
    }
   ],
   "source": [
    "math.factorial(6 + 2 - 1) / (math.factorial(2) * math.factorial(6 -1))"
   ]
  },
  {
   "cell_type": "markdown",
   "id": "6f68e2c3",
   "metadata": {},
   "source": [
    "# Interseção, união e diferença"
   ]
  },
  {
   "cell_type": "code",
   "execution_count": 1,
   "id": "d5a83b0a",
   "metadata": {},
   "outputs": [],
   "source": [
    "a = (0, 1, 2, 3, 4, 5, 6, 7)\n",
    "b = (0, 2, 4, 6, 8)"
   ]
  },
  {
   "cell_type": "markdown",
   "id": "08f03260",
   "metadata": {},
   "source": [
    "Interseção:"
   ]
  },
  {
   "cell_type": "code",
   "execution_count": 2,
   "id": "fffff993",
   "metadata": {},
   "outputs": [
    {
     "data": {
      "text/plain": [
       "{0, 2, 4, 6}"
      ]
     },
     "execution_count": 2,
     "metadata": {},
     "output_type": "execute_result"
    }
   ],
   "source": [
    "set(a) & set(b)"
   ]
  },
  {
   "cell_type": "markdown",
   "id": "682902d7",
   "metadata": {},
   "source": [
    "União:"
   ]
  },
  {
   "cell_type": "code",
   "execution_count": 3,
   "id": "979210e1",
   "metadata": {},
   "outputs": [
    {
     "data": {
      "text/plain": [
       "{0, 1, 2, 3, 4, 5, 6, 7, 8}"
      ]
     },
     "execution_count": 3,
     "metadata": {},
     "output_type": "execute_result"
    }
   ],
   "source": [
    "set(a) | set(b)"
   ]
  },
  {
   "cell_type": "markdown",
   "id": "44a7d3f0",
   "metadata": {},
   "source": [
    "Diferença:"
   ]
  },
  {
   "cell_type": "code",
   "execution_count": 4,
   "id": "65b05c18",
   "metadata": {},
   "outputs": [
    {
     "data": {
      "text/plain": [
       "{1, 3, 5, 7}"
      ]
     },
     "execution_count": 4,
     "metadata": {},
     "output_type": "execute_result"
    }
   ],
   "source": [
    "set(a).difference(set(b))"
   ]
  },
  {
   "cell_type": "code",
   "execution_count": 5,
   "id": "ad11c75f",
   "metadata": {},
   "outputs": [
    {
     "data": {
      "text/plain": [
       "{8}"
      ]
     },
     "execution_count": 5,
     "metadata": {},
     "output_type": "execute_result"
    }
   ],
   "source": [
    "set(b).difference(set(a))"
   ]
  },
  {
   "cell_type": "code",
   "execution_count": null,
   "id": "2e6c1436",
   "metadata": {},
   "outputs": [],
   "source": []
  }
 ],
 "metadata": {
  "kernelspec": {
   "display_name": "Python 3 (ipykernel)",
   "language": "python",
   "name": "python3"
  },
  "language_info": {
   "codemirror_mode": {
    "name": "ipython",
    "version": 3
   },
   "file_extension": ".py",
   "mimetype": "text/x-python",
   "name": "python",
   "nbconvert_exporter": "python",
   "pygments_lexer": "ipython3",
   "version": "3.11.5"
  }
 },
 "nbformat": 4,
 "nbformat_minor": 5
}
