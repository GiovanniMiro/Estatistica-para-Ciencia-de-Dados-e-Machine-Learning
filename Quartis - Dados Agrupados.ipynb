{
 "cells": [
  {
   "cell_type": "code",
   "execution_count": 5,
   "id": "cf882c16",
   "metadata": {},
   "outputs": [],
   "source": [
    "import numpy as np\n",
    "import pandas as pd\n",
    "import math\n",
    "from scipy import stats"
   ]
  },
  {
   "cell_type": "code",
   "execution_count": 6,
   "id": "1fd29ad4",
   "metadata": {},
   "outputs": [
    {
     "data": {
      "text/html": [
       "<div>\n",
       "<style scoped>\n",
       "    .dataframe tbody tr th:only-of-type {\n",
       "        vertical-align: middle;\n",
       "    }\n",
       "\n",
       "    .dataframe tbody tr th {\n",
       "        vertical-align: top;\n",
       "    }\n",
       "\n",
       "    .dataframe thead th {\n",
       "        text-align: right;\n",
       "    }\n",
       "</style>\n",
       "<table border=\"1\" class=\"dataframe\">\n",
       "  <thead>\n",
       "    <tr style=\"text-align: right;\">\n",
       "      <th></th>\n",
       "      <th>Estatura (cm)</th>\n",
       "      <th>fi</th>\n",
       "      <th>xi</th>\n",
       "      <th>fi.xi</th>\n",
       "      <th>Fi</th>\n",
       "    </tr>\n",
       "  </thead>\n",
       "  <tbody>\n",
       "    <tr>\n",
       "      <th>0</th>\n",
       "      <td>150-154</td>\n",
       "      <td>5</td>\n",
       "      <td>152.0</td>\n",
       "      <td>760.0</td>\n",
       "      <td>5</td>\n",
       "    </tr>\n",
       "    <tr>\n",
       "      <th>1</th>\n",
       "      <td>154-158</td>\n",
       "      <td>9</td>\n",
       "      <td>156.0</td>\n",
       "      <td>1404.0</td>\n",
       "      <td>14</td>\n",
       "    </tr>\n",
       "    <tr>\n",
       "      <th>2</th>\n",
       "      <td>158-162</td>\n",
       "      <td>11</td>\n",
       "      <td>160.0</td>\n",
       "      <td>1760.0</td>\n",
       "      <td>25</td>\n",
       "    </tr>\n",
       "    <tr>\n",
       "      <th>3</th>\n",
       "      <td>162-166</td>\n",
       "      <td>7</td>\n",
       "      <td>164.0</td>\n",
       "      <td>1148.0</td>\n",
       "      <td>32</td>\n",
       "    </tr>\n",
       "    <tr>\n",
       "      <th>4</th>\n",
       "      <td>166-170</td>\n",
       "      <td>5</td>\n",
       "      <td>168.0</td>\n",
       "      <td>840.0</td>\n",
       "      <td>37</td>\n",
       "    </tr>\n",
       "    <tr>\n",
       "      <th>5</th>\n",
       "      <td>170-174</td>\n",
       "      <td>3</td>\n",
       "      <td>172.0</td>\n",
       "      <td>516.0</td>\n",
       "      <td>40</td>\n",
       "    </tr>\n",
       "  </tbody>\n",
       "</table>\n",
       "</div>"
      ],
      "text/plain": [
       "  Estatura (cm)  fi     xi   fi.xi  Fi\n",
       "0       150-154   5  152.0   760.0   5\n",
       "1       154-158   9  156.0  1404.0  14\n",
       "2       158-162  11  160.0  1760.0  25\n",
       "3       162-166   7  164.0  1148.0  32\n",
       "4       166-170   5  168.0   840.0  37\n",
       "5       170-174   3  172.0   516.0  40"
      ]
     },
     "execution_count": 6,
     "metadata": {},
     "output_type": "execute_result"
    }
   ],
   "source": [
    "dados = np.array([160, 165, 167, 164, 160, 166, 160, 161, 150, 152, 173, 160, 155,\n",
    "                  164, 168, 162, 161, 168, 163, 156, 155, 169, 151, 170, 164,\n",
    "                  155, 152, 163, 160, 155, 157, 156, 158, 158, 161, 154, 161, 156, 172, 153])\n",
    "\n",
    "dados = np.sort(dados)\n",
    "\n",
    "minimo = dados.min()\n",
    "maximo = dados.max()\n",
    "i = 6 #Número de classes\n",
    "AA = maximo - minimo\n",
    "h = math.ceil(AA/i)\n",
    "intervalos = np.arange(minimo,maximo+2,step = h)\n",
    "\n",
    "inferior = intervalos[0:len(intervalos)-1]\n",
    "superior = intervalos[1:len(intervalos)]\n",
    "\n",
    "fi = [0]*i\n",
    "for j in range(len(dados)):\n",
    "    if dados[j] >= inferior[0] and dados[j] < superior[0]:\n",
    "        fi[0] += 1\n",
    "    if dados[j] >= inferior[1] and dados[j] < superior[1]:\n",
    "        fi[1] += 1\n",
    "    if dados[j] >= inferior[2] and dados[j] < superior[2]:\n",
    "        fi[2] += 1\n",
    "    if dados[j] >= inferior[3] and dados[j] < superior[3]:\n",
    "        fi[3] += 1\n",
    "    if dados[j] >= inferior[4] and dados[j] < superior[4]:\n",
    "        fi[4] += 1\n",
    "    if dados[j] >= inferior[5] and dados[j] < superior[5]:\n",
    "        fi[5] += 1\n",
    "\n",
    "estatura = []\n",
    "for z in range(len(fi)):\n",
    "    estatura.append(str(inferior[z]) + '-' + str(superior[z]))\n",
    "\n",
    "dataset = pd.DataFrame({'Estatura (cm)': estatura, 'fi': fi})\n",
    "\n",
    "dataset['xi'] = (superior + inferior)/2\n",
    "dataset['fi.xi'] = dataset['xi']*dataset['fi']\n",
    "\n",
    "frequencia_acumulada = []\n",
    "for i in range(len(dataset)):\n",
    "    if i == 0:\n",
    "        frequencia_acumulada.append(fi[i])\n",
    "    else:\n",
    "        frequencia_acumulada.append(fi[i] + frequencia_acumulada[i-1])\n",
    "        \n",
    "dataset['Fi'] = frequencia_acumulada\n",
    "dataset"
   ]
  },
  {
   "cell_type": "code",
   "execution_count": 15,
   "id": "81b7e1f8",
   "metadata": {},
   "outputs": [],
   "source": [
    "def get_quartil(dataframe, q1 = True):\n",
    "    if q1 == True:\n",
    "        fi_4 = dataframe['fi'].sum() / 4\n",
    "    else:\n",
    "        fi_4 = (3 * dataframe['fi'].sum()) / 4\n",
    "        \n",
    "    limite_inferior, frequencia_classe, id_frequencia_anterior, contador = 0, 0, 0, 0\n",
    "    for linha in dataframe.iterrows():\n",
    "        limite_inferior = inferior[contador]\n",
    "        frequencia_classe = linha[1][1]\n",
    "        id_frequencia_anterior = linha[0]\n",
    "        if linha[1][4] >= fi_4:\n",
    "            id_frequencia_anterior -= 1\n",
    "            break\n",
    "        contador += 1\n",
    "    Fi_anterior = dataframe.iloc[[id_frequencia_anterior]]['Fi'].values[0]\n",
    "    q = limite_inferior + ((fi_4 - Fi_anterior) * h) / frequencia_classe\n",
    "    \n",
    "    return q"
   ]
  },
  {
   "cell_type": "code",
   "execution_count": 16,
   "id": "e54314d6",
   "metadata": {},
   "outputs": [
    {
     "data": {
      "text/plain": [
       "(156.22222222222223, 164.85714285714286)"
      ]
     },
     "execution_count": 16,
     "metadata": {},
     "output_type": "execute_result"
    }
   ],
   "source": [
    "get_quartil(dataset), get_quartil(dataset, q1 = False)"
   ]
  },
  {
   "cell_type": "code",
   "execution_count": null,
   "id": "a6683d3a",
   "metadata": {},
   "outputs": [],
   "source": []
  }
 ],
 "metadata": {
  "kernelspec": {
   "display_name": "Python 3 (ipykernel)",
   "language": "python",
   "name": "python3"
  },
  "language_info": {
   "codemirror_mode": {
    "name": "ipython",
    "version": 3
   },
   "file_extension": ".py",
   "mimetype": "text/x-python",
   "name": "python",
   "nbconvert_exporter": "python",
   "pygments_lexer": "ipython3",
   "version": "3.11.5"
  }
 },
 "nbformat": 4,
 "nbformat_minor": 5
}
