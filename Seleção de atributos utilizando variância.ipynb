{
 "cells": [
  {
   "cell_type": "code",
   "execution_count": 1,
   "id": "aa01a01a",
   "metadata": {},
   "outputs": [],
   "source": [
    "import numpy as np\n",
    "import pandas as pd\n",
    "import math"
   ]
  },
  {
   "cell_type": "code",
   "execution_count": 2,
   "id": "32ec39d4",
   "metadata": {},
   "outputs": [
    {
     "data": {
      "text/plain": [
       "array([0.77958974, 0.63097927, 0.79273495, 0.84279219, 0.55180797,\n",
       "       0.13845554, 0.7625272 , 0.74843285, 0.44063963, 0.94493064,\n",
       "       0.85064857, 0.72833921, 0.97931482, 0.17085045, 0.40707152,\n",
       "       0.87324956, 0.72848349, 0.18820996, 0.60387068, 0.71871504,\n",
       "       0.68648971, 0.26697177, 0.35495799, 0.09185906, 0.14833803,\n",
       "       0.00131524, 0.72486551, 0.64490255, 0.22484929, 0.77314437,\n",
       "       0.00695664, 0.34731782, 0.89917714, 0.084424  , 0.34779689,\n",
       "       0.64580236, 0.37399708, 0.88324238, 0.1913062 , 0.5502106 ,\n",
       "       0.93179153, 0.78669835, 0.33513787, 0.14595361, 0.07785359,\n",
       "       0.0486817 , 0.73674255, 0.11441838, 0.33564575, 0.18084072])"
      ]
     },
     "execution_count": 2,
     "metadata": {},
     "output_type": "execute_result"
    }
   ],
   "source": [
    "np.random.rand(50)"
   ]
  },
  {
   "cell_type": "code",
   "execution_count": 3,
   "id": "a3d81ad9",
   "metadata": {},
   "outputs": [
    {
     "data": {
      "text/plain": [
       "0"
      ]
     },
     "execution_count": 3,
     "metadata": {},
     "output_type": "execute_result"
    }
   ],
   "source": [
    "np.random.randint(0, 2)"
   ]
  },
  {
   "cell_type": "code",
   "execution_count": 31,
   "id": "ec4e88ba",
   "metadata": {},
   "outputs": [
    {
     "data": {
      "text/plain": [
       "{'a': array([0.34412712, 0.53593362, 0.14662557, 0.618975  , 0.81365146,\n",
       "        0.97778479, 0.27164237, 0.83065555, 0.62075331, 0.10287599,\n",
       "        0.51137608, 0.23993849, 0.19006188, 0.05918208, 0.45539104,\n",
       "        0.24076667, 0.49283288, 0.53479786, 0.30261677, 0.96269319]),\n",
       " 'b': array([0.5, 0.5, 0.5, 0.5, 0.5, 0.5, 0.5, 0.5, 0.5, 0.5, 0.5, 0.5, 0.5,\n",
       "        0.5, 0.5, 0.5, 0.5, 0.5, 0.5, 0.5]),\n",
       " 'classe': array([0, 1, 0, 1, 1, 1, 1, 1, 1, 1, 0, 1, 0, 0, 0, 1, 1, 0, 1, 1])}"
      ]
     },
     "execution_count": 31,
     "metadata": {},
     "output_type": "execute_result"
    }
   ],
   "source": [
    "base_selecao = {'a': np.random.rand(20), 'b': np.array([0.5] * 20), 'classe': np.random.randint(0, 2, size = 20)}\n",
    "base_selecao"
   ]
  },
  {
   "cell_type": "code",
   "execution_count": 32,
   "id": "1888ed24",
   "metadata": {},
   "outputs": [
    {
     "data": {
      "text/html": [
       "<div>\n",
       "<style scoped>\n",
       "    .dataframe tbody tr th:only-of-type {\n",
       "        vertical-align: middle;\n",
       "    }\n",
       "\n",
       "    .dataframe tbody tr th {\n",
       "        vertical-align: top;\n",
       "    }\n",
       "\n",
       "    .dataframe thead th {\n",
       "        text-align: right;\n",
       "    }\n",
       "</style>\n",
       "<table border=\"1\" class=\"dataframe\">\n",
       "  <thead>\n",
       "    <tr style=\"text-align: right;\">\n",
       "      <th></th>\n",
       "      <th>a</th>\n",
       "      <th>b</th>\n",
       "      <th>classe</th>\n",
       "    </tr>\n",
       "  </thead>\n",
       "  <tbody>\n",
       "    <tr>\n",
       "      <th>0</th>\n",
       "      <td>0.344127</td>\n",
       "      <td>0.5</td>\n",
       "      <td>0</td>\n",
       "    </tr>\n",
       "    <tr>\n",
       "      <th>1</th>\n",
       "      <td>0.535934</td>\n",
       "      <td>0.5</td>\n",
       "      <td>1</td>\n",
       "    </tr>\n",
       "    <tr>\n",
       "      <th>2</th>\n",
       "      <td>0.146626</td>\n",
       "      <td>0.5</td>\n",
       "      <td>0</td>\n",
       "    </tr>\n",
       "    <tr>\n",
       "      <th>3</th>\n",
       "      <td>0.618975</td>\n",
       "      <td>0.5</td>\n",
       "      <td>1</td>\n",
       "    </tr>\n",
       "    <tr>\n",
       "      <th>4</th>\n",
       "      <td>0.813651</td>\n",
       "      <td>0.5</td>\n",
       "      <td>1</td>\n",
       "    </tr>\n",
       "  </tbody>\n",
       "</table>\n",
       "</div>"
      ],
      "text/plain": [
       "          a    b  classe\n",
       "0  0.344127  0.5       0\n",
       "1  0.535934  0.5       1\n",
       "2  0.146626  0.5       0\n",
       "3  0.618975  0.5       1\n",
       "4  0.813651  0.5       1"
      ]
     },
     "execution_count": 32,
     "metadata": {},
     "output_type": "execute_result"
    }
   ],
   "source": [
    "dataset = pd.DataFrame(base_selecao)\n",
    "dataset.head()"
   ]
  },
  {
   "cell_type": "code",
   "execution_count": 33,
   "id": "ea3bdccd",
   "metadata": {},
   "outputs": [
    {
     "data": {
      "text/html": [
       "<div>\n",
       "<style scoped>\n",
       "    .dataframe tbody tr th:only-of-type {\n",
       "        vertical-align: middle;\n",
       "    }\n",
       "\n",
       "    .dataframe tbody tr th {\n",
       "        vertical-align: top;\n",
       "    }\n",
       "\n",
       "    .dataframe thead th {\n",
       "        text-align: right;\n",
       "    }\n",
       "</style>\n",
       "<table border=\"1\" class=\"dataframe\">\n",
       "  <thead>\n",
       "    <tr style=\"text-align: right;\">\n",
       "      <th></th>\n",
       "      <th>a</th>\n",
       "      <th>b</th>\n",
       "      <th>classe</th>\n",
       "    </tr>\n",
       "  </thead>\n",
       "  <tbody>\n",
       "    <tr>\n",
       "      <th>count</th>\n",
       "      <td>20.000000</td>\n",
       "      <td>20.0</td>\n",
       "      <td>20.00000</td>\n",
       "    </tr>\n",
       "    <tr>\n",
       "      <th>mean</th>\n",
       "      <td>0.462634</td>\n",
       "      <td>0.5</td>\n",
       "      <td>0.65000</td>\n",
       "    </tr>\n",
       "    <tr>\n",
       "      <th>std</th>\n",
       "      <td>0.278979</td>\n",
       "      <td>0.0</td>\n",
       "      <td>0.48936</td>\n",
       "    </tr>\n",
       "    <tr>\n",
       "      <th>min</th>\n",
       "      <td>0.059182</td>\n",
       "      <td>0.5</td>\n",
       "      <td>0.00000</td>\n",
       "    </tr>\n",
       "    <tr>\n",
       "      <th>25%</th>\n",
       "      <td>0.240560</td>\n",
       "      <td>0.5</td>\n",
       "      <td>0.00000</td>\n",
       "    </tr>\n",
       "    <tr>\n",
       "      <th>50%</th>\n",
       "      <td>0.474112</td>\n",
       "      <td>0.5</td>\n",
       "      <td>1.00000</td>\n",
       "    </tr>\n",
       "    <tr>\n",
       "      <th>75%</th>\n",
       "      <td>0.619420</td>\n",
       "      <td>0.5</td>\n",
       "      <td>1.00000</td>\n",
       "    </tr>\n",
       "    <tr>\n",
       "      <th>max</th>\n",
       "      <td>0.977785</td>\n",
       "      <td>0.5</td>\n",
       "      <td>1.00000</td>\n",
       "    </tr>\n",
       "  </tbody>\n",
       "</table>\n",
       "</div>"
      ],
      "text/plain": [
       "               a     b    classe\n",
       "count  20.000000  20.0  20.00000\n",
       "mean    0.462634   0.5   0.65000\n",
       "std     0.278979   0.0   0.48936\n",
       "min     0.059182   0.5   0.00000\n",
       "25%     0.240560   0.5   0.00000\n",
       "50%     0.474112   0.5   1.00000\n",
       "75%     0.619420   0.5   1.00000\n",
       "max     0.977785   0.5   1.00000"
      ]
     },
     "execution_count": 33,
     "metadata": {},
     "output_type": "execute_result"
    }
   ],
   "source": [
    "dataset.describe()"
   ]
  },
  {
   "cell_type": "code",
   "execution_count": 34,
   "id": "95b98790",
   "metadata": {},
   "outputs": [
    {
     "data": {
      "text/plain": [
       "(0.0739379653604435, 0.0)"
      ]
     },
     "execution_count": 34,
     "metadata": {},
     "output_type": "execute_result"
    }
   ],
   "source": [
    "np.var(dataset['a']), np.var(dataset['b'])"
   ]
  },
  {
   "cell_type": "code",
   "execution_count": 35,
   "id": "a283dbf0",
   "metadata": {},
   "outputs": [
    {
     "data": {
      "text/plain": [
       "(array([[0.34412712, 0.5       ],\n",
       "        [0.53593362, 0.5       ],\n",
       "        [0.14662557, 0.5       ],\n",
       "        [0.618975  , 0.5       ],\n",
       "        [0.81365146, 0.5       ],\n",
       "        [0.97778479, 0.5       ],\n",
       "        [0.27164237, 0.5       ],\n",
       "        [0.83065555, 0.5       ],\n",
       "        [0.62075331, 0.5       ],\n",
       "        [0.10287599, 0.5       ],\n",
       "        [0.51137608, 0.5       ],\n",
       "        [0.23993849, 0.5       ],\n",
       "        [0.19006188, 0.5       ],\n",
       "        [0.05918208, 0.5       ],\n",
       "        [0.45539104, 0.5       ],\n",
       "        [0.24076667, 0.5       ],\n",
       "        [0.49283288, 0.5       ],\n",
       "        [0.53479786, 0.5       ],\n",
       "        [0.30261677, 0.5       ],\n",
       "        [0.96269319, 0.5       ]]),\n",
       " array([0, 1, 0, 1, 1, 1, 1, 1, 1, 1, 0, 1, 0, 0, 0, 1, 1, 0, 1, 1]))"
      ]
     },
     "execution_count": 35,
     "metadata": {},
     "output_type": "execute_result"
    }
   ],
   "source": [
    "X = dataset.iloc[:,0:2].values\n",
    "y = dataset.iloc[:,2].values\n",
    "X, y"
   ]
  },
  {
   "cell_type": "code",
   "execution_count": 36,
   "id": "f2dbbba2",
   "metadata": {},
   "outputs": [],
   "source": [
    "from sklearn.feature_selection import VarianceThreshold"
   ]
  },
  {
   "cell_type": "code",
   "execution_count": 38,
   "id": "4a92207e",
   "metadata": {},
   "outputs": [],
   "source": [
    "selecao = VarianceThreshold(threshold = 0.07) #Excluir valores com variância menor\n",
    "X_novo = selecao.fit_transform(X)"
   ]
  },
  {
   "cell_type": "code",
   "execution_count": 39,
   "id": "ef8612f7",
   "metadata": {},
   "outputs": [
    {
     "data": {
      "text/plain": [
       "(array([[0.34412712],\n",
       "        [0.53593362],\n",
       "        [0.14662557],\n",
       "        [0.618975  ],\n",
       "        [0.81365146],\n",
       "        [0.97778479],\n",
       "        [0.27164237],\n",
       "        [0.83065555],\n",
       "        [0.62075331],\n",
       "        [0.10287599],\n",
       "        [0.51137608],\n",
       "        [0.23993849],\n",
       "        [0.19006188],\n",
       "        [0.05918208],\n",
       "        [0.45539104],\n",
       "        [0.24076667],\n",
       "        [0.49283288],\n",
       "        [0.53479786],\n",
       "        [0.30261677],\n",
       "        [0.96269319]]),\n",
       " (20, 1))"
      ]
     },
     "execution_count": 39,
     "metadata": {},
     "output_type": "execute_result"
    }
   ],
   "source": [
    "X_novo, X_novo.shape"
   ]
  },
  {
   "cell_type": "code",
   "execution_count": 40,
   "id": "5e767803",
   "metadata": {},
   "outputs": [
    {
     "data": {
      "text/plain": [
       "array([0.07393797, 0.        ])"
      ]
     },
     "execution_count": 40,
     "metadata": {},
     "output_type": "execute_result"
    }
   ],
   "source": [
    "selecao.variances_"
   ]
  },
  {
   "cell_type": "code",
   "execution_count": 41,
   "id": "c33e6d3d",
   "metadata": {},
   "outputs": [
    {
     "data": {
      "text/plain": [
       "(array([0], dtype=int64),)"
      ]
     },
     "execution_count": 41,
     "metadata": {},
     "output_type": "execute_result"
    }
   ],
   "source": [
    "indices = np.where(selecao.variances_ > 0.07)\n",
    "indices"
   ]
  },
  {
   "cell_type": "code",
   "execution_count": null,
   "id": "af98ea3b",
   "metadata": {},
   "outputs": [],
   "source": []
  }
 ],
 "metadata": {
  "kernelspec": {
   "display_name": "Python 3 (ipykernel)",
   "language": "python",
   "name": "python3"
  },
  "language_info": {
   "codemirror_mode": {
    "name": "ipython",
    "version": 3
   },
   "file_extension": ".py",
   "mimetype": "text/x-python",
   "name": "python",
   "nbconvert_exporter": "python",
   "pygments_lexer": "ipython3",
   "version": "3.11.5"
  }
 },
 "nbformat": 4,
 "nbformat_minor": 5
}
