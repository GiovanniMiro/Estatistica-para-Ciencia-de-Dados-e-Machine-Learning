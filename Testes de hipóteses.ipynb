{
 "cells": [
  {
   "cell_type": "markdown",
   "id": "969687da",
   "metadata": {},
   "source": [
    "# Bibliotecas"
   ]
  },
  {
   "cell_type": "code",
   "execution_count": 23,
   "id": "a129f10e",
   "metadata": {},
   "outputs": [],
   "source": [
    "import numpy as np\n",
    "import pandas as pd\n",
    "import math\n",
    "from scipy.stats import norm"
   ]
  },
  {
   "cell_type": "markdown",
   "id": "c452078a",
   "metadata": {},
   "source": [
    "# Base de dados "
   ]
  },
  {
   "cell_type": "code",
   "execution_count": null,
   "id": "4571da89",
   "metadata": {},
   "outputs": [],
   "source": [
    "dados_originais = np.array([126. , 129.5, 133. , 133. , 136.5, 136.5, 140. , 140. , 140. ,\n",
    "                  140. , 143.5, 143.5, 143.5, 143.5, 143.5, 143.5, 147. , 147. ,\n",
    "                  147. , 147. , 147. , 147. , 147. , 150.5, 150.5, 150.5, 150.5,\n",
    "                  150.5, 150.5, 150.5, 150.5, 154. , 154. , 154. , 154. , 154. ,\n",
    "                  154. , 154. , 154. , 154. , 157.5, 157.5, 157.5, 157.5, 157.5,\n",
    "                  157.5, 157.5, 157.5, 157.5, 157.5, 161. , 161. , 161. , 161. ,\n",
    "                  161. , 161. , 161. , 161. , 161. , 161. , 164.5, 164.5, 164.5,\n",
    "                  164.5, 164.5, 164.5, 164.5, 164.5, 164.5, 168. , 168. , 168. ,\n",
    "                  168. , 168. , 168. , 168. , 168. , 171.5, 171.5, 171.5, 171.5,\n",
    "                  171.5, 171.5, 171.5, 175. , 175. , 175. , 175. , 175. , 175. ,\n",
    "                  178.5, 178.5, 178.5, 178.5, 182. , 182. , 185.5, 185.5, 189., 192.5])"
   ]
  },
  {
   "cell_type": "code",
   "execution_count": null,
   "id": "100b6fc4",
   "metadata": {},
   "outputs": [],
   "source": [
    "H0_media = np.mean(dados_originais)\n",
    "H0_media"
   ]
  },
  {
   "cell_type": "code",
   "execution_count": null,
   "id": "1f20f604",
   "metadata": {},
   "outputs": [],
   "source": [
    "H0_dp = np.std(dados_originais)\n",
    "H0_dp"
   ]
  },
  {
   "cell_type": "code",
   "execution_count": null,
   "id": "c0b94ffa",
   "metadata": {},
   "outputs": [],
   "source": [
    "dados_novos = dados_originais * 1.03\n",
    "dados_novos"
   ]
  },
  {
   "cell_type": "code",
   "execution_count": null,
   "id": "c3fb7aeb",
   "metadata": {},
   "outputs": [],
   "source": [
    "H1_media = np.mean(dados_novos)\n",
    "H1_media"
   ]
  },
  {
   "cell_type": "code",
   "execution_count": null,
   "id": "c8531628",
   "metadata": {},
   "outputs": [],
   "source": [
    "H1_dp = np.std(dados_novos)\n",
    "H1_dp"
   ]
  },
  {
   "cell_type": "code",
   "execution_count": null,
   "id": "93a2f037",
   "metadata": {},
   "outputs": [],
   "source": [
    "H1_n = len(dados_novos)\n",
    "H1_n"
   ]
  },
  {
   "cell_type": "code",
   "execution_count": null,
   "id": "114ec445",
   "metadata": {},
   "outputs": [],
   "source": [
    "alpha = 0.05"
   ]
  },
  {
   "cell_type": "markdown",
   "id": "863177e8",
   "metadata": {},
   "source": [
    "# Teste de hipótese Z "
   ]
  },
  {
   "cell_type": "markdown",
   "id": "af7d611e",
   "metadata": {},
   "source": [
    "Teste manual"
   ]
  },
  {
   "cell_type": "code",
   "execution_count": null,
   "id": "c9be1247",
   "metadata": {},
   "outputs": [],
   "source": [
    "Z = (H1_media - H0_media) / (H1_dp / math.sqrt(H1_n))\n",
    "Z"
   ]
  },
  {
   "cell_type": "code",
   "execution_count": null,
   "id": "9ad51895",
   "metadata": {},
   "outputs": [],
   "source": [
    "norm.cdf(Z)"
   ]
  },
  {
   "cell_type": "code",
   "execution_count": null,
   "id": "dcc8da36",
   "metadata": {},
   "outputs": [],
   "source": [
    "Z = norm.cdf(Z)\n",
    "Z"
   ]
  },
  {
   "cell_type": "code",
   "execution_count": null,
   "id": "a381b420",
   "metadata": {},
   "outputs": [],
   "source": [
    "p = 1 - Z\n",
    "p"
   ]
  },
  {
   "cell_type": "code",
   "execution_count": null,
   "id": "92c5adb4",
   "metadata": {},
   "outputs": [],
   "source": [
    "if p < alpha:\n",
    "    print('Hipótese nula rejeitada')\n",
    "else:\n",
    "    print('Hipótese alternativa rejeitada')"
   ]
  },
  {
   "cell_type": "markdown",
   "id": "181d31d0",
   "metadata": {},
   "source": [
    "Teste com statsmodels"
   ]
  },
  {
   "cell_type": "code",
   "execution_count": null,
   "id": "decbba88",
   "metadata": {},
   "outputs": [],
   "source": [
    "from statsmodels.stats.weightstats import ztest"
   ]
  },
  {
   "cell_type": "code",
   "execution_count": null,
   "id": "02738f80",
   "metadata": {},
   "outputs": [],
   "source": [
    "_, p = ztest(dados_originais, dados_novos, value = H1_media - H0_media, alternative = 'larger')\n",
    "p"
   ]
  },
  {
   "cell_type": "markdown",
   "id": "9c15acbf",
   "metadata": {},
   "source": [
    "# Teste qui quadrado"
   ]
  },
  {
   "cell_type": "code",
   "execution_count": null,
   "id": "1a9c0ac9",
   "metadata": {},
   "outputs": [],
   "source": [
    "from scipy.stats import chi2_contingency"
   ]
  },
  {
   "cell_type": "code",
   "execution_count": null,
   "id": "7284ba47",
   "metadata": {},
   "outputs": [],
   "source": [
    "tabela = np.array([[45, 5], [5, 45]])"
   ]
  },
  {
   "cell_type": "code",
   "execution_count": null,
   "id": "250f12c1",
   "metadata": {},
   "outputs": [],
   "source": [
    "tabela.shape"
   ]
  },
  {
   "cell_type": "code",
   "execution_count": null,
   "id": "5a0ea377",
   "metadata": {},
   "outputs": [],
   "source": [
    "p =chi2_contingency(tabela)[1]\n",
    "p"
   ]
  },
  {
   "cell_type": "code",
   "execution_count": null,
   "id": "8a953b85",
   "metadata": {},
   "outputs": [],
   "source": [
    "alpha = 0.05\n",
    "if p <= alpha:\n",
    "    print('Hipótese nula rejeitada')\n",
    "else:\n",
    "    print('Hipótese alternativa rejeitada')"
   ]
  },
  {
   "cell_type": "markdown",
   "id": "b150b84b",
   "metadata": {},
   "source": [
    "# Seleção de atributos com testes de hipóteses - univariate SelectFdr"
   ]
  },
  {
   "cell_type": "code",
   "execution_count": null,
   "id": "bbb5a077",
   "metadata": {},
   "outputs": [],
   "source": [
    "from sklearn.feature_selection import SelectFdr\n",
    "from sklearn.feature_selection import chi2\n",
    "from sklearn.naive_bayes import GaussianNB\n",
    "from sklearn.metrics import accuracy_score"
   ]
  },
  {
   "cell_type": "code",
   "execution_count": null,
   "id": "3eb4c3b7",
   "metadata": {},
   "outputs": [],
   "source": [
    "dataset = pd.read_csv('ad.data', header = None)\n",
    "dataset.head()"
   ]
  },
  {
   "cell_type": "code",
   "execution_count": null,
   "id": "48a9e637",
   "metadata": {},
   "outputs": [],
   "source": [
    "dataset.shape"
   ]
  },
  {
   "cell_type": "code",
   "execution_count": null,
   "id": "4f9d9602",
   "metadata": {},
   "outputs": [],
   "source": [
    "X = dataset.iloc[:,0:1558].values\n",
    "y = dataset.iloc[:,1558].values"
   ]
  },
  {
   "cell_type": "code",
   "execution_count": null,
   "id": "d85ea485",
   "metadata": {},
   "outputs": [],
   "source": [
    "X, y"
   ]
  },
  {
   "cell_type": "code",
   "execution_count": null,
   "id": "eb7769a8",
   "metadata": {},
   "outputs": [],
   "source": [
    "np.unique(y, return_counts = True)"
   ]
  },
  {
   "cell_type": "code",
   "execution_count": null,
   "id": "a06500f5",
   "metadata": {},
   "outputs": [],
   "source": [
    "naive1 = GaussianNB()\n",
    "naive1.fit(X, y)\n",
    "previsoes1 = naive1.predict(X)\n",
    "accuracy_score(y, previsoes1)"
   ]
  },
  {
   "cell_type": "code",
   "execution_count": null,
   "id": "7234f5e1",
   "metadata": {},
   "outputs": [],
   "source": [
    "selecao = SelectFdr(chi2, alpha = 0.01)\n",
    "X_novo = selecao.fit_transform(X, y)"
   ]
  },
  {
   "cell_type": "code",
   "execution_count": null,
   "id": "0f489e61",
   "metadata": {},
   "outputs": [],
   "source": [
    "X.shape, X_novo.shape"
   ]
  },
  {
   "cell_type": "code",
   "execution_count": null,
   "id": "50a220e5",
   "metadata": {},
   "outputs": [],
   "source": [
    "selecao.pvalues_"
   ]
  },
  {
   "cell_type": "code",
   "execution_count": null,
   "id": "7443eca3",
   "metadata": {},
   "outputs": [],
   "source": [
    "np.sum(selecao.pvalues_ <= 0.01)"
   ]
  },
  {
   "cell_type": "code",
   "execution_count": null,
   "id": "71729d0a",
   "metadata": {},
   "outputs": [],
   "source": [
    "colunas = selecao.get_support()\n",
    "colunas"
   ]
  },
  {
   "cell_type": "code",
   "execution_count": null,
   "id": "6ee11b48",
   "metadata": {},
   "outputs": [],
   "source": [
    "indices = np.where(colunas == True)\n",
    "indices"
   ]
  },
  {
   "cell_type": "code",
   "execution_count": null,
   "id": "d55d8e66",
   "metadata": {},
   "outputs": [],
   "source": [
    "naive2 = GaussianNB()\n",
    "naive2.fit(X_novo, y)\n",
    "previsoes2 = naive2.predict(X_novo)\n",
    "accuracy_score(y, previsoes2)"
   ]
  },
  {
   "cell_type": "markdown",
   "id": "7a1f9992",
   "metadata": {},
   "source": [
    "# ANOVA"
   ]
  },
  {
   "cell_type": "code",
   "execution_count": null,
   "id": "2467f0a4",
   "metadata": {},
   "outputs": [],
   "source": [
    "grupo_a = np.array([165, 152, 143, 140, 155])\n",
    "grupo_b = np.array([130, 169, 164, 143, 154])\n",
    "grupo_c = np.array([163, 158, 154, 149, 156])"
   ]
  },
  {
   "cell_type": "code",
   "execution_count": null,
   "id": "549af019",
   "metadata": {},
   "outputs": [],
   "source": [
    "from scipy.stats import f"
   ]
  },
  {
   "cell_type": "code",
   "execution_count": null,
   "id": "c06f9caa",
   "metadata": {},
   "outputs": [],
   "source": [
    "f.ppf(1 - 0.05, dfn = 2, dfd = 12)"
   ]
  },
  {
   "cell_type": "code",
   "execution_count": null,
   "id": "da62088c",
   "metadata": {},
   "outputs": [],
   "source": [
    "from scipy.stats import f_oneway"
   ]
  },
  {
   "cell_type": "code",
   "execution_count": null,
   "id": "f3123c1b",
   "metadata": {},
   "outputs": [],
   "source": [
    "_, p = f_oneway(grupo_a, grupo_b, grupo_c)\n",
    "p"
   ]
  },
  {
   "cell_type": "code",
   "execution_count": null,
   "id": "e6361783",
   "metadata": {},
   "outputs": [],
   "source": [
    "alpha = 0.05\n",
    "if p <= alpha:\n",
    "    print('hipótese nula rejeitada')\n",
    "else:\n",
    "    print('hipótese alternativa rejeitada')"
   ]
  },
  {
   "cell_type": "markdown",
   "id": "d4fda11f",
   "metadata": {},
   "source": [
    "## Teste de Tukey"
   ]
  },
  {
   "cell_type": "code",
   "execution_count": null,
   "id": "5269fc7b",
   "metadata": {},
   "outputs": [],
   "source": [
    "dados = {'valores': [165, 1522, 143, 140, 155, 130, 169, 164, 143, 154, 163, 158, 154, 149, 156], 'grupos': ['A','A','A','A','A','B','B','B','B','B','C','C','C','C','C']}"
   ]
  },
  {
   "cell_type": "code",
   "execution_count": null,
   "id": "9b09a484",
   "metadata": {},
   "outputs": [],
   "source": [
    "dados_pd = pd.DataFrame(dados)\n",
    "dados_pd"
   ]
  },
  {
   "cell_type": "code",
   "execution_count": null,
   "id": "647c95b7",
   "metadata": {},
   "outputs": [],
   "source": [
    "from statsmodels.stats.multicomp import MultiComparison"
   ]
  },
  {
   "cell_type": "code",
   "execution_count": null,
   "id": "f69dac85",
   "metadata": {},
   "outputs": [],
   "source": [
    "compara_grupos = MultiComparison(dados_pd['valores'], dados_pd['grupos'])"
   ]
  },
  {
   "cell_type": "code",
   "execution_count": null,
   "id": "f58bb1c7",
   "metadata": {},
   "outputs": [],
   "source": [
    "teste = compara_grupos.tukeyhsd()\n",
    "print(teste)"
   ]
  },
  {
   "cell_type": "code",
   "execution_count": null,
   "id": "33204e81",
   "metadata": {},
   "outputs": [],
   "source": [
    "teste.plot_simultaneous();"
   ]
  },
  {
   "cell_type": "markdown",
   "id": "663893dd",
   "metadata": {},
   "source": [
    "## Seleção de atributos com ANOVA"
   ]
  },
  {
   "cell_type": "code",
   "execution_count": null,
   "id": "7215d54c",
   "metadata": {},
   "outputs": [],
   "source": [
    "from sklearn.feature_selection import f_classif"
   ]
  },
  {
   "cell_type": "code",
   "execution_count": null,
   "id": "b61e1223",
   "metadata": {},
   "outputs": [],
   "source": [
    "selecao = SelectFdr(f_classif, alpha = 0.01)\n",
    "X_novo_2 = selecao.fit_transform(X, y)"
   ]
  },
  {
   "cell_type": "code",
   "execution_count": null,
   "id": "fa4cf4a2",
   "metadata": {},
   "outputs": [],
   "source": [
    "X.shape, X_novo.shape, X_novo_2.shape"
   ]
  },
  {
   "cell_type": "code",
   "execution_count": null,
   "id": "9f492c0a",
   "metadata": {},
   "outputs": [],
   "source": [
    "selecao.pvalues_"
   ]
  },
  {
   "cell_type": "code",
   "execution_count": null,
   "id": "0fb06638",
   "metadata": {},
   "outputs": [],
   "source": [
    "np.sum(selecao.pvalues_ < 0.01)"
   ]
  },
  {
   "cell_type": "code",
   "execution_count": null,
   "id": "82a6c4c3",
   "metadata": {},
   "outputs": [],
   "source": [
    "naive3 = GaussianNB()\n",
    "naive3.fit(X_novo_2, y)\n",
    "previsoes3 = naive3.predict(X_novo_2)\n",
    "accuracy_score(y, previsoes3)"
   ]
  },
  {
   "cell_type": "markdown",
   "id": "8b9adc43",
   "metadata": {},
   "source": [
    "## Resultados dos algoritmos de machine learning "
   ]
  },
  {
   "cell_type": "code",
   "execution_count": 24,
   "id": "6313cb6f",
   "metadata": {},
   "outputs": [
    {
     "data": {
      "text/html": [
       "<div>\n",
       "<style scoped>\n",
       "    .dataframe tbody tr th:only-of-type {\n",
       "        vertical-align: middle;\n",
       "    }\n",
       "\n",
       "    .dataframe tbody tr th {\n",
       "        vertical-align: top;\n",
       "    }\n",
       "\n",
       "    .dataframe thead th {\n",
       "        text-align: right;\n",
       "    }\n",
       "</style>\n",
       "<table border=\"1\" class=\"dataframe\">\n",
       "  <thead>\n",
       "    <tr style=\"text-align: right;\">\n",
       "      <th></th>\n",
       "      <th>i#clientid</th>\n",
       "      <th>income</th>\n",
       "      <th>age</th>\n",
       "      <th>loan</th>\n",
       "      <th>c#default</th>\n",
       "    </tr>\n",
       "  </thead>\n",
       "  <tbody>\n",
       "    <tr>\n",
       "      <th>0</th>\n",
       "      <td>1</td>\n",
       "      <td>66155.925095</td>\n",
       "      <td>59.017015</td>\n",
       "      <td>8106.532131</td>\n",
       "      <td>0</td>\n",
       "    </tr>\n",
       "    <tr>\n",
       "      <th>1</th>\n",
       "      <td>2</td>\n",
       "      <td>34415.153966</td>\n",
       "      <td>48.117153</td>\n",
       "      <td>6564.745018</td>\n",
       "      <td>0</td>\n",
       "    </tr>\n",
       "    <tr>\n",
       "      <th>2</th>\n",
       "      <td>3</td>\n",
       "      <td>57317.170063</td>\n",
       "      <td>63.108049</td>\n",
       "      <td>8020.953296</td>\n",
       "      <td>0</td>\n",
       "    </tr>\n",
       "    <tr>\n",
       "      <th>3</th>\n",
       "      <td>4</td>\n",
       "      <td>42709.534201</td>\n",
       "      <td>45.751972</td>\n",
       "      <td>6103.642260</td>\n",
       "      <td>0</td>\n",
       "    </tr>\n",
       "    <tr>\n",
       "      <th>4</th>\n",
       "      <td>5</td>\n",
       "      <td>66952.688845</td>\n",
       "      <td>18.584336</td>\n",
       "      <td>8770.099235</td>\n",
       "      <td>1</td>\n",
       "    </tr>\n",
       "  </tbody>\n",
       "</table>\n",
       "</div>"
      ],
      "text/plain": [
       "   i#clientid        income        age         loan  c#default\n",
       "0           1  66155.925095  59.017015  8106.532131          0\n",
       "1           2  34415.153966  48.117153  6564.745018          0\n",
       "2           3  57317.170063  63.108049  8020.953296          0\n",
       "3           4  42709.534201  45.751972  6103.642260          0\n",
       "4           5  66952.688845  18.584336  8770.099235          1"
      ]
     },
     "execution_count": 24,
     "metadata": {},
     "output_type": "execute_result"
    }
   ],
   "source": [
    "import pandas as pd\n",
    "from sklearn.naive_bayes import GaussianNB\n",
    "from sklearn.linear_model import LogisticRegression\n",
    "from sklearn.ensemble import RandomForestClassifier\n",
    "from sklearn.model_selection import cross_val_score, KFold\n",
    "dataset = pd.read_csv('credit_data.csv')\n",
    "dataset.dropna(inplace = True)\n",
    "dataset.head()"
   ]
  },
  {
   "cell_type": "code",
   "execution_count": 25,
   "id": "0875b3bc",
   "metadata": {},
   "outputs": [],
   "source": [
    "X = dataset.iloc[:, 1:4].values\n",
    "y = dataset.iloc[:,4].values"
   ]
  },
  {
   "cell_type": "code",
   "execution_count": 26,
   "id": "9c02f9f5",
   "metadata": {},
   "outputs": [
    {
     "data": {
      "text/plain": [
       "(59.0170150669292, 66155.9250950813)"
      ]
     },
     "execution_count": 26,
     "metadata": {},
     "output_type": "execute_result"
    }
   ],
   "source": [
    "min(X[0]), max(X[0])"
   ]
  },
  {
   "cell_type": "code",
   "execution_count": 27,
   "id": "41905f50",
   "metadata": {},
   "outputs": [],
   "source": [
    "from sklearn.preprocessing import StandardScaler\n",
    "scaler = StandardScaler()\n",
    "X = scaler.fit_transform(X)"
   ]
  },
  {
   "cell_type": "code",
   "execution_count": 28,
   "id": "0e5b7389",
   "metadata": {},
   "outputs": [
    {
     "data": {
      "text/plain": [
       "(1.2019070702053862, 1.4538977547824534)"
      ]
     },
     "execution_count": 28,
     "metadata": {},
     "output_type": "execute_result"
    }
   ],
   "source": [
    "min(X[0]), max(X[0])"
   ]
  },
  {
   "cell_type": "code",
   "execution_count": 29,
   "id": "828d6122",
   "metadata": {},
   "outputs": [],
   "source": [
    "resultados_nb = []\n",
    "resultados_lr = []\n",
    "resultados_rf = []\n",
    "\n",
    "for i in range(30):\n",
    "    kfold = KFold(n_splits = 10, shuffle = True, random_state = i)\n",
    "    \n",
    "    nb = GaussianNB()\n",
    "    scores = cross_val_score(nb, X, y, cv = kfold)\n",
    "    resultados_nb.append(scores.mean())\n",
    "    \n",
    "    lr = LogisticRegression()\n",
    "    scores = cross_val_score(lr, X, y, cv = kfold)\n",
    "    resultados_lr.append(scores.mean())\n",
    "    \n",
    "    rf = RandomForestClassifier()\n",
    "    scores = cross_val_score(rf, X, y, cv = kfold)\n",
    "    resultados_rf.append(scores.mean())\n",
    "    \n",
    "resultados_nb = np.array(resultados_nb)\n",
    "resultados_lr = np.array(resultados_lr)\n",
    "resultados_rf = np.array(resultados_rf)"
   ]
  },
  {
   "cell_type": "code",
   "execution_count": 31,
   "id": "c6304d89",
   "metadata": {
    "scrolled": false
   },
   "outputs": [
    {
     "data": {
      "text/plain": [
       "(0.9249859296482411, 0.9457008375209381, 0.9867298994974874)"
      ]
     },
     "execution_count": 31,
     "metadata": {},
     "output_type": "execute_result"
    }
   ],
   "source": [
    "resultados_nb.mean(), resultados_lr.mean(), resultados_rf.mean()"
   ]
  },
  {
   "cell_type": "markdown",
   "id": "91e96dda",
   "metadata": {},
   "source": [
    "## Teste de hipótese de Shapiro-Wilk"
   ]
  },
  {
   "cell_type": "code",
   "execution_count": 32,
   "id": "a4688a6e",
   "metadata": {},
   "outputs": [],
   "source": [
    "alpha = 0.05"
   ]
  },
  {
   "cell_type": "code",
   "execution_count": 33,
   "id": "adcbaa2b",
   "metadata": {},
   "outputs": [
    {
     "data": {
      "text/plain": [
       "(ShapiroResult(statistic=0.9646664261817932, pvalue=0.40516602993011475),\n",
       " ShapiroResult(statistic=0.9463125467300415, pvalue=0.13457602262496948),\n",
       " ShapiroResult(statistic=0.9825697541236877, pvalue=0.8889768719673157))"
      ]
     },
     "execution_count": 33,
     "metadata": {},
     "output_type": "execute_result"
    }
   ],
   "source": [
    "from scipy.stats import shapiro\n",
    "shapiro(resultados_nb), shapiro(resultados_lr), shapiro(resultados_rf)"
   ]
  },
  {
   "cell_type": "code",
   "execution_count": 34,
   "id": "814a0f81",
   "metadata": {},
   "outputs": [
    {
     "data": {
      "text/plain": [
       "<Axes: ylabel='Count'>"
      ]
     },
     "execution_count": 34,
     "metadata": {},
     "output_type": "execute_result"
    },
    {
     "data": {
      "image/png": "[encoded data removed]",
      "text/plain": [
       "<Figure size 640x480 with 1 Axes>"
      ]
     },
     "metadata": {},
     "output_type": "display_data"
    }
   ],
   "source": [
    "import seaborn as sns\n",
    "sns.histplot(resultados_nb)"
   ]
  },
  {
   "cell_type": "code",
   "execution_count": 35,
   "id": "74550845",
   "metadata": {},
   "outputs": [
    {
     "data": {
      "image/png": "[encoded data removed]",
      "text/plain": [
       "<Figure size 640x480 with 1 Axes>"
      ]
     },
     "metadata": {},
     "output_type": "display_data"
    }
   ],
   "source": [
    "sns.histplot(resultados_lr);"
   ]
  },
  {
   "cell_type": "code",
   "execution_count": 36,
   "id": "05f0c065",
   "metadata": {},
   "outputs": [
    {
     "data": {
      "image/png": "[encoded data removed]",
      "text/plain": [
       "<Figure size 640x480 with 1 Axes>"
      ]
     },
     "metadata": {},
     "output_type": "display_data"
    }
   ],
   "source": [
    "sns.histplot(resultados_rf);"
   ]
  },
  {
   "cell_type": "markdown",
   "id": "1640c428",
   "metadata": {},
   "source": [
    "## Teste de hipótese de D'Agostinho K^2"
   ]
  },
  {
   "cell_type": "code",
   "execution_count": 37,
   "id": "afa606c9",
   "metadata": {},
   "outputs": [
    {
     "data": {
      "text/plain": [
       "(NormaltestResult(statistic=0.8391668731677201, pvalue=0.6573205784978502),\n",
       " NormaltestResult(statistic=4.079254883823804, pvalue=0.1300771631514313),\n",
       " NormaltestResult(statistic=0.09069868203358666, pvalue=0.9556635710285103))"
      ]
     },
     "execution_count": 37,
     "metadata": {},
     "output_type": "execute_result"
    }
   ],
   "source": [
    "from scipy.stats import normaltest\n",
    "normaltest(resultados_nb), normaltest(resultados_lr), normaltest(resultados_rf)"
   ]
  },
  {
   "cell_type": "markdown",
   "id": "2437afee",
   "metadata": {},
   "source": [
    "## Teste de hipótese de Anderson-Darling"
   ]
  },
  {
   "cell_type": "code",
   "execution_count": 38,
   "id": "576b14c0",
   "metadata": {},
   "outputs": [
    {
     "data": {
      "text/plain": [
       "(0.5456346672421084, 0.6048933015735933, 0.1997342054487241)"
      ]
     },
     "execution_count": 38,
     "metadata": {},
     "output_type": "execute_result"
    }
   ],
   "source": [
    "from scipy.stats import anderson\n",
    "anderson(resultados_nb).statistic, anderson(resultados_lr).statistic, anderson(resultados_rf).statistic "
   ]
  },
  {
   "cell_type": "markdown",
   "id": "0445dd27",
   "metadata": {},
   "source": [
    "## Testes não paramétricos"
   ]
  },
  {
   "cell_type": "markdown",
   "id": "eb818d99",
   "metadata": {},
   "source": [
    "## Teste de Wilcoxon Signed-Rank"
   ]
  },
  {
   "cell_type": "code",
   "execution_count": 39,
   "id": "d642c685",
   "metadata": {},
   "outputs": [],
   "source": [
    "alpha = 0.05"
   ]
  },
  {
   "cell_type": "code",
   "execution_count": 40,
   "id": "f637bb93",
   "metadata": {},
   "outputs": [
    {
     "data": {
      "text/plain": [
       "1.862645149230957e-09"
      ]
     },
     "execution_count": 40,
     "metadata": {},
     "output_type": "execute_result"
    }
   ],
   "source": [
    "from scipy.stats import wilcoxon\n",
    "_, p =wilcoxon(resultados_nb, resultados_lr)\n",
    "p"
   ]
  },
  {
   "cell_type": "code",
   "execution_count": 41,
   "id": "2d4445e2",
   "metadata": {},
   "outputs": [
    {
     "data": {
      "text/plain": [
       "1.862645149230957e-09"
      ]
     },
     "execution_count": 41,
     "metadata": {},
     "output_type": "execute_result"
    }
   ],
   "source": [
    "_, p =wilcoxon(resultados_nb, resultados_rf)\n",
    "p"
   ]
  },
  {
   "cell_type": "code",
   "execution_count": 42,
   "id": "4f8e109a",
   "metadata": {},
   "outputs": [
    {
     "data": {
      "text/plain": [
       "1.862645149230957e-09"
      ]
     },
     "execution_count": 42,
     "metadata": {},
     "output_type": "execute_result"
    }
   ],
   "source": [
    "_, p =wilcoxon(resultados_lr, resultados_rf)\n",
    "p"
   ]
  },
  {
   "cell_type": "markdown",
   "id": "74482c10",
   "metadata": {},
   "source": [
    "## Teste de Friedman"
   ]
  },
  {
   "cell_type": "code",
   "execution_count": 43,
   "id": "112c26d1",
   "metadata": {},
   "outputs": [],
   "source": [
    "from scipy.stats import friedmanchisquare"
   ]
  },
  {
   "cell_type": "code",
   "execution_count": 45,
   "id": "ac8f3007",
   "metadata": {},
   "outputs": [
    {
     "data": {
      "text/plain": [
       "9.357622968840163e-14"
      ]
     },
     "execution_count": 45,
     "metadata": {},
     "output_type": "execute_result"
    }
   ],
   "source": [
    "_, p = friedmanchisquare(resultados_nb, resultados_lr, resultados_rf)\n",
    "p"
   ]
  },
  {
   "cell_type": "markdown",
   "id": "ce957c3a",
   "metadata": {},
   "source": [
    "# Exercício"
   ]
  },
  {
   "cell_type": "markdown",
   "id": "5cf8f5ac",
   "metadata": {},
   "source": [
    "Aplicar o ANOVA e o teste de Turkey na base de dados."
   ]
  },
  {
   "cell_type": "code",
   "execution_count": 65,
   "id": "93e97de4",
   "metadata": {},
   "outputs": [],
   "source": [
    "from scipy.stats import f_oneway"
   ]
  },
  {
   "cell_type": "code",
   "execution_count": 66,
   "id": "e04a2df6",
   "metadata": {},
   "outputs": [
    {
     "data": {
      "text/plain": [
       "4.4278328114549097e-116"
      ]
     },
     "execution_count": 66,
     "metadata": {},
     "output_type": "execute_result"
    }
   ],
   "source": [
    "_, p = f_oneway(resultados_nb, resultados_lr, resultados_rf)\n",
    "p"
   ]
  },
  {
   "cell_type": "code",
   "execution_count": 67,
   "id": "2ef6b7d7",
   "metadata": {},
   "outputs": [
    {
     "name": "stdout",
     "output_type": "stream",
     "text": [
      "Hipótese nula rejeitada. Dados são diferentes\n"
     ]
    }
   ],
   "source": [
    "alpha = 0.05\n",
    "if p <= alpha:\n",
    "    print('Hipótese nula rejeitada. Dados são diferentes')\n",
    "else:\n",
    "    print('Hipótese alternativa rejeitada')"
   ]
  },
  {
   "cell_type": "code",
   "execution_count": 69,
   "id": "f45f5d15",
   "metadata": {},
   "outputs": [
    {
     "name": "stdout",
     "output_type": "stream",
     "text": [
      "['naive', 'naive', 'naive', 'naive', 'naive', 'naive', 'naive', 'naive', 'naive', 'naive', 'naive', 'naive', 'naive', 'naive', 'naive', 'naive', 'naive', 'naive', 'naive', 'naive', 'naive', 'naive', 'naive', 'naive', 'naive', 'naive', 'naive', 'naive', 'naive', 'naive', 'logistic', 'logistic', 'logistic', 'logistic', 'logistic', 'logistic', 'logistic', 'logistic', 'logistic', 'logistic', 'logistic', 'logistic', 'logistic', 'logistic', 'logistic', 'logistic', 'logistic', 'logistic', 'logistic', 'logistic', 'logistic', 'logistic', 'logistic', 'logistic', 'logistic', 'logistic', 'logistic', 'logistic', 'logistic', 'logistic', 'forest', 'forest', 'forest', 'forest', 'forest', 'forest', 'forest', 'forest', 'forest', 'forest', 'forest', 'forest', 'forest', 'forest', 'forest', 'forest', 'forest', 'forest', 'forest', 'forest', 'forest', 'forest', 'forest', 'forest', 'forest', 'forest', 'forest', 'forest', 'forest', 'forest']\n"
     ]
    }
   ],
   "source": [
    "algoritmos = []\n",
    "for i in range(3):\n",
    "    for j in range(30):\n",
    "        if i == 0:\n",
    "            algoritmo = 'naive'\n",
    "        if i == 1:\n",
    "            algoritmo = 'logistic'\n",
    "        if i == 2:\n",
    "            algoritmo = 'forest'\n",
    "        \n",
    "        algoritmos.append(algoritmo)\n",
    "\n",
    "print(algoritmos)"
   ]
  },
  {
   "cell_type": "code",
   "execution_count": 72,
   "id": "6c94290e",
   "metadata": {},
   "outputs": [
    {
     "data": {
      "text/plain": [
       "(array(['forest', 'logistic', 'naive'], dtype='<U8'),\n",
       " array([30, 30, 30], dtype=int64))"
      ]
     },
     "execution_count": 72,
     "metadata": {},
     "output_type": "execute_result"
    }
   ],
   "source": [
    "np.unique(algoritmos, return_counts = True)"
   ]
  },
  {
   "cell_type": "code",
   "execution_count": 77,
   "id": "6a68b009",
   "metadata": {},
   "outputs": [],
   "source": [
    "resultado_algoritmos = {'accuracy': np.concatenate([resultados_nb, resultados_lr, resultados_rf]), 'algoritmos': algoritmos}\n",
    "resultado"
   ]
  },
  {
   "cell_type": "code",
   "execution_count": 79,
   "id": "da70f1a1",
   "metadata": {},
   "outputs": [
    {
     "data": {
      "text/html": [
       "<div>\n",
       "<style scoped>\n",
       "    .dataframe tbody tr th:only-of-type {\n",
       "        vertical-align: middle;\n",
       "    }\n",
       "\n",
       "    .dataframe tbody tr th {\n",
       "        vertical-align: top;\n",
       "    }\n",
       "\n",
       "    .dataframe thead th {\n",
       "        text-align: right;\n",
       "    }\n",
       "</style>\n",
       "<table border=\"1\" class=\"dataframe\">\n",
       "  <thead>\n",
       "    <tr style=\"text-align: right;\">\n",
       "      <th></th>\n",
       "      <th>accuracy</th>\n",
       "      <th>algoritmos</th>\n",
       "    </tr>\n",
       "  </thead>\n",
       "  <tbody>\n",
       "    <tr>\n",
       "      <th>0</th>\n",
       "      <td>0.924862</td>\n",
       "      <td>naive</td>\n",
       "    </tr>\n",
       "    <tr>\n",
       "      <th>1</th>\n",
       "      <td>0.924917</td>\n",
       "      <td>naive</td>\n",
       "    </tr>\n",
       "    <tr>\n",
       "      <th>2</th>\n",
       "      <td>0.924387</td>\n",
       "      <td>naive</td>\n",
       "    </tr>\n",
       "    <tr>\n",
       "      <th>3</th>\n",
       "      <td>0.922882</td>\n",
       "      <td>naive</td>\n",
       "    </tr>\n",
       "    <tr>\n",
       "      <th>4</th>\n",
       "      <td>0.924872</td>\n",
       "      <td>naive</td>\n",
       "    </tr>\n",
       "    <tr>\n",
       "      <th>...</th>\n",
       "      <td>...</td>\n",
       "      <td>...</td>\n",
       "    </tr>\n",
       "    <tr>\n",
       "      <th>85</th>\n",
       "      <td>0.987985</td>\n",
       "      <td>forest</td>\n",
       "    </tr>\n",
       "    <tr>\n",
       "      <th>86</th>\n",
       "      <td>0.984475</td>\n",
       "      <td>forest</td>\n",
       "    </tr>\n",
       "    <tr>\n",
       "      <th>87</th>\n",
       "      <td>0.985480</td>\n",
       "      <td>forest</td>\n",
       "    </tr>\n",
       "    <tr>\n",
       "      <th>88</th>\n",
       "      <td>0.989995</td>\n",
       "      <td>forest</td>\n",
       "    </tr>\n",
       "    <tr>\n",
       "      <th>89</th>\n",
       "      <td>0.984985</td>\n",
       "      <td>forest</td>\n",
       "    </tr>\n",
       "  </tbody>\n",
       "</table>\n",
       "<p>90 rows × 2 columns</p>\n",
       "</div>"
      ],
      "text/plain": [
       "    accuracy algoritmos\n",
       "0   0.924862      naive\n",
       "1   0.924917      naive\n",
       "2   0.924387      naive\n",
       "3   0.922882      naive\n",
       "4   0.924872      naive\n",
       "..       ...        ...\n",
       "85  0.987985     forest\n",
       "86  0.984475     forest\n",
       "87  0.985480     forest\n",
       "88  0.989995     forest\n",
       "89  0.984985     forest\n",
       "\n",
       "[90 rows x 2 columns]"
      ]
     },
     "execution_count": 79,
     "metadata": {},
     "output_type": "execute_result"
    }
   ],
   "source": [
    "resultados_df = pd.DataFrame(resultado_algoritmos)\n",
    "resultados_df"
   ]
  },
  {
   "cell_type": "code",
   "execution_count": 82,
   "id": "0105fe40",
   "metadata": {},
   "outputs": [],
   "source": [
    "from statsmodels.stats.multicomp import MultiComparison"
   ]
  },
  {
   "cell_type": "code",
   "execution_count": 84,
   "id": "ddc580b5",
   "metadata": {},
   "outputs": [],
   "source": [
    "compara_grupos = MultiComparison(resultados_df['accuracy'], resultados_df['algoritmos'])"
   ]
  },
  {
   "cell_type": "code",
   "execution_count": 85,
   "id": "b7444a1f",
   "metadata": {},
   "outputs": [
    {
     "name": "stdout",
     "output_type": "stream",
     "text": [
      "  Multiple Comparison of Means - Tukey HSD, FWER=0.05  \n",
      "=======================================================\n",
      " group1   group2  meandiff p-adj  lower   upper  reject\n",
      "-------------------------------------------------------\n",
      "  forest logistic   -0.041   0.0 -0.0418 -0.0403   True\n",
      "  forest    naive  -0.0617   0.0 -0.0625  -0.061   True\n",
      "logistic    naive  -0.0207   0.0 -0.0215   -0.02   True\n",
      "-------------------------------------------------------\n"
     ]
    }
   ],
   "source": [
    "teste = compara_grupos.tukeyhsd()\n",
    "print(teste)"
   ]
  },
  {
   "cell_type": "code",
   "execution_count": 86,
   "id": "60236795",
   "metadata": {},
   "outputs": [
    {
     "data": {
      "image/png": "[encoded data removed]",
      "text/plain": [
       "<Figure size 1000x600 with 1 Axes>"
      ]
     },
     "metadata": {},
     "output_type": "display_data"
    }
   ],
   "source": [
    "teste.plot_simultaneous();"
   ]
  },
  {
   "cell_type": "markdown",
   "id": "d79b27b5",
   "metadata": {},
   "source": [
    "## Teste de Nemenyi"
   ]
  },
  {
   "cell_type": "code",
   "execution_count": 88,
   "id": "8083e3bf",
   "metadata": {},
   "outputs": [
    {
     "data": {
      "text/html": [
       "<div>\n",
       "<style scoped>\n",
       "    .dataframe tbody tr th:only-of-type {\n",
       "        vertical-align: middle;\n",
       "    }\n",
       "\n",
       "    .dataframe tbody tr th {\n",
       "        vertical-align: top;\n",
       "    }\n",
       "\n",
       "    .dataframe thead th {\n",
       "        text-align: right;\n",
       "    }\n",
       "</style>\n",
       "<table border=\"1\" class=\"dataframe\">\n",
       "  <thead>\n",
       "    <tr style=\"text-align: right;\">\n",
       "      <th></th>\n",
       "      <th>naive</th>\n",
       "      <th>logistic</th>\n",
       "      <th>forest</th>\n",
       "    </tr>\n",
       "  </thead>\n",
       "  <tbody>\n",
       "    <tr>\n",
       "      <th>0</th>\n",
       "      <td>0.924862</td>\n",
       "      <td>0.946427</td>\n",
       "      <td>0.984970</td>\n",
       "    </tr>\n",
       "    <tr>\n",
       "      <th>1</th>\n",
       "      <td>0.924917</td>\n",
       "      <td>0.946402</td>\n",
       "      <td>0.987485</td>\n",
       "    </tr>\n",
       "    <tr>\n",
       "      <th>2</th>\n",
       "      <td>0.924387</td>\n",
       "      <td>0.946417</td>\n",
       "      <td>0.984477</td>\n",
       "    </tr>\n",
       "    <tr>\n",
       "      <th>3</th>\n",
       "      <td>0.922882</td>\n",
       "      <td>0.944910</td>\n",
       "      <td>0.986470</td>\n",
       "    </tr>\n",
       "    <tr>\n",
       "      <th>4</th>\n",
       "      <td>0.924872</td>\n",
       "      <td>0.945915</td>\n",
       "      <td>0.989487</td>\n",
       "    </tr>\n",
       "    <tr>\n",
       "      <th>5</th>\n",
       "      <td>0.925889</td>\n",
       "      <td>0.942917</td>\n",
       "      <td>0.986480</td>\n",
       "    </tr>\n",
       "    <tr>\n",
       "      <th>6</th>\n",
       "      <td>0.924384</td>\n",
       "      <td>0.944912</td>\n",
       "      <td>0.987980</td>\n",
       "    </tr>\n",
       "    <tr>\n",
       "      <th>7</th>\n",
       "      <td>0.924889</td>\n",
       "      <td>0.946902</td>\n",
       "      <td>0.986480</td>\n",
       "    </tr>\n",
       "    <tr>\n",
       "      <th>8</th>\n",
       "      <td>0.924872</td>\n",
       "      <td>0.945415</td>\n",
       "      <td>0.987975</td>\n",
       "    </tr>\n",
       "    <tr>\n",
       "      <th>9</th>\n",
       "      <td>0.923889</td>\n",
       "      <td>0.943927</td>\n",
       "      <td>0.986982</td>\n",
       "    </tr>\n",
       "    <tr>\n",
       "      <th>10</th>\n",
       "      <td>0.925384</td>\n",
       "      <td>0.946425</td>\n",
       "      <td>0.986977</td>\n",
       "    </tr>\n",
       "    <tr>\n",
       "      <th>11</th>\n",
       "      <td>0.924402</td>\n",
       "      <td>0.945422</td>\n",
       "      <td>0.987977</td>\n",
       "    </tr>\n",
       "    <tr>\n",
       "      <th>12</th>\n",
       "      <td>0.925374</td>\n",
       "      <td>0.946422</td>\n",
       "      <td>0.985977</td>\n",
       "    </tr>\n",
       "    <tr>\n",
       "      <th>13</th>\n",
       "      <td>0.924394</td>\n",
       "      <td>0.945402</td>\n",
       "      <td>0.986977</td>\n",
       "    </tr>\n",
       "    <tr>\n",
       "      <th>14</th>\n",
       "      <td>0.924887</td>\n",
       "      <td>0.944410</td>\n",
       "      <td>0.988987</td>\n",
       "    </tr>\n",
       "    <tr>\n",
       "      <th>15</th>\n",
       "      <td>0.925382</td>\n",
       "      <td>0.945922</td>\n",
       "      <td>0.989482</td>\n",
       "    </tr>\n",
       "    <tr>\n",
       "      <th>16</th>\n",
       "      <td>0.925884</td>\n",
       "      <td>0.945940</td>\n",
       "      <td>0.986482</td>\n",
       "    </tr>\n",
       "    <tr>\n",
       "      <th>17</th>\n",
       "      <td>0.924394</td>\n",
       "      <td>0.944912</td>\n",
       "      <td>0.985972</td>\n",
       "    </tr>\n",
       "    <tr>\n",
       "      <th>18</th>\n",
       "      <td>0.924382</td>\n",
       "      <td>0.945399</td>\n",
       "      <td>0.984475</td>\n",
       "    </tr>\n",
       "    <tr>\n",
       "      <th>19</th>\n",
       "      <td>0.925884</td>\n",
       "      <td>0.946417</td>\n",
       "      <td>0.985485</td>\n",
       "    </tr>\n",
       "    <tr>\n",
       "      <th>20</th>\n",
       "      <td>0.925894</td>\n",
       "      <td>0.947435</td>\n",
       "      <td>0.985475</td>\n",
       "    </tr>\n",
       "    <tr>\n",
       "      <th>21</th>\n",
       "      <td>0.925389</td>\n",
       "      <td>0.944912</td>\n",
       "      <td>0.987482</td>\n",
       "    </tr>\n",
       "    <tr>\n",
       "      <th>22</th>\n",
       "      <td>0.924364</td>\n",
       "      <td>0.946425</td>\n",
       "      <td>0.982977</td>\n",
       "    </tr>\n",
       "    <tr>\n",
       "      <th>23</th>\n",
       "      <td>0.926884</td>\n",
       "      <td>0.944910</td>\n",
       "      <td>0.988480</td>\n",
       "    </tr>\n",
       "    <tr>\n",
       "      <th>24</th>\n",
       "      <td>0.923394</td>\n",
       "      <td>0.945899</td>\n",
       "      <td>0.986982</td>\n",
       "    </tr>\n",
       "    <tr>\n",
       "      <th>25</th>\n",
       "      <td>0.924889</td>\n",
       "      <td>0.945922</td>\n",
       "      <td>0.987985</td>\n",
       "    </tr>\n",
       "    <tr>\n",
       "      <th>26</th>\n",
       "      <td>0.924887</td>\n",
       "      <td>0.947440</td>\n",
       "      <td>0.984475</td>\n",
       "    </tr>\n",
       "    <tr>\n",
       "      <th>27</th>\n",
       "      <td>0.925392</td>\n",
       "      <td>0.945422</td>\n",
       "      <td>0.985480</td>\n",
       "    </tr>\n",
       "    <tr>\n",
       "      <th>28</th>\n",
       "      <td>0.925884</td>\n",
       "      <td>0.946425</td>\n",
       "      <td>0.989995</td>\n",
       "    </tr>\n",
       "    <tr>\n",
       "      <th>29</th>\n",
       "      <td>0.926384</td>\n",
       "      <td>0.945422</td>\n",
       "      <td>0.984985</td>\n",
       "    </tr>\n",
       "  </tbody>\n",
       "</table>\n",
       "</div>"
      ],
      "text/plain": [
       "       naive  logistic    forest\n",
       "0   0.924862  0.946427  0.984970\n",
       "1   0.924917  0.946402  0.987485\n",
       "2   0.924387  0.946417  0.984477\n",
       "3   0.922882  0.944910  0.986470\n",
       "4   0.924872  0.945915  0.989487\n",
       "5   0.925889  0.942917  0.986480\n",
       "6   0.924384  0.944912  0.987980\n",
       "7   0.924889  0.946902  0.986480\n",
       "8   0.924872  0.945415  0.987975\n",
       "9   0.923889  0.943927  0.986982\n",
       "10  0.925384  0.946425  0.986977\n",
       "11  0.924402  0.945422  0.987977\n",
       "12  0.925374  0.946422  0.985977\n",
       "13  0.924394  0.945402  0.986977\n",
       "14  0.924887  0.944410  0.988987\n",
       "15  0.925382  0.945922  0.989482\n",
       "16  0.925884  0.945940  0.986482\n",
       "17  0.924394  0.944912  0.985972\n",
       "18  0.924382  0.945399  0.984475\n",
       "19  0.925884  0.946417  0.985485\n",
       "20  0.925894  0.947435  0.985475\n",
       "21  0.925389  0.944912  0.987482\n",
       "22  0.924364  0.946425  0.982977\n",
       "23  0.926884  0.944910  0.988480\n",
       "24  0.923394  0.945899  0.986982\n",
       "25  0.924889  0.945922  0.987985\n",
       "26  0.924887  0.947440  0.984475\n",
       "27  0.925392  0.945422  0.985480\n",
       "28  0.925884  0.946425  0.989995\n",
       "29  0.926384  0.945422  0.984985"
      ]
     },
     "execution_count": 88,
     "metadata": {},
     "output_type": "execute_result"
    }
   ],
   "source": [
    "resultados = {'naive': resultados_nb, 'logistic': resultados_lr, 'forest': resultados_rf}\n",
    "resultados_df = pd.DataFrame(resultados)\n",
    "resultados_df"
   ]
  },
  {
   "cell_type": "code",
   "execution_count": 89,
   "id": "ae706f9e",
   "metadata": {},
   "outputs": [],
   "source": [
    "resultados_df.to_excel('resultados_excel.xlsx', sheet_name = 'resultados')"
   ]
  },
  {
   "cell_type": "markdown",
   "id": "47d52ea6",
   "metadata": {},
   "source": [
    "## Dados normais"
   ]
  },
  {
   "cell_type": "code",
   "execution_count": 4,
   "id": "71e36ef3",
   "metadata": {},
   "outputs": [],
   "source": [
    "import pandas as pd\n",
    "import seaborn as sns"
   ]
  },
  {
   "cell_type": "code",
   "execution_count": 5,
   "id": "213256b7",
   "metadata": {},
   "outputs": [
    {
     "data": {
      "text/html": [
       "<div>\n",
       "<style scoped>\n",
       "    .dataframe tbody tr th:only-of-type {\n",
       "        vertical-align: middle;\n",
       "    }\n",
       "\n",
       "    .dataframe tbody tr th {\n",
       "        vertical-align: top;\n",
       "    }\n",
       "\n",
       "    .dataframe thead th {\n",
       "        text-align: right;\n",
       "    }\n",
       "</style>\n",
       "<table border=\"1\" class=\"dataframe\">\n",
       "  <thead>\n",
       "    <tr style=\"text-align: right;\">\n",
       "      <th></th>\n",
       "      <th>D1</th>\n",
       "      <th>D2</th>\n",
       "    </tr>\n",
       "  </thead>\n",
       "  <tbody>\n",
       "    <tr>\n",
       "      <th>0</th>\n",
       "      <td>0.7928</td>\n",
       "      <td>0.7983</td>\n",
       "    </tr>\n",
       "    <tr>\n",
       "      <th>1</th>\n",
       "      <td>0.7926</td>\n",
       "      <td>0.7983</td>\n",
       "    </tr>\n",
       "    <tr>\n",
       "      <th>2</th>\n",
       "      <td>0.7925</td>\n",
       "      <td>0.7982</td>\n",
       "    </tr>\n",
       "    <tr>\n",
       "      <th>3</th>\n",
       "      <td>0.7928</td>\n",
       "      <td>0.7982</td>\n",
       "    </tr>\n",
       "    <tr>\n",
       "      <th>4</th>\n",
       "      <td>0.7928</td>\n",
       "      <td>0.7982</td>\n",
       "    </tr>\n",
       "  </tbody>\n",
       "</table>\n",
       "</div>"
      ],
      "text/plain": [
       "       D1      D2\n",
       "0  0.7928  0.7983\n",
       "1  0.7926  0.7983\n",
       "2  0.7925  0.7982\n",
       "3  0.7928  0.7982\n",
       "4  0.7928  0.7982"
      ]
     },
     "execution_count": 5,
     "metadata": {},
     "output_type": "execute_result"
    }
   ],
   "source": [
    "dataset = pd.read_csv('trip_d1_d2.csv', sep = ';')\n",
    "dataset.head()"
   ]
  },
  {
   "cell_type": "code",
   "execution_count": 23,
   "id": "29753b9d",
   "metadata": {},
   "outputs": [
    {
     "data": {
      "image/png": "[encoded data removed]",
      "text/plain": [
       "<Figure size 640x480 with 1 Axes>"
      ]
     },
     "metadata": {},
     "output_type": "display_data"
    }
   ],
   "source": [
    "sns.histplot(dataset['D1'], kde = True, bins = 5);"
   ]
  },
  {
   "cell_type": "code",
   "execution_count": 24,
   "id": "ab9d22aa",
   "metadata": {},
   "outputs": [
    {
     "data": {
      "image/png": "[encoded data removed]",
      "text/plain": [
       "<Figure size 640x480 with 1 Axes>"
      ]
     },
     "metadata": {},
     "output_type": "display_data"
    }
   ],
   "source": [
    "sns.histplot(dataset['D2'], kde = True, bins = 5);"
   ]
  },
  {
   "cell_type": "code",
   "execution_count": 25,
   "id": "296e319f",
   "metadata": {},
   "outputs": [
    {
     "data": {
      "text/plain": [
       "(ShapiroResult(statistic=0.7709192037582397, pvalue=2.0211115042911842e-05),\n",
       " ShapiroResult(statistic=0.88901686668396, pvalue=0.004572464618831873))"
      ]
     },
     "execution_count": 25,
     "metadata": {},
     "output_type": "execute_result"
    }
   ],
   "source": [
    "from scipy.stats import shapiro\n",
    "shapiro(dataset['D1']),shapiro(dataset['D2'])"
   ]
  },
  {
   "cell_type": "code",
   "execution_count": 27,
   "id": "6901cf63",
   "metadata": {},
   "outputs": [
    {
     "data": {
      "text/plain": [
       "1.862645149230957e-09"
      ]
     },
     "execution_count": 27,
     "metadata": {},
     "output_type": "execute_result"
    }
   ],
   "source": [
    "from scipy.stats import wilcoxon\n",
    "_, p = wilcoxon(dataset['D1'], dataset['D2'])\n",
    "p"
   ]
  },
  {
   "cell_type": "code",
   "execution_count": null,
   "id": "6f272afa",
   "metadata": {},
   "outputs": [],
   "source": []
  }
 ],
 "metadata": {
  "kernelspec": {
   "display_name": "Python 3 (ipykernel)",
   "language": "python",
   "name": "python3"
  },
  "language_info": {
   "codemirror_mode": {
    "name": "ipython",
    "version": 3
   },
   "file_extension": ".py",
   "mimetype": "text/x-python",
   "name": "python",
   "nbconvert_exporter": "python",
   "pygments_lexer": "ipython3",
   "version": "3.11.5"
  }
 },
 "nbformat": 4,
 "nbformat_minor": 5
}
