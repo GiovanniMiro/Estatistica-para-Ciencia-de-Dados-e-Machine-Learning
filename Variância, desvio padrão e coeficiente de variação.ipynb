{
 "cells": [
  {
   "cell_type": "code",
   "execution_count": 12,
   "id": "f59f05ce",
   "metadata": {},
   "outputs": [],
   "source": [
    "import numpy as np\n",
    "import pandas as pd\n",
    "import math\n",
    "from scipy import stats\n",
    "import statistics"
   ]
  },
  {
   "cell_type": "code",
   "execution_count": 24,
   "id": "ae3dcc16",
   "metadata": {},
   "outputs": [],
   "source": [
    "dados_impar = np.array([150, 151, 152, 152, 153, 154, 155, 155, 155])"
   ]
  },
  {
   "cell_type": "markdown",
   "id": "18a49e12",
   "metadata": {},
   "source": [
    "# VARIÂNCIA"
   ]
  },
  {
   "cell_type": "markdown",
   "id": "c00b5587",
   "metadata": {},
   "source": [
    "Cálculo manual:"
   ]
  },
  {
   "cell_type": "code",
   "execution_count": 14,
   "id": "e3722e6b",
   "metadata": {},
   "outputs": [
    {
     "data": {
      "text/plain": [
       "153.0"
      ]
     },
     "execution_count": 14,
     "metadata": {},
     "output_type": "execute_result"
    }
   ],
   "source": [
    "media = dados_impar.sum() / len(dados_impar)\n",
    "media"
   ]
  },
  {
   "cell_type": "code",
   "execution_count": 15,
   "id": "a624f1ea",
   "metadata": {},
   "outputs": [
    {
     "data": {
      "text/plain": [
       "array([3., 2., 1., 1., 0., 1., 2., 2., 2.])"
      ]
     },
     "execution_count": 15,
     "metadata": {},
     "output_type": "execute_result"
    }
   ],
   "source": [
    "desvio = abs(dados_impar - media)\n",
    "desvio"
   ]
  },
  {
   "cell_type": "code",
   "execution_count": 16,
   "id": "e0520bc0",
   "metadata": {},
   "outputs": [
    {
     "data": {
      "text/plain": [
       "array([9., 4., 1., 1., 0., 1., 4., 4., 4.])"
      ]
     },
     "execution_count": 16,
     "metadata": {},
     "output_type": "execute_result"
    }
   ],
   "source": [
    "desvio = desvio ** 2\n",
    "desvio"
   ]
  },
  {
   "cell_type": "code",
   "execution_count": 17,
   "id": "1e4f7d89",
   "metadata": {},
   "outputs": [
    {
     "data": {
      "text/plain": [
       "28.0"
      ]
     },
     "execution_count": 17,
     "metadata": {},
     "output_type": "execute_result"
    }
   ],
   "source": [
    "soma_desvio = desvio.sum()\n",
    "soma_desvio"
   ]
  },
  {
   "cell_type": "code",
   "execution_count": 18,
   "id": "c111660e",
   "metadata": {},
   "outputs": [
    {
     "data": {
      "text/plain": [
       "3.111111111111111"
      ]
     },
     "execution_count": 18,
     "metadata": {},
     "output_type": "execute_result"
    }
   ],
   "source": [
    "v = soma_desvio / len(dados_impar)\n",
    "v"
   ]
  },
  {
   "cell_type": "markdown",
   "id": "20d42c2c",
   "metadata": {},
   "source": [
    "Usando as bibliotecas"
   ]
  },
  {
   "cell_type": "markdown",
   "id": "ddccc3f1",
   "metadata": {},
   "source": [
    "Numpy:"
   ]
  },
  {
   "cell_type": "code",
   "execution_count": 19,
   "id": "c1ef591a",
   "metadata": {},
   "outputs": [
    {
     "data": {
      "text/plain": [
       "3.111111111111111"
      ]
     },
     "execution_count": 19,
     "metadata": {},
     "output_type": "execute_result"
    }
   ],
   "source": [
    "np.var(dados_impar)"
   ]
  },
  {
   "cell_type": "markdown",
   "id": "1338f18a",
   "metadata": {},
   "source": [
    "Statistics:"
   ]
  },
  {
   "cell_type": "code",
   "execution_count": 21,
   "id": "ed0295d5",
   "metadata": {},
   "outputs": [
    {
     "data": {
      "text/plain": [
       "3"
      ]
     },
     "execution_count": 21,
     "metadata": {},
     "output_type": "execute_result"
    }
   ],
   "source": [
    "statistics.variance(dados_impar)"
   ]
  },
  {
   "cell_type": "markdown",
   "id": "069d3e17",
   "metadata": {},
   "source": [
    "Scipy:"
   ]
  },
  {
   "cell_type": "code",
   "execution_count": 30,
   "id": "c971003f",
   "metadata": {},
   "outputs": [],
   "source": [
    "from scipy import ndimage"
   ]
  },
  {
   "cell_type": "code",
   "execution_count": 31,
   "id": "66e013de",
   "metadata": {},
   "outputs": [
    {
     "data": {
      "text/plain": [
       "3.111111111111111"
      ]
     },
     "execution_count": 31,
     "metadata": {},
     "output_type": "execute_result"
    }
   ],
   "source": [
    "ndimage.variance(dados_impar)"
   ]
  },
  {
   "cell_type": "markdown",
   "id": "c7391991",
   "metadata": {},
   "source": [
    "# DESVIO PADRÃO"
   ]
  },
  {
   "cell_type": "code",
   "execution_count": 32,
   "id": "e9a610a7",
   "metadata": {},
   "outputs": [
    {
     "data": {
      "text/plain": [
       "1.7638342073763937"
      ]
     },
     "execution_count": 32,
     "metadata": {},
     "output_type": "execute_result"
    }
   ],
   "source": [
    "dp = math.sqrt(v)\n",
    "dp"
   ]
  },
  {
   "cell_type": "markdown",
   "id": "221dfae6",
   "metadata": {},
   "source": [
    "Bibliotecas"
   ]
  },
  {
   "cell_type": "markdown",
   "id": "592b94ea",
   "metadata": {},
   "source": [
    "Numpy:"
   ]
  },
  {
   "cell_type": "code",
   "execution_count": 33,
   "id": "db4aa68f",
   "metadata": {},
   "outputs": [
    {
     "data": {
      "text/plain": [
       "1.7638342073763937"
      ]
     },
     "execution_count": 33,
     "metadata": {},
     "output_type": "execute_result"
    }
   ],
   "source": [
    "np.std(dados_impar)"
   ]
  },
  {
   "cell_type": "markdown",
   "id": "686d8f18",
   "metadata": {},
   "source": [
    "Stats:"
   ]
  },
  {
   "cell_type": "code",
   "execution_count": 37,
   "id": "1bf11afb",
   "metadata": {},
   "outputs": [
    {
     "data": {
      "text/plain": [
       "1.7638342073763937"
      ]
     },
     "execution_count": 37,
     "metadata": {},
     "output_type": "execute_result"
    }
   ],
   "source": [
    "stats.tstd(dados_impar, ddof = 0)"
   ]
  },
  {
   "cell_type": "markdown",
   "id": "a6746d3a",
   "metadata": {},
   "source": [
    "# COEFICIENTE DE VARIAÇÃO"
   ]
  },
  {
   "cell_type": "code",
   "execution_count": 43,
   "id": "e22577db",
   "metadata": {},
   "outputs": [
    {
     "data": {
      "text/plain": [
       "1.1528328152786886"
      ]
     },
     "execution_count": 43,
     "metadata": {},
     "output_type": "execute_result"
    }
   ],
   "source": [
    "cv = (dp / media) * 100\n",
    "cv"
   ]
  },
  {
   "cell_type": "markdown",
   "id": "b3804b14",
   "metadata": {},
   "source": [
    "Bibliotecas:"
   ]
  },
  {
   "cell_type": "markdown",
   "id": "4ac1abbd",
   "metadata": {},
   "source": [
    "Scipy:"
   ]
  },
  {
   "cell_type": "code",
   "execution_count": 45,
   "id": "90d6d504",
   "metadata": {},
   "outputs": [
    {
     "data": {
      "text/plain": [
       "1.1528328152786886"
      ]
     },
     "execution_count": 45,
     "metadata": {},
     "output_type": "execute_result"
    }
   ],
   "source": [
    "stats.variation(dados_impar) * 100"
   ]
  },
  {
   "cell_type": "code",
   "execution_count": 40,
   "id": "49f18ae3",
   "metadata": {},
   "outputs": [],
   "source": [
    "def get_v_dp_cv(dataset):\n",
    "    media = dataset.mean()\n",
    "    desvio = abs(dataset - media)\n",
    "    desvio = desvio ** 2\n",
    "    soma_desvio = desvio.sum()\n",
    "    v = soma_desvio / len(dataset)\n",
    "    dp = math.sqrt(v)\n",
    "    cv = (dp / media) * 100\n",
    "    return v, dp, cv"
   ]
  },
  {
   "cell_type": "code",
   "execution_count": 42,
   "id": "1c23fd78",
   "metadata": {},
   "outputs": [
    {
     "data": {
      "text/plain": [
       "(3.111111111111111, 1.7638342073763937, 1.1528328152786886)"
      ]
     },
     "execution_count": 42,
     "metadata": {},
     "output_type": "execute_result"
    }
   ],
   "source": [
    "get_v_dp_cv(dados_impar)"
   ]
  },
  {
   "cell_type": "code",
   "execution_count": null,
   "id": "700db8c0",
   "metadata": {},
   "outputs": [],
   "source": []
  }
 ],
 "metadata": {
  "kernelspec": {
   "display_name": "Python 3 (ipykernel)",
   "language": "python",
   "name": "python3"
  },
  "language_info": {
   "codemirror_mode": {
    "name": "ipython",
    "version": 3
   },
   "file_extension": ".py",
   "mimetype": "text/x-python",
   "name": "python",
   "nbconvert_exporter": "python",
   "pygments_lexer": "ipython3",
   "version": "3.11.5"
  }
 },
 "nbformat": 4,
 "nbformat_minor": 5
}
